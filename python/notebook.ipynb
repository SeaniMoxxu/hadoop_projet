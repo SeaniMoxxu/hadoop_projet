{
 "cells": [
  {
   "cell_type": "code",
   "id": "initial_id",
   "metadata": {
    "collapsed": true,
    "ExecuteTime": {
     "end_time": "2024-07-15T13:51:11.888785Z",
     "start_time": "2024-07-15T13:51:11.886389Z"
    }
   },
   "source": [
    "from pyspark.sql import SparkSession\n",
    "from pyspark.sql.functions import split, explode, col,when,avg, count\n",
    "\n",
    "import plotly.express as px"
   ],
   "outputs": [],
   "execution_count": 27
  },
  {
   "metadata": {
    "ExecuteTime": {
     "end_time": "2024-07-15T13:44:31.093269Z",
     "start_time": "2024-07-15T13:44:30.973926Z"
    }
   },
   "cell_type": "code",
   "source": [
    "# Créer une session Spark\n",
    "spark = SparkSession.builder \\\n",
    "    .appName(\"PySpark HDFS Example\") \\\n",
    "    .config(\"spark.hadoop.fs.defaultFS\", \"hdfs://localhost:9000\") \\\n",
    "    .getOrCreate()"
   ],
   "id": "8b13e83cf58aaf3d",
   "outputs": [],
   "execution_count": 17
  },
  {
   "metadata": {
    "ExecuteTime": {
     "end_time": "2024-07-15T13:44:31.393726Z",
     "start_time": "2024-07-15T13:44:31.095394Z"
    }
   },
   "cell_type": "code",
   "source": "df = spark.read.csv(\"hdfs://localhost:9000/user/hadoop/imdb-movies-dataset.csv\", header=True, inferSchema=True)\n",
   "id": "13b80cf21da9f56b",
   "outputs": [],
   "execution_count": 18
  },
  {
   "metadata": {
    "ExecuteTime": {
     "end_time": "2024-07-15T13:44:32.392374Z",
     "start_time": "2024-07-15T13:44:31.395751Z"
    }
   },
   "cell_type": "code",
   "source": "df.show(20000)",
   "id": "78148dea6589d332",
   "outputs": [
    {
     "name": "stderr",
     "output_type": "stream",
     "text": [
      "IOPub data rate exceeded.\n",
      "The Jupyter server will temporarily stop sending output\n",
      "to the client in order to avoid crashing it.\n",
      "To change this limit, set the config variable\n",
      "`--ServerApp.iopub_data_rate_limit`.\n",
      "\n",
      "Current values:\n",
      "ServerApp.iopub_data_rate_limit=1000000.0 (bytes/sec)\n",
      "ServerApp.rate_limit_window=3.0 (secs)\n",
      "\n"
     ]
    }
   ],
   "execution_count": 19
  },
  {
   "metadata": {
    "ExecuteTime": {
     "end_time": "2024-07-15T13:44:33.425704Z",
     "start_time": "2024-07-15T13:44:32.393774Z"
    }
   },
   "cell_type": "code",
   "source": [
    "# Convertir les colonnes 'Metascore' et 'Rank' en type numérique si nécessaire\n",
    "df = df.withColumn(\"Metascore\", col(\"Metascore\").cast(\"float\"))\n",
    "df = df.withColumn(\"Rating\", col(\"Rating\").cast(\"float\"))\n",
    "\n",
    "# Création de la nouvelle colonne en utilisant une expression\n",
    "df = df.withColumn(\"average_rank\", ((col(\"Metascore\") / 10) + col(\"Rating\")) / 2)\n",
    "df.show(20000)"
   ],
   "id": "88917fd4e9af822d",
   "outputs": [
    {
     "name": "stderr",
     "output_type": "stream",
     "text": [
      "IOPub data rate exceeded.\n",
      "The Jupyter server will temporarily stop sending output\n",
      "to the client in order to avoid crashing it.\n",
      "To change this limit, set the config variable\n",
      "`--ServerApp.iopub_data_rate_limit`.\n",
      "\n",
      "Current values:\n",
      "ServerApp.iopub_data_rate_limit=1000000.0 (bytes/sec)\n",
      "ServerApp.rate_limit_window=3.0 (secs)\n",
      "\n"
     ]
    }
   ],
   "execution_count": 20
  },
  {
   "metadata": {
    "ExecuteTime": {
     "end_time": "2024-07-15T13:44:33.740483Z",
     "start_time": "2024-07-15T13:44:33.427932Z"
    }
   },
   "cell_type": "code",
   "source": [
    "df= df.dropna()\n",
    "average_by_certificate = df.groupBy(\"Certificate\").avg(\"average_rank\").orderBy(\"Certificate\")\n",
    "average_by_certificate_pandas = average_by_certificate.toPandas()\n",
    "# Création du graphique à barres\n",
    "fig = px.bar(average_by_certificate_pandas, x='Certificate', y='avg(average_rank)',\n",
    "             title='Moyenne de average_rank par Certificate',\n",
    "             labels={'avg(average_rank)': 'Moyenne de average_rank'})\n",
    "\n",
    "# Affichage du graphique\n",
    "fig.show()"
   ],
   "id": "ff3d4ccb7c840",
   "outputs": [
    {
     "data": {
      "application/vnd.plotly.v1+json": {
       "data": [
        {
         "alignmentgroup": "True",
         "hovertemplate": "Certificate=%{x}<br>Moyenne de average_rank=%{y}<extra></extra>",
         "legendgroup": "",
         "marker": {
          "color": "#636efa",
          "pattern": {
           "shape": ""
          }
         },
         "name": "",
         "offsetgroup": "",
         "orientation": "v",
         "showlegend": false,
         "textposition": "auto",
         "x": [
          "(Banned)",
          "12",
          "12+",
          "13",
          "15+",
          "16",
          "16+",
          "18",
          "18+",
          "7",
          "A",
          "All",
          "G",
          "GP",
          "NC-17",
          "Not Rated",
          "PG",
          "PG-13",
          "R",
          "U",
          "U/A",
          "U/A 16+",
          "UA",
          "UA 13+",
          "UA 16+",
          "UA 7+",
          "Unrated"
         ],
         "xaxis": "x",
         "y": [
          6.404999990463257,
          4.9,
          6.592307688639713,
          6.111594194605731,
          5.932000036239623,
          6.186666664547389,
          5.400000095367432,
          6.192857143140975,
          5.099999976158141,
          6.3232142771993365,
          6.186979166773104,
          5.975000007947286,
          7.046666660308838,
          6.3000000476837155,
          5.375,
          6.361397057245759,
          5.91343283724429,
          5.718596491750918,
          6.0812499997720995,
          6.393586394653688,
          7.774999928474426,
          4.600000095367432,
          6.1348375450618,
          5.781666674613953,
          6.0369565124097075,
          5.658333325386048,
          6.900000015894572
         ],
         "yaxis": "y",
         "type": "bar"
        }
       ],
       "layout": {
        "template": {
         "data": {
          "histogram2dcontour": [
           {
            "type": "histogram2dcontour",
            "colorbar": {
             "outlinewidth": 0,
             "ticks": ""
            },
            "colorscale": [
             [
              0.0,
              "#0d0887"
             ],
             [
              0.1111111111111111,
              "#46039f"
             ],
             [
              0.2222222222222222,
              "#7201a8"
             ],
             [
              0.3333333333333333,
              "#9c179e"
             ],
             [
              0.4444444444444444,
              "#bd3786"
             ],
             [
              0.5555555555555556,
              "#d8576b"
             ],
             [
              0.6666666666666666,
              "#ed7953"
             ],
             [
              0.7777777777777778,
              "#fb9f3a"
             ],
             [
              0.8888888888888888,
              "#fdca26"
             ],
             [
              1.0,
              "#f0f921"
             ]
            ]
           }
          ],
          "choropleth": [
           {
            "type": "choropleth",
            "colorbar": {
             "outlinewidth": 0,
             "ticks": ""
            }
           }
          ],
          "histogram2d": [
           {
            "type": "histogram2d",
            "colorbar": {
             "outlinewidth": 0,
             "ticks": ""
            },
            "colorscale": [
             [
              0.0,
              "#0d0887"
             ],
             [
              0.1111111111111111,
              "#46039f"
             ],
             [
              0.2222222222222222,
              "#7201a8"
             ],
             [
              0.3333333333333333,
              "#9c179e"
             ],
             [
              0.4444444444444444,
              "#bd3786"
             ],
             [
              0.5555555555555556,
              "#d8576b"
             ],
             [
              0.6666666666666666,
              "#ed7953"
             ],
             [
              0.7777777777777778,
              "#fb9f3a"
             ],
             [
              0.8888888888888888,
              "#fdca26"
             ],
             [
              1.0,
              "#f0f921"
             ]
            ]
           }
          ],
          "heatmap": [
           {
            "type": "heatmap",
            "colorbar": {
             "outlinewidth": 0,
             "ticks": ""
            },
            "colorscale": [
             [
              0.0,
              "#0d0887"
             ],
             [
              0.1111111111111111,
              "#46039f"
             ],
             [
              0.2222222222222222,
              "#7201a8"
             ],
             [
              0.3333333333333333,
              "#9c179e"
             ],
             [
              0.4444444444444444,
              "#bd3786"
             ],
             [
              0.5555555555555556,
              "#d8576b"
             ],
             [
              0.6666666666666666,
              "#ed7953"
             ],
             [
              0.7777777777777778,
              "#fb9f3a"
             ],
             [
              0.8888888888888888,
              "#fdca26"
             ],
             [
              1.0,
              "#f0f921"
             ]
            ]
           }
          ],
          "heatmapgl": [
           {
            "type": "heatmapgl",
            "colorbar": {
             "outlinewidth": 0,
             "ticks": ""
            },
            "colorscale": [
             [
              0.0,
              "#0d0887"
             ],
             [
              0.1111111111111111,
              "#46039f"
             ],
             [
              0.2222222222222222,
              "#7201a8"
             ],
             [
              0.3333333333333333,
              "#9c179e"
             ],
             [
              0.4444444444444444,
              "#bd3786"
             ],
             [
              0.5555555555555556,
              "#d8576b"
             ],
             [
              0.6666666666666666,
              "#ed7953"
             ],
             [
              0.7777777777777778,
              "#fb9f3a"
             ],
             [
              0.8888888888888888,
              "#fdca26"
             ],
             [
              1.0,
              "#f0f921"
             ]
            ]
           }
          ],
          "contourcarpet": [
           {
            "type": "contourcarpet",
            "colorbar": {
             "outlinewidth": 0,
             "ticks": ""
            }
           }
          ],
          "contour": [
           {
            "type": "contour",
            "colorbar": {
             "outlinewidth": 0,
             "ticks": ""
            },
            "colorscale": [
             [
              0.0,
              "#0d0887"
             ],
             [
              0.1111111111111111,
              "#46039f"
             ],
             [
              0.2222222222222222,
              "#7201a8"
             ],
             [
              0.3333333333333333,
              "#9c179e"
             ],
             [
              0.4444444444444444,
              "#bd3786"
             ],
             [
              0.5555555555555556,
              "#d8576b"
             ],
             [
              0.6666666666666666,
              "#ed7953"
             ],
             [
              0.7777777777777778,
              "#fb9f3a"
             ],
             [
              0.8888888888888888,
              "#fdca26"
             ],
             [
              1.0,
              "#f0f921"
             ]
            ]
           }
          ],
          "surface": [
           {
            "type": "surface",
            "colorbar": {
             "outlinewidth": 0,
             "ticks": ""
            },
            "colorscale": [
             [
              0.0,
              "#0d0887"
             ],
             [
              0.1111111111111111,
              "#46039f"
             ],
             [
              0.2222222222222222,
              "#7201a8"
             ],
             [
              0.3333333333333333,
              "#9c179e"
             ],
             [
              0.4444444444444444,
              "#bd3786"
             ],
             [
              0.5555555555555556,
              "#d8576b"
             ],
             [
              0.6666666666666666,
              "#ed7953"
             ],
             [
              0.7777777777777778,
              "#fb9f3a"
             ],
             [
              0.8888888888888888,
              "#fdca26"
             ],
             [
              1.0,
              "#f0f921"
             ]
            ]
           }
          ],
          "mesh3d": [
           {
            "type": "mesh3d",
            "colorbar": {
             "outlinewidth": 0,
             "ticks": ""
            }
           }
          ],
          "scatter": [
           {
            "marker": {
             "line": {
              "color": "#283442"
             }
            },
            "type": "scatter"
           }
          ],
          "parcoords": [
           {
            "type": "parcoords",
            "line": {
             "colorbar": {
              "outlinewidth": 0,
              "ticks": ""
             }
            }
           }
          ],
          "scatterpolargl": [
           {
            "type": "scatterpolargl",
            "marker": {
             "colorbar": {
              "outlinewidth": 0,
              "ticks": ""
             }
            }
           }
          ],
          "bar": [
           {
            "error_x": {
             "color": "#f2f5fa"
            },
            "error_y": {
             "color": "#f2f5fa"
            },
            "marker": {
             "line": {
              "color": "rgb(17,17,17)",
              "width": 0.5
             },
             "pattern": {
              "fillmode": "overlay",
              "size": 10,
              "solidity": 0.2
             }
            },
            "type": "bar"
           }
          ],
          "scattergeo": [
           {
            "type": "scattergeo",
            "marker": {
             "colorbar": {
              "outlinewidth": 0,
              "ticks": ""
             }
            }
           }
          ],
          "scatterpolar": [
           {
            "type": "scatterpolar",
            "marker": {
             "colorbar": {
              "outlinewidth": 0,
              "ticks": ""
             }
            }
           }
          ],
          "histogram": [
           {
            "marker": {
             "pattern": {
              "fillmode": "overlay",
              "size": 10,
              "solidity": 0.2
             }
            },
            "type": "histogram"
           }
          ],
          "scattergl": [
           {
            "marker": {
             "line": {
              "color": "#283442"
             }
            },
            "type": "scattergl"
           }
          ],
          "scatter3d": [
           {
            "type": "scatter3d",
            "line": {
             "colorbar": {
              "outlinewidth": 0,
              "ticks": ""
             }
            },
            "marker": {
             "colorbar": {
              "outlinewidth": 0,
              "ticks": ""
             }
            }
           }
          ],
          "scattermapbox": [
           {
            "type": "scattermapbox",
            "marker": {
             "colorbar": {
              "outlinewidth": 0,
              "ticks": ""
             }
            }
           }
          ],
          "scatterternary": [
           {
            "type": "scatterternary",
            "marker": {
             "colorbar": {
              "outlinewidth": 0,
              "ticks": ""
             }
            }
           }
          ],
          "scattercarpet": [
           {
            "type": "scattercarpet",
            "marker": {
             "colorbar": {
              "outlinewidth": 0,
              "ticks": ""
             }
            }
           }
          ],
          "carpet": [
           {
            "aaxis": {
             "endlinecolor": "#A2B1C6",
             "gridcolor": "#506784",
             "linecolor": "#506784",
             "minorgridcolor": "#506784",
             "startlinecolor": "#A2B1C6"
            },
            "baxis": {
             "endlinecolor": "#A2B1C6",
             "gridcolor": "#506784",
             "linecolor": "#506784",
             "minorgridcolor": "#506784",
             "startlinecolor": "#A2B1C6"
            },
            "type": "carpet"
           }
          ],
          "table": [
           {
            "cells": {
             "fill": {
              "color": "#506784"
             },
             "line": {
              "color": "rgb(17,17,17)"
             }
            },
            "header": {
             "fill": {
              "color": "#2a3f5f"
             },
             "line": {
              "color": "rgb(17,17,17)"
             }
            },
            "type": "table"
           }
          ],
          "barpolar": [
           {
            "marker": {
             "line": {
              "color": "rgb(17,17,17)",
              "width": 0.5
             },
             "pattern": {
              "fillmode": "overlay",
              "size": 10,
              "solidity": 0.2
             }
            },
            "type": "barpolar"
           }
          ],
          "pie": [
           {
            "automargin": true,
            "type": "pie"
           }
          ]
         },
         "layout": {
          "autotypenumbers": "strict",
          "colorway": [
           "#636efa",
           "#EF553B",
           "#00cc96",
           "#ab63fa",
           "#FFA15A",
           "#19d3f3",
           "#FF6692",
           "#B6E880",
           "#FF97FF",
           "#FECB52"
          ],
          "font": {
           "color": "#f2f5fa"
          },
          "hovermode": "closest",
          "hoverlabel": {
           "align": "left"
          },
          "paper_bgcolor": "rgb(17,17,17)",
          "plot_bgcolor": "rgb(17,17,17)",
          "polar": {
           "bgcolor": "rgb(17,17,17)",
           "angularaxis": {
            "gridcolor": "#506784",
            "linecolor": "#506784",
            "ticks": ""
           },
           "radialaxis": {
            "gridcolor": "#506784",
            "linecolor": "#506784",
            "ticks": ""
           }
          },
          "ternary": {
           "bgcolor": "rgb(17,17,17)",
           "aaxis": {
            "gridcolor": "#506784",
            "linecolor": "#506784",
            "ticks": ""
           },
           "baxis": {
            "gridcolor": "#506784",
            "linecolor": "#506784",
            "ticks": ""
           },
           "caxis": {
            "gridcolor": "#506784",
            "linecolor": "#506784",
            "ticks": ""
           }
          },
          "coloraxis": {
           "colorbar": {
            "outlinewidth": 0,
            "ticks": ""
           }
          },
          "colorscale": {
           "sequential": [
            [
             0.0,
             "#0d0887"
            ],
            [
             0.1111111111111111,
             "#46039f"
            ],
            [
             0.2222222222222222,
             "#7201a8"
            ],
            [
             0.3333333333333333,
             "#9c179e"
            ],
            [
             0.4444444444444444,
             "#bd3786"
            ],
            [
             0.5555555555555556,
             "#d8576b"
            ],
            [
             0.6666666666666666,
             "#ed7953"
            ],
            [
             0.7777777777777778,
             "#fb9f3a"
            ],
            [
             0.8888888888888888,
             "#fdca26"
            ],
            [
             1.0,
             "#f0f921"
            ]
           ],
           "sequentialminus": [
            [
             0.0,
             "#0d0887"
            ],
            [
             0.1111111111111111,
             "#46039f"
            ],
            [
             0.2222222222222222,
             "#7201a8"
            ],
            [
             0.3333333333333333,
             "#9c179e"
            ],
            [
             0.4444444444444444,
             "#bd3786"
            ],
            [
             0.5555555555555556,
             "#d8576b"
            ],
            [
             0.6666666666666666,
             "#ed7953"
            ],
            [
             0.7777777777777778,
             "#fb9f3a"
            ],
            [
             0.8888888888888888,
             "#fdca26"
            ],
            [
             1.0,
             "#f0f921"
            ]
           ],
           "diverging": [
            [
             0,
             "#8e0152"
            ],
            [
             0.1,
             "#c51b7d"
            ],
            [
             0.2,
             "#de77ae"
            ],
            [
             0.3,
             "#f1b6da"
            ],
            [
             0.4,
             "#fde0ef"
            ],
            [
             0.5,
             "#f7f7f7"
            ],
            [
             0.6,
             "#e6f5d0"
            ],
            [
             0.7,
             "#b8e186"
            ],
            [
             0.8,
             "#7fbc41"
            ],
            [
             0.9,
             "#4d9221"
            ],
            [
             1,
             "#276419"
            ]
           ]
          },
          "xaxis": {
           "gridcolor": "#283442",
           "linecolor": "#506784",
           "ticks": "",
           "title": {
            "standoff": 15
           },
           "zerolinecolor": "#283442",
           "automargin": true,
           "zerolinewidth": 2
          },
          "yaxis": {
           "gridcolor": "#283442",
           "linecolor": "#506784",
           "ticks": "",
           "title": {
            "standoff": 15
           },
           "zerolinecolor": "#283442",
           "automargin": true,
           "zerolinewidth": 2
          },
          "scene": {
           "xaxis": {
            "backgroundcolor": "rgb(17,17,17)",
            "gridcolor": "#506784",
            "linecolor": "#506784",
            "showbackground": true,
            "ticks": "",
            "zerolinecolor": "#C8D4E3",
            "gridwidth": 2
           },
           "yaxis": {
            "backgroundcolor": "rgb(17,17,17)",
            "gridcolor": "#506784",
            "linecolor": "#506784",
            "showbackground": true,
            "ticks": "",
            "zerolinecolor": "#C8D4E3",
            "gridwidth": 2
           },
           "zaxis": {
            "backgroundcolor": "rgb(17,17,17)",
            "gridcolor": "#506784",
            "linecolor": "#506784",
            "showbackground": true,
            "ticks": "",
            "zerolinecolor": "#C8D4E3",
            "gridwidth": 2
           }
          },
          "shapedefaults": {
           "line": {
            "color": "#f2f5fa"
           }
          },
          "annotationdefaults": {
           "arrowcolor": "#f2f5fa",
           "arrowhead": 0,
           "arrowwidth": 1
          },
          "geo": {
           "bgcolor": "rgb(17,17,17)",
           "landcolor": "rgb(17,17,17)",
           "subunitcolor": "#506784",
           "showland": true,
           "showlakes": true,
           "lakecolor": "rgb(17,17,17)"
          },
          "title": {
           "x": 0.05
          },
          "updatemenudefaults": {
           "bgcolor": "#506784",
           "borderwidth": 0
          },
          "sliderdefaults": {
           "bgcolor": "#C8D4E3",
           "borderwidth": 1,
           "bordercolor": "rgb(17,17,17)",
           "tickwidth": 0
          },
          "mapbox": {
           "style": "dark"
          }
         }
        },
        "xaxis": {
         "anchor": "y",
         "domain": [
          0.0,
          1.0
         ],
         "title": {
          "text": "Certificate"
         }
        },
        "yaxis": {
         "anchor": "x",
         "domain": [
          0.0,
          1.0
         ],
         "title": {
          "text": "Moyenne de average_rank"
         }
        },
        "legend": {
         "tracegroupgap": 0
        },
        "title": {
         "text": "Moyenne de average_rank par Certificate"
        },
        "barmode": "relative"
       },
       "config": {
        "plotlyServerURL": "https://plot.ly"
       }
      },
      "text/html": [
       "<div>                            <div id=\"b6174252-a6ba-4641-ab7a-28abc2c1c8a5\" class=\"plotly-graph-div\" style=\"height:525px; width:100%;\"></div>            <script type=\"text/javascript\">                require([\"plotly\"], function(Plotly) {                    window.PLOTLYENV=window.PLOTLYENV || {};                                    if (document.getElementById(\"b6174252-a6ba-4641-ab7a-28abc2c1c8a5\")) {                    Plotly.newPlot(                        \"b6174252-a6ba-4641-ab7a-28abc2c1c8a5\",                        [{\"alignmentgroup\":\"True\",\"hovertemplate\":\"Certificate=%{x}\\u003cbr\\u003eMoyenne de average_rank=%{y}\\u003cextra\\u003e\\u003c\\u002fextra\\u003e\",\"legendgroup\":\"\",\"marker\":{\"color\":\"#636efa\",\"pattern\":{\"shape\":\"\"}},\"name\":\"\",\"offsetgroup\":\"\",\"orientation\":\"v\",\"showlegend\":false,\"textposition\":\"auto\",\"x\":[\"(Banned)\",\"12\",\"12+\",\"13\",\"15+\",\"16\",\"16+\",\"18\",\"18+\",\"7\",\"A\",\"All\",\"G\",\"GP\",\"NC-17\",\"Not Rated\",\"PG\",\"PG-13\",\"R\",\"U\",\"U\\u002fA\",\"U\\u002fA 16+\",\"UA\",\"UA 13+\",\"UA 16+\",\"UA 7+\",\"Unrated\"],\"xaxis\":\"x\",\"y\":[6.404999990463257,4.9,6.592307688639713,6.111594194605731,5.932000036239623,6.186666664547389,5.400000095367432,6.192857143140975,5.099999976158141,6.3232142771993365,6.186979166773104,5.975000007947286,7.046666660308838,6.3000000476837155,5.375,6.361397057245759,5.91343283724429,5.718596491750918,6.0812499997720995,6.393586394653688,7.774999928474426,4.600000095367432,6.1348375450618,5.781666674613953,6.0369565124097075,5.658333325386048,6.900000015894572],\"yaxis\":\"y\",\"type\":\"bar\"}],                        {\"template\":{\"data\":{\"histogram2dcontour\":[{\"type\":\"histogram2dcontour\",\"colorbar\":{\"outlinewidth\":0,\"ticks\":\"\"},\"colorscale\":[[0.0,\"#0d0887\"],[0.1111111111111111,\"#46039f\"],[0.2222222222222222,\"#7201a8\"],[0.3333333333333333,\"#9c179e\"],[0.4444444444444444,\"#bd3786\"],[0.5555555555555556,\"#d8576b\"],[0.6666666666666666,\"#ed7953\"],[0.7777777777777778,\"#fb9f3a\"],[0.8888888888888888,\"#fdca26\"],[1.0,\"#f0f921\"]]}],\"choropleth\":[{\"type\":\"choropleth\",\"colorbar\":{\"outlinewidth\":0,\"ticks\":\"\"}}],\"histogram2d\":[{\"type\":\"histogram2d\",\"colorbar\":{\"outlinewidth\":0,\"ticks\":\"\"},\"colorscale\":[[0.0,\"#0d0887\"],[0.1111111111111111,\"#46039f\"],[0.2222222222222222,\"#7201a8\"],[0.3333333333333333,\"#9c179e\"],[0.4444444444444444,\"#bd3786\"],[0.5555555555555556,\"#d8576b\"],[0.6666666666666666,\"#ed7953\"],[0.7777777777777778,\"#fb9f3a\"],[0.8888888888888888,\"#fdca26\"],[1.0,\"#f0f921\"]]}],\"heatmap\":[{\"type\":\"heatmap\",\"colorbar\":{\"outlinewidth\":0,\"ticks\":\"\"},\"colorscale\":[[0.0,\"#0d0887\"],[0.1111111111111111,\"#46039f\"],[0.2222222222222222,\"#7201a8\"],[0.3333333333333333,\"#9c179e\"],[0.4444444444444444,\"#bd3786\"],[0.5555555555555556,\"#d8576b\"],[0.6666666666666666,\"#ed7953\"],[0.7777777777777778,\"#fb9f3a\"],[0.8888888888888888,\"#fdca26\"],[1.0,\"#f0f921\"]]}],\"heatmapgl\":[{\"type\":\"heatmapgl\",\"colorbar\":{\"outlinewidth\":0,\"ticks\":\"\"},\"colorscale\":[[0.0,\"#0d0887\"],[0.1111111111111111,\"#46039f\"],[0.2222222222222222,\"#7201a8\"],[0.3333333333333333,\"#9c179e\"],[0.4444444444444444,\"#bd3786\"],[0.5555555555555556,\"#d8576b\"],[0.6666666666666666,\"#ed7953\"],[0.7777777777777778,\"#fb9f3a\"],[0.8888888888888888,\"#fdca26\"],[1.0,\"#f0f921\"]]}],\"contourcarpet\":[{\"type\":\"contourcarpet\",\"colorbar\":{\"outlinewidth\":0,\"ticks\":\"\"}}],\"contour\":[{\"type\":\"contour\",\"colorbar\":{\"outlinewidth\":0,\"ticks\":\"\"},\"colorscale\":[[0.0,\"#0d0887\"],[0.1111111111111111,\"#46039f\"],[0.2222222222222222,\"#7201a8\"],[0.3333333333333333,\"#9c179e\"],[0.4444444444444444,\"#bd3786\"],[0.5555555555555556,\"#d8576b\"],[0.6666666666666666,\"#ed7953\"],[0.7777777777777778,\"#fb9f3a\"],[0.8888888888888888,\"#fdca26\"],[1.0,\"#f0f921\"]]}],\"surface\":[{\"type\":\"surface\",\"colorbar\":{\"outlinewidth\":0,\"ticks\":\"\"},\"colorscale\":[[0.0,\"#0d0887\"],[0.1111111111111111,\"#46039f\"],[0.2222222222222222,\"#7201a8\"],[0.3333333333333333,\"#9c179e\"],[0.4444444444444444,\"#bd3786\"],[0.5555555555555556,\"#d8576b\"],[0.6666666666666666,\"#ed7953\"],[0.7777777777777778,\"#fb9f3a\"],[0.8888888888888888,\"#fdca26\"],[1.0,\"#f0f921\"]]}],\"mesh3d\":[{\"type\":\"mesh3d\",\"colorbar\":{\"outlinewidth\":0,\"ticks\":\"\"}}],\"scatter\":[{\"marker\":{\"line\":{\"color\":\"#283442\"}},\"type\":\"scatter\"}],\"parcoords\":[{\"type\":\"parcoords\",\"line\":{\"colorbar\":{\"outlinewidth\":0,\"ticks\":\"\"}}}],\"scatterpolargl\":[{\"type\":\"scatterpolargl\",\"marker\":{\"colorbar\":{\"outlinewidth\":0,\"ticks\":\"\"}}}],\"bar\":[{\"error_x\":{\"color\":\"#f2f5fa\"},\"error_y\":{\"color\":\"#f2f5fa\"},\"marker\":{\"line\":{\"color\":\"rgb(17,17,17)\",\"width\":0.5},\"pattern\":{\"fillmode\":\"overlay\",\"size\":10,\"solidity\":0.2}},\"type\":\"bar\"}],\"scattergeo\":[{\"type\":\"scattergeo\",\"marker\":{\"colorbar\":{\"outlinewidth\":0,\"ticks\":\"\"}}}],\"scatterpolar\":[{\"type\":\"scatterpolar\",\"marker\":{\"colorbar\":{\"outlinewidth\":0,\"ticks\":\"\"}}}],\"histogram\":[{\"marker\":{\"pattern\":{\"fillmode\":\"overlay\",\"size\":10,\"solidity\":0.2}},\"type\":\"histogram\"}],\"scattergl\":[{\"marker\":{\"line\":{\"color\":\"#283442\"}},\"type\":\"scattergl\"}],\"scatter3d\":[{\"type\":\"scatter3d\",\"line\":{\"colorbar\":{\"outlinewidth\":0,\"ticks\":\"\"}},\"marker\":{\"colorbar\":{\"outlinewidth\":0,\"ticks\":\"\"}}}],\"scattermapbox\":[{\"type\":\"scattermapbox\",\"marker\":{\"colorbar\":{\"outlinewidth\":0,\"ticks\":\"\"}}}],\"scatterternary\":[{\"type\":\"scatterternary\",\"marker\":{\"colorbar\":{\"outlinewidth\":0,\"ticks\":\"\"}}}],\"scattercarpet\":[{\"type\":\"scattercarpet\",\"marker\":{\"colorbar\":{\"outlinewidth\":0,\"ticks\":\"\"}}}],\"carpet\":[{\"aaxis\":{\"endlinecolor\":\"#A2B1C6\",\"gridcolor\":\"#506784\",\"linecolor\":\"#506784\",\"minorgridcolor\":\"#506784\",\"startlinecolor\":\"#A2B1C6\"},\"baxis\":{\"endlinecolor\":\"#A2B1C6\",\"gridcolor\":\"#506784\",\"linecolor\":\"#506784\",\"minorgridcolor\":\"#506784\",\"startlinecolor\":\"#A2B1C6\"},\"type\":\"carpet\"}],\"table\":[{\"cells\":{\"fill\":{\"color\":\"#506784\"},\"line\":{\"color\":\"rgb(17,17,17)\"}},\"header\":{\"fill\":{\"color\":\"#2a3f5f\"},\"line\":{\"color\":\"rgb(17,17,17)\"}},\"type\":\"table\"}],\"barpolar\":[{\"marker\":{\"line\":{\"color\":\"rgb(17,17,17)\",\"width\":0.5},\"pattern\":{\"fillmode\":\"overlay\",\"size\":10,\"solidity\":0.2}},\"type\":\"barpolar\"}],\"pie\":[{\"automargin\":true,\"type\":\"pie\"}]},\"layout\":{\"autotypenumbers\":\"strict\",\"colorway\":[\"#636efa\",\"#EF553B\",\"#00cc96\",\"#ab63fa\",\"#FFA15A\",\"#19d3f3\",\"#FF6692\",\"#B6E880\",\"#FF97FF\",\"#FECB52\"],\"font\":{\"color\":\"#f2f5fa\"},\"hovermode\":\"closest\",\"hoverlabel\":{\"align\":\"left\"},\"paper_bgcolor\":\"rgb(17,17,17)\",\"plot_bgcolor\":\"rgb(17,17,17)\",\"polar\":{\"bgcolor\":\"rgb(17,17,17)\",\"angularaxis\":{\"gridcolor\":\"#506784\",\"linecolor\":\"#506784\",\"ticks\":\"\"},\"radialaxis\":{\"gridcolor\":\"#506784\",\"linecolor\":\"#506784\",\"ticks\":\"\"}},\"ternary\":{\"bgcolor\":\"rgb(17,17,17)\",\"aaxis\":{\"gridcolor\":\"#506784\",\"linecolor\":\"#506784\",\"ticks\":\"\"},\"baxis\":{\"gridcolor\":\"#506784\",\"linecolor\":\"#506784\",\"ticks\":\"\"},\"caxis\":{\"gridcolor\":\"#506784\",\"linecolor\":\"#506784\",\"ticks\":\"\"}},\"coloraxis\":{\"colorbar\":{\"outlinewidth\":0,\"ticks\":\"\"}},\"colorscale\":{\"sequential\":[[0.0,\"#0d0887\"],[0.1111111111111111,\"#46039f\"],[0.2222222222222222,\"#7201a8\"],[0.3333333333333333,\"#9c179e\"],[0.4444444444444444,\"#bd3786\"],[0.5555555555555556,\"#d8576b\"],[0.6666666666666666,\"#ed7953\"],[0.7777777777777778,\"#fb9f3a\"],[0.8888888888888888,\"#fdca26\"],[1.0,\"#f0f921\"]],\"sequentialminus\":[[0.0,\"#0d0887\"],[0.1111111111111111,\"#46039f\"],[0.2222222222222222,\"#7201a8\"],[0.3333333333333333,\"#9c179e\"],[0.4444444444444444,\"#bd3786\"],[0.5555555555555556,\"#d8576b\"],[0.6666666666666666,\"#ed7953\"],[0.7777777777777778,\"#fb9f3a\"],[0.8888888888888888,\"#fdca26\"],[1.0,\"#f0f921\"]],\"diverging\":[[0,\"#8e0152\"],[0.1,\"#c51b7d\"],[0.2,\"#de77ae\"],[0.3,\"#f1b6da\"],[0.4,\"#fde0ef\"],[0.5,\"#f7f7f7\"],[0.6,\"#e6f5d0\"],[0.7,\"#b8e186\"],[0.8,\"#7fbc41\"],[0.9,\"#4d9221\"],[1,\"#276419\"]]},\"xaxis\":{\"gridcolor\":\"#283442\",\"linecolor\":\"#506784\",\"ticks\":\"\",\"title\":{\"standoff\":15},\"zerolinecolor\":\"#283442\",\"automargin\":true,\"zerolinewidth\":2},\"yaxis\":{\"gridcolor\":\"#283442\",\"linecolor\":\"#506784\",\"ticks\":\"\",\"title\":{\"standoff\":15},\"zerolinecolor\":\"#283442\",\"automargin\":true,\"zerolinewidth\":2},\"scene\":{\"xaxis\":{\"backgroundcolor\":\"rgb(17,17,17)\",\"gridcolor\":\"#506784\",\"linecolor\":\"#506784\",\"showbackground\":true,\"ticks\":\"\",\"zerolinecolor\":\"#C8D4E3\",\"gridwidth\":2},\"yaxis\":{\"backgroundcolor\":\"rgb(17,17,17)\",\"gridcolor\":\"#506784\",\"linecolor\":\"#506784\",\"showbackground\":true,\"ticks\":\"\",\"zerolinecolor\":\"#C8D4E3\",\"gridwidth\":2},\"zaxis\":{\"backgroundcolor\":\"rgb(17,17,17)\",\"gridcolor\":\"#506784\",\"linecolor\":\"#506784\",\"showbackground\":true,\"ticks\":\"\",\"zerolinecolor\":\"#C8D4E3\",\"gridwidth\":2}},\"shapedefaults\":{\"line\":{\"color\":\"#f2f5fa\"}},\"annotationdefaults\":{\"arrowcolor\":\"#f2f5fa\",\"arrowhead\":0,\"arrowwidth\":1},\"geo\":{\"bgcolor\":\"rgb(17,17,17)\",\"landcolor\":\"rgb(17,17,17)\",\"subunitcolor\":\"#506784\",\"showland\":true,\"showlakes\":true,\"lakecolor\":\"rgb(17,17,17)\"},\"title\":{\"x\":0.05},\"updatemenudefaults\":{\"bgcolor\":\"#506784\",\"borderwidth\":0},\"sliderdefaults\":{\"bgcolor\":\"#C8D4E3\",\"borderwidth\":1,\"bordercolor\":\"rgb(17,17,17)\",\"tickwidth\":0},\"mapbox\":{\"style\":\"dark\"}}},\"xaxis\":{\"anchor\":\"y\",\"domain\":[0.0,1.0],\"title\":{\"text\":\"Certificate\"}},\"yaxis\":{\"anchor\":\"x\",\"domain\":[0.0,1.0],\"title\":{\"text\":\"Moyenne de average_rank\"}},\"legend\":{\"tracegroupgap\":0},\"title\":{\"text\":\"Moyenne de average_rank par Certificate\"},\"barmode\":\"relative\"},                        {\"responsive\": true}                    ).then(function(){\n",
       "                            \n",
       "var gd = document.getElementById('b6174252-a6ba-4641-ab7a-28abc2c1c8a5');\n",
       "var x = new MutationObserver(function (mutations, observer) {{\n",
       "        var display = window.getComputedStyle(gd).display;\n",
       "        if (!display || display === 'none') {{\n",
       "            console.log([gd, 'removed!']);\n",
       "            Plotly.purge(gd);\n",
       "            observer.disconnect();\n",
       "        }}\n",
       "}});\n",
       "\n",
       "// Listen for the removal of the full notebook cells\n",
       "var notebookContainer = gd.closest('#notebook-container');\n",
       "if (notebookContainer) {{\n",
       "    x.observe(notebookContainer, {childList: true});\n",
       "}}\n",
       "\n",
       "// Listen for the clearing of the current output cell\n",
       "var outputEl = gd.closest('.output');\n",
       "if (outputEl) {{\n",
       "    x.observe(outputEl, {childList: true});\n",
       "}}\n",
       "\n",
       "                        })                };                });            </script>        </div>"
      ]
     },
     "metadata": {},
     "output_type": "display_data"
    }
   ],
   "execution_count": 21
  },
  {
   "metadata": {
    "ExecuteTime": {
     "end_time": "2024-07-15T13:44:34.040219Z",
     "start_time": "2024-07-15T13:44:33.741507Z"
    }
   },
   "cell_type": "code",
   "source": [
    "# Création de catégories de durée\n",
    "df = df.withColumn(\"Duration_Category\", \n",
    "                   when(col(\"Duration (min)\") <= 90, \"<= 90\")\n",
    "                   .when((col(\"Duration (min)\") > 90) & (col(\"Duration (min)\") <= 120), \"90 - 120\")\n",
    "                   .otherwise(\"> 120\"))\n",
    "\n",
    "# Calcul de la moyenne de average_rank pour chaque catégorie de durée\n",
    "average_by_duration = df.groupBy(\"Duration_Category\").agg(avg(\"average_rank\").alias(\"avg_average_rank\")).orderBy(\"Duration_Category\")\n",
    "\n",
    "# Convertir en DataFrame Pandas\n",
    "average_by_duration_pandas = average_by_duration.toPandas()\n",
    "\n",
    "# Création du graphique à barres\n",
    "fig = px.bar(average_by_duration_pandas, x='Duration_Category', y='avg_average_rank',\n",
    "             title='Moyenne de average_rank par Durée des Films',\n",
    "             labels={'avg_average_rank': 'Moyenne de average_rank', 'Duration_Category': 'Durée (min)'})\n",
    "\n",
    "# Affichage du graphique\n",
    "fig.show()"
   ],
   "id": "f3f5d60d780cc980",
   "outputs": [
    {
     "data": {
      "application/vnd.plotly.v1+json": {
       "data": [
        {
         "alignmentgroup": "True",
         "hovertemplate": "Durée (min)=%{x}<br>Moyenne de average_rank=%{y}<extra></extra>",
         "legendgroup": "",
         "marker": {
          "color": "#636efa",
          "pattern": {
           "shape": ""
          }
         },
         "name": "",
         "offsetgroup": "",
         "orientation": "v",
         "showlegend": false,
         "textposition": "auto",
         "x": [
          "90 - 120",
          "<= 90",
          "> 120"
         ],
         "xaxis": "x",
         "y": [
          5.996824066699524,
          5.666872421687849,
          6.777944115964238
         ],
         "yaxis": "y",
         "type": "bar"
        }
       ],
       "layout": {
        "template": {
         "data": {
          "histogram2dcontour": [
           {
            "type": "histogram2dcontour",
            "colorbar": {
             "outlinewidth": 0,
             "ticks": ""
            },
            "colorscale": [
             [
              0.0,
              "#0d0887"
             ],
             [
              0.1111111111111111,
              "#46039f"
             ],
             [
              0.2222222222222222,
              "#7201a8"
             ],
             [
              0.3333333333333333,
              "#9c179e"
             ],
             [
              0.4444444444444444,
              "#bd3786"
             ],
             [
              0.5555555555555556,
              "#d8576b"
             ],
             [
              0.6666666666666666,
              "#ed7953"
             ],
             [
              0.7777777777777778,
              "#fb9f3a"
             ],
             [
              0.8888888888888888,
              "#fdca26"
             ],
             [
              1.0,
              "#f0f921"
             ]
            ]
           }
          ],
          "choropleth": [
           {
            "type": "choropleth",
            "colorbar": {
             "outlinewidth": 0,
             "ticks": ""
            }
           }
          ],
          "histogram2d": [
           {
            "type": "histogram2d",
            "colorbar": {
             "outlinewidth": 0,
             "ticks": ""
            },
            "colorscale": [
             [
              0.0,
              "#0d0887"
             ],
             [
              0.1111111111111111,
              "#46039f"
             ],
             [
              0.2222222222222222,
              "#7201a8"
             ],
             [
              0.3333333333333333,
              "#9c179e"
             ],
             [
              0.4444444444444444,
              "#bd3786"
             ],
             [
              0.5555555555555556,
              "#d8576b"
             ],
             [
              0.6666666666666666,
              "#ed7953"
             ],
             [
              0.7777777777777778,
              "#fb9f3a"
             ],
             [
              0.8888888888888888,
              "#fdca26"
             ],
             [
              1.0,
              "#f0f921"
             ]
            ]
           }
          ],
          "heatmap": [
           {
            "type": "heatmap",
            "colorbar": {
             "outlinewidth": 0,
             "ticks": ""
            },
            "colorscale": [
             [
              0.0,
              "#0d0887"
             ],
             [
              0.1111111111111111,
              "#46039f"
             ],
             [
              0.2222222222222222,
              "#7201a8"
             ],
             [
              0.3333333333333333,
              "#9c179e"
             ],
             [
              0.4444444444444444,
              "#bd3786"
             ],
             [
              0.5555555555555556,
              "#d8576b"
             ],
             [
              0.6666666666666666,
              "#ed7953"
             ],
             [
              0.7777777777777778,
              "#fb9f3a"
             ],
             [
              0.8888888888888888,
              "#fdca26"
             ],
             [
              1.0,
              "#f0f921"
             ]
            ]
           }
          ],
          "heatmapgl": [
           {
            "type": "heatmapgl",
            "colorbar": {
             "outlinewidth": 0,
             "ticks": ""
            },
            "colorscale": [
             [
              0.0,
              "#0d0887"
             ],
             [
              0.1111111111111111,
              "#46039f"
             ],
             [
              0.2222222222222222,
              "#7201a8"
             ],
             [
              0.3333333333333333,
              "#9c179e"
             ],
             [
              0.4444444444444444,
              "#bd3786"
             ],
             [
              0.5555555555555556,
              "#d8576b"
             ],
             [
              0.6666666666666666,
              "#ed7953"
             ],
             [
              0.7777777777777778,
              "#fb9f3a"
             ],
             [
              0.8888888888888888,
              "#fdca26"
             ],
             [
              1.0,
              "#f0f921"
             ]
            ]
           }
          ],
          "contourcarpet": [
           {
            "type": "contourcarpet",
            "colorbar": {
             "outlinewidth": 0,
             "ticks": ""
            }
           }
          ],
          "contour": [
           {
            "type": "contour",
            "colorbar": {
             "outlinewidth": 0,
             "ticks": ""
            },
            "colorscale": [
             [
              0.0,
              "#0d0887"
             ],
             [
              0.1111111111111111,
              "#46039f"
             ],
             [
              0.2222222222222222,
              "#7201a8"
             ],
             [
              0.3333333333333333,
              "#9c179e"
             ],
             [
              0.4444444444444444,
              "#bd3786"
             ],
             [
              0.5555555555555556,
              "#d8576b"
             ],
             [
              0.6666666666666666,
              "#ed7953"
             ],
             [
              0.7777777777777778,
              "#fb9f3a"
             ],
             [
              0.8888888888888888,
              "#fdca26"
             ],
             [
              1.0,
              "#f0f921"
             ]
            ]
           }
          ],
          "surface": [
           {
            "type": "surface",
            "colorbar": {
             "outlinewidth": 0,
             "ticks": ""
            },
            "colorscale": [
             [
              0.0,
              "#0d0887"
             ],
             [
              0.1111111111111111,
              "#46039f"
             ],
             [
              0.2222222222222222,
              "#7201a8"
             ],
             [
              0.3333333333333333,
              "#9c179e"
             ],
             [
              0.4444444444444444,
              "#bd3786"
             ],
             [
              0.5555555555555556,
              "#d8576b"
             ],
             [
              0.6666666666666666,
              "#ed7953"
             ],
             [
              0.7777777777777778,
              "#fb9f3a"
             ],
             [
              0.8888888888888888,
              "#fdca26"
             ],
             [
              1.0,
              "#f0f921"
             ]
            ]
           }
          ],
          "mesh3d": [
           {
            "type": "mesh3d",
            "colorbar": {
             "outlinewidth": 0,
             "ticks": ""
            }
           }
          ],
          "scatter": [
           {
            "marker": {
             "line": {
              "color": "#283442"
             }
            },
            "type": "scatter"
           }
          ],
          "parcoords": [
           {
            "type": "parcoords",
            "line": {
             "colorbar": {
              "outlinewidth": 0,
              "ticks": ""
             }
            }
           }
          ],
          "scatterpolargl": [
           {
            "type": "scatterpolargl",
            "marker": {
             "colorbar": {
              "outlinewidth": 0,
              "ticks": ""
             }
            }
           }
          ],
          "bar": [
           {
            "error_x": {
             "color": "#f2f5fa"
            },
            "error_y": {
             "color": "#f2f5fa"
            },
            "marker": {
             "line": {
              "color": "rgb(17,17,17)",
              "width": 0.5
             },
             "pattern": {
              "fillmode": "overlay",
              "size": 10,
              "solidity": 0.2
             }
            },
            "type": "bar"
           }
          ],
          "scattergeo": [
           {
            "type": "scattergeo",
            "marker": {
             "colorbar": {
              "outlinewidth": 0,
              "ticks": ""
             }
            }
           }
          ],
          "scatterpolar": [
           {
            "type": "scatterpolar",
            "marker": {
             "colorbar": {
              "outlinewidth": 0,
              "ticks": ""
             }
            }
           }
          ],
          "histogram": [
           {
            "marker": {
             "pattern": {
              "fillmode": "overlay",
              "size": 10,
              "solidity": 0.2
             }
            },
            "type": "histogram"
           }
          ],
          "scattergl": [
           {
            "marker": {
             "line": {
              "color": "#283442"
             }
            },
            "type": "scattergl"
           }
          ],
          "scatter3d": [
           {
            "type": "scatter3d",
            "line": {
             "colorbar": {
              "outlinewidth": 0,
              "ticks": ""
             }
            },
            "marker": {
             "colorbar": {
              "outlinewidth": 0,
              "ticks": ""
             }
            }
           }
          ],
          "scattermapbox": [
           {
            "type": "scattermapbox",
            "marker": {
             "colorbar": {
              "outlinewidth": 0,
              "ticks": ""
             }
            }
           }
          ],
          "scatterternary": [
           {
            "type": "scatterternary",
            "marker": {
             "colorbar": {
              "outlinewidth": 0,
              "ticks": ""
             }
            }
           }
          ],
          "scattercarpet": [
           {
            "type": "scattercarpet",
            "marker": {
             "colorbar": {
              "outlinewidth": 0,
              "ticks": ""
             }
            }
           }
          ],
          "carpet": [
           {
            "aaxis": {
             "endlinecolor": "#A2B1C6",
             "gridcolor": "#506784",
             "linecolor": "#506784",
             "minorgridcolor": "#506784",
             "startlinecolor": "#A2B1C6"
            },
            "baxis": {
             "endlinecolor": "#A2B1C6",
             "gridcolor": "#506784",
             "linecolor": "#506784",
             "minorgridcolor": "#506784",
             "startlinecolor": "#A2B1C6"
            },
            "type": "carpet"
           }
          ],
          "table": [
           {
            "cells": {
             "fill": {
              "color": "#506784"
             },
             "line": {
              "color": "rgb(17,17,17)"
             }
            },
            "header": {
             "fill": {
              "color": "#2a3f5f"
             },
             "line": {
              "color": "rgb(17,17,17)"
             }
            },
            "type": "table"
           }
          ],
          "barpolar": [
           {
            "marker": {
             "line": {
              "color": "rgb(17,17,17)",
              "width": 0.5
             },
             "pattern": {
              "fillmode": "overlay",
              "size": 10,
              "solidity": 0.2
             }
            },
            "type": "barpolar"
           }
          ],
          "pie": [
           {
            "automargin": true,
            "type": "pie"
           }
          ]
         },
         "layout": {
          "autotypenumbers": "strict",
          "colorway": [
           "#636efa",
           "#EF553B",
           "#00cc96",
           "#ab63fa",
           "#FFA15A",
           "#19d3f3",
           "#FF6692",
           "#B6E880",
           "#FF97FF",
           "#FECB52"
          ],
          "font": {
           "color": "#f2f5fa"
          },
          "hovermode": "closest",
          "hoverlabel": {
           "align": "left"
          },
          "paper_bgcolor": "rgb(17,17,17)",
          "plot_bgcolor": "rgb(17,17,17)",
          "polar": {
           "bgcolor": "rgb(17,17,17)",
           "angularaxis": {
            "gridcolor": "#506784",
            "linecolor": "#506784",
            "ticks": ""
           },
           "radialaxis": {
            "gridcolor": "#506784",
            "linecolor": "#506784",
            "ticks": ""
           }
          },
          "ternary": {
           "bgcolor": "rgb(17,17,17)",
           "aaxis": {
            "gridcolor": "#506784",
            "linecolor": "#506784",
            "ticks": ""
           },
           "baxis": {
            "gridcolor": "#506784",
            "linecolor": "#506784",
            "ticks": ""
           },
           "caxis": {
            "gridcolor": "#506784",
            "linecolor": "#506784",
            "ticks": ""
           }
          },
          "coloraxis": {
           "colorbar": {
            "outlinewidth": 0,
            "ticks": ""
           }
          },
          "colorscale": {
           "sequential": [
            [
             0.0,
             "#0d0887"
            ],
            [
             0.1111111111111111,
             "#46039f"
            ],
            [
             0.2222222222222222,
             "#7201a8"
            ],
            [
             0.3333333333333333,
             "#9c179e"
            ],
            [
             0.4444444444444444,
             "#bd3786"
            ],
            [
             0.5555555555555556,
             "#d8576b"
            ],
            [
             0.6666666666666666,
             "#ed7953"
            ],
            [
             0.7777777777777778,
             "#fb9f3a"
            ],
            [
             0.8888888888888888,
             "#fdca26"
            ],
            [
             1.0,
             "#f0f921"
            ]
           ],
           "sequentialminus": [
            [
             0.0,
             "#0d0887"
            ],
            [
             0.1111111111111111,
             "#46039f"
            ],
            [
             0.2222222222222222,
             "#7201a8"
            ],
            [
             0.3333333333333333,
             "#9c179e"
            ],
            [
             0.4444444444444444,
             "#bd3786"
            ],
            [
             0.5555555555555556,
             "#d8576b"
            ],
            [
             0.6666666666666666,
             "#ed7953"
            ],
            [
             0.7777777777777778,
             "#fb9f3a"
            ],
            [
             0.8888888888888888,
             "#fdca26"
            ],
            [
             1.0,
             "#f0f921"
            ]
           ],
           "diverging": [
            [
             0,
             "#8e0152"
            ],
            [
             0.1,
             "#c51b7d"
            ],
            [
             0.2,
             "#de77ae"
            ],
            [
             0.3,
             "#f1b6da"
            ],
            [
             0.4,
             "#fde0ef"
            ],
            [
             0.5,
             "#f7f7f7"
            ],
            [
             0.6,
             "#e6f5d0"
            ],
            [
             0.7,
             "#b8e186"
            ],
            [
             0.8,
             "#7fbc41"
            ],
            [
             0.9,
             "#4d9221"
            ],
            [
             1,
             "#276419"
            ]
           ]
          },
          "xaxis": {
           "gridcolor": "#283442",
           "linecolor": "#506784",
           "ticks": "",
           "title": {
            "standoff": 15
           },
           "zerolinecolor": "#283442",
           "automargin": true,
           "zerolinewidth": 2
          },
          "yaxis": {
           "gridcolor": "#283442",
           "linecolor": "#506784",
           "ticks": "",
           "title": {
            "standoff": 15
           },
           "zerolinecolor": "#283442",
           "automargin": true,
           "zerolinewidth": 2
          },
          "scene": {
           "xaxis": {
            "backgroundcolor": "rgb(17,17,17)",
            "gridcolor": "#506784",
            "linecolor": "#506784",
            "showbackground": true,
            "ticks": "",
            "zerolinecolor": "#C8D4E3",
            "gridwidth": 2
           },
           "yaxis": {
            "backgroundcolor": "rgb(17,17,17)",
            "gridcolor": "#506784",
            "linecolor": "#506784",
            "showbackground": true,
            "ticks": "",
            "zerolinecolor": "#C8D4E3",
            "gridwidth": 2
           },
           "zaxis": {
            "backgroundcolor": "rgb(17,17,17)",
            "gridcolor": "#506784",
            "linecolor": "#506784",
            "showbackground": true,
            "ticks": "",
            "zerolinecolor": "#C8D4E3",
            "gridwidth": 2
           }
          },
          "shapedefaults": {
           "line": {
            "color": "#f2f5fa"
           }
          },
          "annotationdefaults": {
           "arrowcolor": "#f2f5fa",
           "arrowhead": 0,
           "arrowwidth": 1
          },
          "geo": {
           "bgcolor": "rgb(17,17,17)",
           "landcolor": "rgb(17,17,17)",
           "subunitcolor": "#506784",
           "showland": true,
           "showlakes": true,
           "lakecolor": "rgb(17,17,17)"
          },
          "title": {
           "x": 0.05
          },
          "updatemenudefaults": {
           "bgcolor": "#506784",
           "borderwidth": 0
          },
          "sliderdefaults": {
           "bgcolor": "#C8D4E3",
           "borderwidth": 1,
           "bordercolor": "rgb(17,17,17)",
           "tickwidth": 0
          },
          "mapbox": {
           "style": "dark"
          }
         }
        },
        "xaxis": {
         "anchor": "y",
         "domain": [
          0.0,
          1.0
         ],
         "title": {
          "text": "Durée (min)"
         }
        },
        "yaxis": {
         "anchor": "x",
         "domain": [
          0.0,
          1.0
         ],
         "title": {
          "text": "Moyenne de average_rank"
         }
        },
        "legend": {
         "tracegroupgap": 0
        },
        "title": {
         "text": "Moyenne de average_rank par Durée des Films"
        },
        "barmode": "relative"
       },
       "config": {
        "plotlyServerURL": "https://plot.ly"
       }
      },
      "text/html": [
       "<div>                            <div id=\"3472663f-4248-480c-b181-dcf28249f452\" class=\"plotly-graph-div\" style=\"height:525px; width:100%;\"></div>            <script type=\"text/javascript\">                require([\"plotly\"], function(Plotly) {                    window.PLOTLYENV=window.PLOTLYENV || {};                                    if (document.getElementById(\"3472663f-4248-480c-b181-dcf28249f452\")) {                    Plotly.newPlot(                        \"3472663f-4248-480c-b181-dcf28249f452\",                        [{\"alignmentgroup\":\"True\",\"hovertemplate\":\"Dur\\u00e9e (min)=%{x}\\u003cbr\\u003eMoyenne de average_rank=%{y}\\u003cextra\\u003e\\u003c\\u002fextra\\u003e\",\"legendgroup\":\"\",\"marker\":{\"color\":\"#636efa\",\"pattern\":{\"shape\":\"\"}},\"name\":\"\",\"offsetgroup\":\"\",\"orientation\":\"v\",\"showlegend\":false,\"textposition\":\"auto\",\"x\":[\"90 - 120\",\"\\u003c= 90\",\"\\u003e 120\"],\"xaxis\":\"x\",\"y\":[5.996824066699524,5.666872421687849,6.777944115964238],\"yaxis\":\"y\",\"type\":\"bar\"}],                        {\"template\":{\"data\":{\"histogram2dcontour\":[{\"type\":\"histogram2dcontour\",\"colorbar\":{\"outlinewidth\":0,\"ticks\":\"\"},\"colorscale\":[[0.0,\"#0d0887\"],[0.1111111111111111,\"#46039f\"],[0.2222222222222222,\"#7201a8\"],[0.3333333333333333,\"#9c179e\"],[0.4444444444444444,\"#bd3786\"],[0.5555555555555556,\"#d8576b\"],[0.6666666666666666,\"#ed7953\"],[0.7777777777777778,\"#fb9f3a\"],[0.8888888888888888,\"#fdca26\"],[1.0,\"#f0f921\"]]}],\"choropleth\":[{\"type\":\"choropleth\",\"colorbar\":{\"outlinewidth\":0,\"ticks\":\"\"}}],\"histogram2d\":[{\"type\":\"histogram2d\",\"colorbar\":{\"outlinewidth\":0,\"ticks\":\"\"},\"colorscale\":[[0.0,\"#0d0887\"],[0.1111111111111111,\"#46039f\"],[0.2222222222222222,\"#7201a8\"],[0.3333333333333333,\"#9c179e\"],[0.4444444444444444,\"#bd3786\"],[0.5555555555555556,\"#d8576b\"],[0.6666666666666666,\"#ed7953\"],[0.7777777777777778,\"#fb9f3a\"],[0.8888888888888888,\"#fdca26\"],[1.0,\"#f0f921\"]]}],\"heatmap\":[{\"type\":\"heatmap\",\"colorbar\":{\"outlinewidth\":0,\"ticks\":\"\"},\"colorscale\":[[0.0,\"#0d0887\"],[0.1111111111111111,\"#46039f\"],[0.2222222222222222,\"#7201a8\"],[0.3333333333333333,\"#9c179e\"],[0.4444444444444444,\"#bd3786\"],[0.5555555555555556,\"#d8576b\"],[0.6666666666666666,\"#ed7953\"],[0.7777777777777778,\"#fb9f3a\"],[0.8888888888888888,\"#fdca26\"],[1.0,\"#f0f921\"]]}],\"heatmapgl\":[{\"type\":\"heatmapgl\",\"colorbar\":{\"outlinewidth\":0,\"ticks\":\"\"},\"colorscale\":[[0.0,\"#0d0887\"],[0.1111111111111111,\"#46039f\"],[0.2222222222222222,\"#7201a8\"],[0.3333333333333333,\"#9c179e\"],[0.4444444444444444,\"#bd3786\"],[0.5555555555555556,\"#d8576b\"],[0.6666666666666666,\"#ed7953\"],[0.7777777777777778,\"#fb9f3a\"],[0.8888888888888888,\"#fdca26\"],[1.0,\"#f0f921\"]]}],\"contourcarpet\":[{\"type\":\"contourcarpet\",\"colorbar\":{\"outlinewidth\":0,\"ticks\":\"\"}}],\"contour\":[{\"type\":\"contour\",\"colorbar\":{\"outlinewidth\":0,\"ticks\":\"\"},\"colorscale\":[[0.0,\"#0d0887\"],[0.1111111111111111,\"#46039f\"],[0.2222222222222222,\"#7201a8\"],[0.3333333333333333,\"#9c179e\"],[0.4444444444444444,\"#bd3786\"],[0.5555555555555556,\"#d8576b\"],[0.6666666666666666,\"#ed7953\"],[0.7777777777777778,\"#fb9f3a\"],[0.8888888888888888,\"#fdca26\"],[1.0,\"#f0f921\"]]}],\"surface\":[{\"type\":\"surface\",\"colorbar\":{\"outlinewidth\":0,\"ticks\":\"\"},\"colorscale\":[[0.0,\"#0d0887\"],[0.1111111111111111,\"#46039f\"],[0.2222222222222222,\"#7201a8\"],[0.3333333333333333,\"#9c179e\"],[0.4444444444444444,\"#bd3786\"],[0.5555555555555556,\"#d8576b\"],[0.6666666666666666,\"#ed7953\"],[0.7777777777777778,\"#fb9f3a\"],[0.8888888888888888,\"#fdca26\"],[1.0,\"#f0f921\"]]}],\"mesh3d\":[{\"type\":\"mesh3d\",\"colorbar\":{\"outlinewidth\":0,\"ticks\":\"\"}}],\"scatter\":[{\"marker\":{\"line\":{\"color\":\"#283442\"}},\"type\":\"scatter\"}],\"parcoords\":[{\"type\":\"parcoords\",\"line\":{\"colorbar\":{\"outlinewidth\":0,\"ticks\":\"\"}}}],\"scatterpolargl\":[{\"type\":\"scatterpolargl\",\"marker\":{\"colorbar\":{\"outlinewidth\":0,\"ticks\":\"\"}}}],\"bar\":[{\"error_x\":{\"color\":\"#f2f5fa\"},\"error_y\":{\"color\":\"#f2f5fa\"},\"marker\":{\"line\":{\"color\":\"rgb(17,17,17)\",\"width\":0.5},\"pattern\":{\"fillmode\":\"overlay\",\"size\":10,\"solidity\":0.2}},\"type\":\"bar\"}],\"scattergeo\":[{\"type\":\"scattergeo\",\"marker\":{\"colorbar\":{\"outlinewidth\":0,\"ticks\":\"\"}}}],\"scatterpolar\":[{\"type\":\"scatterpolar\",\"marker\":{\"colorbar\":{\"outlinewidth\":0,\"ticks\":\"\"}}}],\"histogram\":[{\"marker\":{\"pattern\":{\"fillmode\":\"overlay\",\"size\":10,\"solidity\":0.2}},\"type\":\"histogram\"}],\"scattergl\":[{\"marker\":{\"line\":{\"color\":\"#283442\"}},\"type\":\"scattergl\"}],\"scatter3d\":[{\"type\":\"scatter3d\",\"line\":{\"colorbar\":{\"outlinewidth\":0,\"ticks\":\"\"}},\"marker\":{\"colorbar\":{\"outlinewidth\":0,\"ticks\":\"\"}}}],\"scattermapbox\":[{\"type\":\"scattermapbox\",\"marker\":{\"colorbar\":{\"outlinewidth\":0,\"ticks\":\"\"}}}],\"scatterternary\":[{\"type\":\"scatterternary\",\"marker\":{\"colorbar\":{\"outlinewidth\":0,\"ticks\":\"\"}}}],\"scattercarpet\":[{\"type\":\"scattercarpet\",\"marker\":{\"colorbar\":{\"outlinewidth\":0,\"ticks\":\"\"}}}],\"carpet\":[{\"aaxis\":{\"endlinecolor\":\"#A2B1C6\",\"gridcolor\":\"#506784\",\"linecolor\":\"#506784\",\"minorgridcolor\":\"#506784\",\"startlinecolor\":\"#A2B1C6\"},\"baxis\":{\"endlinecolor\":\"#A2B1C6\",\"gridcolor\":\"#506784\",\"linecolor\":\"#506784\",\"minorgridcolor\":\"#506784\",\"startlinecolor\":\"#A2B1C6\"},\"type\":\"carpet\"}],\"table\":[{\"cells\":{\"fill\":{\"color\":\"#506784\"},\"line\":{\"color\":\"rgb(17,17,17)\"}},\"header\":{\"fill\":{\"color\":\"#2a3f5f\"},\"line\":{\"color\":\"rgb(17,17,17)\"}},\"type\":\"table\"}],\"barpolar\":[{\"marker\":{\"line\":{\"color\":\"rgb(17,17,17)\",\"width\":0.5},\"pattern\":{\"fillmode\":\"overlay\",\"size\":10,\"solidity\":0.2}},\"type\":\"barpolar\"}],\"pie\":[{\"automargin\":true,\"type\":\"pie\"}]},\"layout\":{\"autotypenumbers\":\"strict\",\"colorway\":[\"#636efa\",\"#EF553B\",\"#00cc96\",\"#ab63fa\",\"#FFA15A\",\"#19d3f3\",\"#FF6692\",\"#B6E880\",\"#FF97FF\",\"#FECB52\"],\"font\":{\"color\":\"#f2f5fa\"},\"hovermode\":\"closest\",\"hoverlabel\":{\"align\":\"left\"},\"paper_bgcolor\":\"rgb(17,17,17)\",\"plot_bgcolor\":\"rgb(17,17,17)\",\"polar\":{\"bgcolor\":\"rgb(17,17,17)\",\"angularaxis\":{\"gridcolor\":\"#506784\",\"linecolor\":\"#506784\",\"ticks\":\"\"},\"radialaxis\":{\"gridcolor\":\"#506784\",\"linecolor\":\"#506784\",\"ticks\":\"\"}},\"ternary\":{\"bgcolor\":\"rgb(17,17,17)\",\"aaxis\":{\"gridcolor\":\"#506784\",\"linecolor\":\"#506784\",\"ticks\":\"\"},\"baxis\":{\"gridcolor\":\"#506784\",\"linecolor\":\"#506784\",\"ticks\":\"\"},\"caxis\":{\"gridcolor\":\"#506784\",\"linecolor\":\"#506784\",\"ticks\":\"\"}},\"coloraxis\":{\"colorbar\":{\"outlinewidth\":0,\"ticks\":\"\"}},\"colorscale\":{\"sequential\":[[0.0,\"#0d0887\"],[0.1111111111111111,\"#46039f\"],[0.2222222222222222,\"#7201a8\"],[0.3333333333333333,\"#9c179e\"],[0.4444444444444444,\"#bd3786\"],[0.5555555555555556,\"#d8576b\"],[0.6666666666666666,\"#ed7953\"],[0.7777777777777778,\"#fb9f3a\"],[0.8888888888888888,\"#fdca26\"],[1.0,\"#f0f921\"]],\"sequentialminus\":[[0.0,\"#0d0887\"],[0.1111111111111111,\"#46039f\"],[0.2222222222222222,\"#7201a8\"],[0.3333333333333333,\"#9c179e\"],[0.4444444444444444,\"#bd3786\"],[0.5555555555555556,\"#d8576b\"],[0.6666666666666666,\"#ed7953\"],[0.7777777777777778,\"#fb9f3a\"],[0.8888888888888888,\"#fdca26\"],[1.0,\"#f0f921\"]],\"diverging\":[[0,\"#8e0152\"],[0.1,\"#c51b7d\"],[0.2,\"#de77ae\"],[0.3,\"#f1b6da\"],[0.4,\"#fde0ef\"],[0.5,\"#f7f7f7\"],[0.6,\"#e6f5d0\"],[0.7,\"#b8e186\"],[0.8,\"#7fbc41\"],[0.9,\"#4d9221\"],[1,\"#276419\"]]},\"xaxis\":{\"gridcolor\":\"#283442\",\"linecolor\":\"#506784\",\"ticks\":\"\",\"title\":{\"standoff\":15},\"zerolinecolor\":\"#283442\",\"automargin\":true,\"zerolinewidth\":2},\"yaxis\":{\"gridcolor\":\"#283442\",\"linecolor\":\"#506784\",\"ticks\":\"\",\"title\":{\"standoff\":15},\"zerolinecolor\":\"#283442\",\"automargin\":true,\"zerolinewidth\":2},\"scene\":{\"xaxis\":{\"backgroundcolor\":\"rgb(17,17,17)\",\"gridcolor\":\"#506784\",\"linecolor\":\"#506784\",\"showbackground\":true,\"ticks\":\"\",\"zerolinecolor\":\"#C8D4E3\",\"gridwidth\":2},\"yaxis\":{\"backgroundcolor\":\"rgb(17,17,17)\",\"gridcolor\":\"#506784\",\"linecolor\":\"#506784\",\"showbackground\":true,\"ticks\":\"\",\"zerolinecolor\":\"#C8D4E3\",\"gridwidth\":2},\"zaxis\":{\"backgroundcolor\":\"rgb(17,17,17)\",\"gridcolor\":\"#506784\",\"linecolor\":\"#506784\",\"showbackground\":true,\"ticks\":\"\",\"zerolinecolor\":\"#C8D4E3\",\"gridwidth\":2}},\"shapedefaults\":{\"line\":{\"color\":\"#f2f5fa\"}},\"annotationdefaults\":{\"arrowcolor\":\"#f2f5fa\",\"arrowhead\":0,\"arrowwidth\":1},\"geo\":{\"bgcolor\":\"rgb(17,17,17)\",\"landcolor\":\"rgb(17,17,17)\",\"subunitcolor\":\"#506784\",\"showland\":true,\"showlakes\":true,\"lakecolor\":\"rgb(17,17,17)\"},\"title\":{\"x\":0.05},\"updatemenudefaults\":{\"bgcolor\":\"#506784\",\"borderwidth\":0},\"sliderdefaults\":{\"bgcolor\":\"#C8D4E3\",\"borderwidth\":1,\"bordercolor\":\"rgb(17,17,17)\",\"tickwidth\":0},\"mapbox\":{\"style\":\"dark\"}}},\"xaxis\":{\"anchor\":\"y\",\"domain\":[0.0,1.0],\"title\":{\"text\":\"Dur\\u00e9e (min)\"}},\"yaxis\":{\"anchor\":\"x\",\"domain\":[0.0,1.0],\"title\":{\"text\":\"Moyenne de average_rank\"}},\"legend\":{\"tracegroupgap\":0},\"title\":{\"text\":\"Moyenne de average_rank par Dur\\u00e9e des Films\"},\"barmode\":\"relative\"},                        {\"responsive\": true}                    ).then(function(){\n",
       "                            \n",
       "var gd = document.getElementById('3472663f-4248-480c-b181-dcf28249f452');\n",
       "var x = new MutationObserver(function (mutations, observer) {{\n",
       "        var display = window.getComputedStyle(gd).display;\n",
       "        if (!display || display === 'none') {{\n",
       "            console.log([gd, 'removed!']);\n",
       "            Plotly.purge(gd);\n",
       "            observer.disconnect();\n",
       "        }}\n",
       "}});\n",
       "\n",
       "// Listen for the removal of the full notebook cells\n",
       "var notebookContainer = gd.closest('#notebook-container');\n",
       "if (notebookContainer) {{\n",
       "    x.observe(notebookContainer, {childList: true});\n",
       "}}\n",
       "\n",
       "// Listen for the clearing of the current output cell\n",
       "var outputEl = gd.closest('.output');\n",
       "if (outputEl) {{\n",
       "    x.observe(outputEl, {childList: true});\n",
       "}}\n",
       "\n",
       "                        })                };                });            </script>        </div>"
      ]
     },
     "metadata": {},
     "output_type": "display_data"
    }
   ],
   "execution_count": 22
  },
  {
   "metadata": {
    "ExecuteTime": {
     "end_time": "2024-07-15T14:05:25.504036Z",
     "start_time": "2024-07-15T14:05:25.275554Z"
    }
   },
   "cell_type": "code",
   "source": [
    "# Séparation des genres et explosion des listes de genres en lignes individuelles\n",
    "df_genres = df.withColumn(\"Genre\", explode(split(col(\"Genre\"), \",\\s*\")))\n",
    "\n",
    "# Comptage des occurrences de chaque genre\n",
    "genre_counts = df_genres.groupBy(\"Genre\").count().orderBy(\"count\", ascending=False)\n",
    "\n",
    "# Convertir en DataFrame Pandas\n",
    "genre_counts_pandas = genre_counts.toPandas()\n",
    "\n",
    "# Création du graphique avec Plotly\n",
    "import plotly.express as px\n",
    "\n",
    "fig = px.bar(genre_counts_pandas, x='Genre', y='count', \n",
    "             title='Comptage des Genres',\n",
    "             labels={'count': 'Nombre de films', 'Genre': 'Genre'})\n",
    "\n",
    "# Affichage du graphique\n",
    "fig.show()\n"
   ],
   "id": "a3fc43ae796ddb87",
   "outputs": [
    {
     "name": "stderr",
     "output_type": "stream",
     "text": [
      "<>:2: SyntaxWarning:\n",
      "\n",
      "invalid escape sequence '\\s'\n",
      "\n",
      "<>:2: SyntaxWarning:\n",
      "\n",
      "invalid escape sequence '\\s'\n",
      "\n",
      "/tmp/ipykernel_2894/2346653157.py:2: SyntaxWarning:\n",
      "\n",
      "invalid escape sequence '\\s'\n",
      "\n"
     ]
    },
    {
     "data": {
      "application/vnd.plotly.v1+json": {
       "data": [
        {
         "alignmentgroup": "True",
         "hovertemplate": "Genre=%{x}<br>Nombre de films=%{y}<extra></extra>",
         "legendgroup": "",
         "marker": {
          "color": "#636efa",
          "pattern": {
           "shape": ""
          }
         },
         "name": "",
         "offsetgroup": "",
         "orientation": "v",
         "showlegend": false,
         "textposition": "auto",
         "x": [
          "Drama",
          "Comedy",
          "Action",
          "Adventure",
          "Crime",
          "Thriller",
          "Romance",
          "Horror",
          "Mystery",
          "Sci-Fi",
          "Fantasy",
          "Biography",
          "Family",
          "Animation",
          "History",
          "Music",
          "Sport",
          "War",
          "Musical",
          "Western",
          "Documentary",
          "Film-Noir"
         ],
         "xaxis": "x",
         "y": [
          3381,
          2245,
          1739,
          1330,
          1204,
          1132,
          1003,
          839,
          743,
          545,
          531,
          507,
          349,
          343,
          208,
          198,
          156,
          110,
          69,
          62,
          36,
          7
         ],
         "yaxis": "y",
         "type": "bar"
        }
       ],
       "layout": {
        "template": {
         "data": {
          "histogram2dcontour": [
           {
            "type": "histogram2dcontour",
            "colorbar": {
             "outlinewidth": 0,
             "ticks": ""
            },
            "colorscale": [
             [
              0.0,
              "#0d0887"
             ],
             [
              0.1111111111111111,
              "#46039f"
             ],
             [
              0.2222222222222222,
              "#7201a8"
             ],
             [
              0.3333333333333333,
              "#9c179e"
             ],
             [
              0.4444444444444444,
              "#bd3786"
             ],
             [
              0.5555555555555556,
              "#d8576b"
             ],
             [
              0.6666666666666666,
              "#ed7953"
             ],
             [
              0.7777777777777778,
              "#fb9f3a"
             ],
             [
              0.8888888888888888,
              "#fdca26"
             ],
             [
              1.0,
              "#f0f921"
             ]
            ]
           }
          ],
          "choropleth": [
           {
            "type": "choropleth",
            "colorbar": {
             "outlinewidth": 0,
             "ticks": ""
            }
           }
          ],
          "histogram2d": [
           {
            "type": "histogram2d",
            "colorbar": {
             "outlinewidth": 0,
             "ticks": ""
            },
            "colorscale": [
             [
              0.0,
              "#0d0887"
             ],
             [
              0.1111111111111111,
              "#46039f"
             ],
             [
              0.2222222222222222,
              "#7201a8"
             ],
             [
              0.3333333333333333,
              "#9c179e"
             ],
             [
              0.4444444444444444,
              "#bd3786"
             ],
             [
              0.5555555555555556,
              "#d8576b"
             ],
             [
              0.6666666666666666,
              "#ed7953"
             ],
             [
              0.7777777777777778,
              "#fb9f3a"
             ],
             [
              0.8888888888888888,
              "#fdca26"
             ],
             [
              1.0,
              "#f0f921"
             ]
            ]
           }
          ],
          "heatmap": [
           {
            "type": "heatmap",
            "colorbar": {
             "outlinewidth": 0,
             "ticks": ""
            },
            "colorscale": [
             [
              0.0,
              "#0d0887"
             ],
             [
              0.1111111111111111,
              "#46039f"
             ],
             [
              0.2222222222222222,
              "#7201a8"
             ],
             [
              0.3333333333333333,
              "#9c179e"
             ],
             [
              0.4444444444444444,
              "#bd3786"
             ],
             [
              0.5555555555555556,
              "#d8576b"
             ],
             [
              0.6666666666666666,
              "#ed7953"
             ],
             [
              0.7777777777777778,
              "#fb9f3a"
             ],
             [
              0.8888888888888888,
              "#fdca26"
             ],
             [
              1.0,
              "#f0f921"
             ]
            ]
           }
          ],
          "heatmapgl": [
           {
            "type": "heatmapgl",
            "colorbar": {
             "outlinewidth": 0,
             "ticks": ""
            },
            "colorscale": [
             [
              0.0,
              "#0d0887"
             ],
             [
              0.1111111111111111,
              "#46039f"
             ],
             [
              0.2222222222222222,
              "#7201a8"
             ],
             [
              0.3333333333333333,
              "#9c179e"
             ],
             [
              0.4444444444444444,
              "#bd3786"
             ],
             [
              0.5555555555555556,
              "#d8576b"
             ],
             [
              0.6666666666666666,
              "#ed7953"
             ],
             [
              0.7777777777777778,
              "#fb9f3a"
             ],
             [
              0.8888888888888888,
              "#fdca26"
             ],
             [
              1.0,
              "#f0f921"
             ]
            ]
           }
          ],
          "contourcarpet": [
           {
            "type": "contourcarpet",
            "colorbar": {
             "outlinewidth": 0,
             "ticks": ""
            }
           }
          ],
          "contour": [
           {
            "type": "contour",
            "colorbar": {
             "outlinewidth": 0,
             "ticks": ""
            },
            "colorscale": [
             [
              0.0,
              "#0d0887"
             ],
             [
              0.1111111111111111,
              "#46039f"
             ],
             [
              0.2222222222222222,
              "#7201a8"
             ],
             [
              0.3333333333333333,
              "#9c179e"
             ],
             [
              0.4444444444444444,
              "#bd3786"
             ],
             [
              0.5555555555555556,
              "#d8576b"
             ],
             [
              0.6666666666666666,
              "#ed7953"
             ],
             [
              0.7777777777777778,
              "#fb9f3a"
             ],
             [
              0.8888888888888888,
              "#fdca26"
             ],
             [
              1.0,
              "#f0f921"
             ]
            ]
           }
          ],
          "surface": [
           {
            "type": "surface",
            "colorbar": {
             "outlinewidth": 0,
             "ticks": ""
            },
            "colorscale": [
             [
              0.0,
              "#0d0887"
             ],
             [
              0.1111111111111111,
              "#46039f"
             ],
             [
              0.2222222222222222,
              "#7201a8"
             ],
             [
              0.3333333333333333,
              "#9c179e"
             ],
             [
              0.4444444444444444,
              "#bd3786"
             ],
             [
              0.5555555555555556,
              "#d8576b"
             ],
             [
              0.6666666666666666,
              "#ed7953"
             ],
             [
              0.7777777777777778,
              "#fb9f3a"
             ],
             [
              0.8888888888888888,
              "#fdca26"
             ],
             [
              1.0,
              "#f0f921"
             ]
            ]
           }
          ],
          "mesh3d": [
           {
            "type": "mesh3d",
            "colorbar": {
             "outlinewidth": 0,
             "ticks": ""
            }
           }
          ],
          "scatter": [
           {
            "marker": {
             "line": {
              "color": "#283442"
             }
            },
            "type": "scatter"
           }
          ],
          "parcoords": [
           {
            "type": "parcoords",
            "line": {
             "colorbar": {
              "outlinewidth": 0,
              "ticks": ""
             }
            }
           }
          ],
          "scatterpolargl": [
           {
            "type": "scatterpolargl",
            "marker": {
             "colorbar": {
              "outlinewidth": 0,
              "ticks": ""
             }
            }
           }
          ],
          "bar": [
           {
            "error_x": {
             "color": "#f2f5fa"
            },
            "error_y": {
             "color": "#f2f5fa"
            },
            "marker": {
             "line": {
              "color": "rgb(17,17,17)",
              "width": 0.5
             },
             "pattern": {
              "fillmode": "overlay",
              "size": 10,
              "solidity": 0.2
             }
            },
            "type": "bar"
           }
          ],
          "scattergeo": [
           {
            "type": "scattergeo",
            "marker": {
             "colorbar": {
              "outlinewidth": 0,
              "ticks": ""
             }
            }
           }
          ],
          "scatterpolar": [
           {
            "type": "scatterpolar",
            "marker": {
             "colorbar": {
              "outlinewidth": 0,
              "ticks": ""
             }
            }
           }
          ],
          "histogram": [
           {
            "marker": {
             "pattern": {
              "fillmode": "overlay",
              "size": 10,
              "solidity": 0.2
             }
            },
            "type": "histogram"
           }
          ],
          "scattergl": [
           {
            "marker": {
             "line": {
              "color": "#283442"
             }
            },
            "type": "scattergl"
           }
          ],
          "scatter3d": [
           {
            "type": "scatter3d",
            "line": {
             "colorbar": {
              "outlinewidth": 0,
              "ticks": ""
             }
            },
            "marker": {
             "colorbar": {
              "outlinewidth": 0,
              "ticks": ""
             }
            }
           }
          ],
          "scattermapbox": [
           {
            "type": "scattermapbox",
            "marker": {
             "colorbar": {
              "outlinewidth": 0,
              "ticks": ""
             }
            }
           }
          ],
          "scatterternary": [
           {
            "type": "scatterternary",
            "marker": {
             "colorbar": {
              "outlinewidth": 0,
              "ticks": ""
             }
            }
           }
          ],
          "scattercarpet": [
           {
            "type": "scattercarpet",
            "marker": {
             "colorbar": {
              "outlinewidth": 0,
              "ticks": ""
             }
            }
           }
          ],
          "carpet": [
           {
            "aaxis": {
             "endlinecolor": "#A2B1C6",
             "gridcolor": "#506784",
             "linecolor": "#506784",
             "minorgridcolor": "#506784",
             "startlinecolor": "#A2B1C6"
            },
            "baxis": {
             "endlinecolor": "#A2B1C6",
             "gridcolor": "#506784",
             "linecolor": "#506784",
             "minorgridcolor": "#506784",
             "startlinecolor": "#A2B1C6"
            },
            "type": "carpet"
           }
          ],
          "table": [
           {
            "cells": {
             "fill": {
              "color": "#506784"
             },
             "line": {
              "color": "rgb(17,17,17)"
             }
            },
            "header": {
             "fill": {
              "color": "#2a3f5f"
             },
             "line": {
              "color": "rgb(17,17,17)"
             }
            },
            "type": "table"
           }
          ],
          "barpolar": [
           {
            "marker": {
             "line": {
              "color": "rgb(17,17,17)",
              "width": 0.5
             },
             "pattern": {
              "fillmode": "overlay",
              "size": 10,
              "solidity": 0.2
             }
            },
            "type": "barpolar"
           }
          ],
          "pie": [
           {
            "automargin": true,
            "type": "pie"
           }
          ]
         },
         "layout": {
          "autotypenumbers": "strict",
          "colorway": [
           "#636efa",
           "#EF553B",
           "#00cc96",
           "#ab63fa",
           "#FFA15A",
           "#19d3f3",
           "#FF6692",
           "#B6E880",
           "#FF97FF",
           "#FECB52"
          ],
          "font": {
           "color": "#f2f5fa"
          },
          "hovermode": "closest",
          "hoverlabel": {
           "align": "left"
          },
          "paper_bgcolor": "rgb(17,17,17)",
          "plot_bgcolor": "rgb(17,17,17)",
          "polar": {
           "bgcolor": "rgb(17,17,17)",
           "angularaxis": {
            "gridcolor": "#506784",
            "linecolor": "#506784",
            "ticks": ""
           },
           "radialaxis": {
            "gridcolor": "#506784",
            "linecolor": "#506784",
            "ticks": ""
           }
          },
          "ternary": {
           "bgcolor": "rgb(17,17,17)",
           "aaxis": {
            "gridcolor": "#506784",
            "linecolor": "#506784",
            "ticks": ""
           },
           "baxis": {
            "gridcolor": "#506784",
            "linecolor": "#506784",
            "ticks": ""
           },
           "caxis": {
            "gridcolor": "#506784",
            "linecolor": "#506784",
            "ticks": ""
           }
          },
          "coloraxis": {
           "colorbar": {
            "outlinewidth": 0,
            "ticks": ""
           }
          },
          "colorscale": {
           "sequential": [
            [
             0.0,
             "#0d0887"
            ],
            [
             0.1111111111111111,
             "#46039f"
            ],
            [
             0.2222222222222222,
             "#7201a8"
            ],
            [
             0.3333333333333333,
             "#9c179e"
            ],
            [
             0.4444444444444444,
             "#bd3786"
            ],
            [
             0.5555555555555556,
             "#d8576b"
            ],
            [
             0.6666666666666666,
             "#ed7953"
            ],
            [
             0.7777777777777778,
             "#fb9f3a"
            ],
            [
             0.8888888888888888,
             "#fdca26"
            ],
            [
             1.0,
             "#f0f921"
            ]
           ],
           "sequentialminus": [
            [
             0.0,
             "#0d0887"
            ],
            [
             0.1111111111111111,
             "#46039f"
            ],
            [
             0.2222222222222222,
             "#7201a8"
            ],
            [
             0.3333333333333333,
             "#9c179e"
            ],
            [
             0.4444444444444444,
             "#bd3786"
            ],
            [
             0.5555555555555556,
             "#d8576b"
            ],
            [
             0.6666666666666666,
             "#ed7953"
            ],
            [
             0.7777777777777778,
             "#fb9f3a"
            ],
            [
             0.8888888888888888,
             "#fdca26"
            ],
            [
             1.0,
             "#f0f921"
            ]
           ],
           "diverging": [
            [
             0,
             "#8e0152"
            ],
            [
             0.1,
             "#c51b7d"
            ],
            [
             0.2,
             "#de77ae"
            ],
            [
             0.3,
             "#f1b6da"
            ],
            [
             0.4,
             "#fde0ef"
            ],
            [
             0.5,
             "#f7f7f7"
            ],
            [
             0.6,
             "#e6f5d0"
            ],
            [
             0.7,
             "#b8e186"
            ],
            [
             0.8,
             "#7fbc41"
            ],
            [
             0.9,
             "#4d9221"
            ],
            [
             1,
             "#276419"
            ]
           ]
          },
          "xaxis": {
           "gridcolor": "#283442",
           "linecolor": "#506784",
           "ticks": "",
           "title": {
            "standoff": 15
           },
           "zerolinecolor": "#283442",
           "automargin": true,
           "zerolinewidth": 2
          },
          "yaxis": {
           "gridcolor": "#283442",
           "linecolor": "#506784",
           "ticks": "",
           "title": {
            "standoff": 15
           },
           "zerolinecolor": "#283442",
           "automargin": true,
           "zerolinewidth": 2
          },
          "scene": {
           "xaxis": {
            "backgroundcolor": "rgb(17,17,17)",
            "gridcolor": "#506784",
            "linecolor": "#506784",
            "showbackground": true,
            "ticks": "",
            "zerolinecolor": "#C8D4E3",
            "gridwidth": 2
           },
           "yaxis": {
            "backgroundcolor": "rgb(17,17,17)",
            "gridcolor": "#506784",
            "linecolor": "#506784",
            "showbackground": true,
            "ticks": "",
            "zerolinecolor": "#C8D4E3",
            "gridwidth": 2
           },
           "zaxis": {
            "backgroundcolor": "rgb(17,17,17)",
            "gridcolor": "#506784",
            "linecolor": "#506784",
            "showbackground": true,
            "ticks": "",
            "zerolinecolor": "#C8D4E3",
            "gridwidth": 2
           }
          },
          "shapedefaults": {
           "line": {
            "color": "#f2f5fa"
           }
          },
          "annotationdefaults": {
           "arrowcolor": "#f2f5fa",
           "arrowhead": 0,
           "arrowwidth": 1
          },
          "geo": {
           "bgcolor": "rgb(17,17,17)",
           "landcolor": "rgb(17,17,17)",
           "subunitcolor": "#506784",
           "showland": true,
           "showlakes": true,
           "lakecolor": "rgb(17,17,17)"
          },
          "title": {
           "x": 0.05
          },
          "updatemenudefaults": {
           "bgcolor": "#506784",
           "borderwidth": 0
          },
          "sliderdefaults": {
           "bgcolor": "#C8D4E3",
           "borderwidth": 1,
           "bordercolor": "rgb(17,17,17)",
           "tickwidth": 0
          },
          "mapbox": {
           "style": "dark"
          }
         }
        },
        "xaxis": {
         "anchor": "y",
         "domain": [
          0.0,
          1.0
         ],
         "title": {
          "text": "Genre"
         }
        },
        "yaxis": {
         "anchor": "x",
         "domain": [
          0.0,
          1.0
         ],
         "title": {
          "text": "Nombre de films"
         }
        },
        "legend": {
         "tracegroupgap": 0
        },
        "title": {
         "text": "Comptage des Genres"
        },
        "barmode": "relative"
       },
       "config": {
        "plotlyServerURL": "https://plot.ly"
       }
      },
      "text/html": [
       "<div>                            <div id=\"99da0925-6dc5-4013-b9d6-9aa2c578a5eb\" class=\"plotly-graph-div\" style=\"height:525px; width:100%;\"></div>            <script type=\"text/javascript\">                require([\"plotly\"], function(Plotly) {                    window.PLOTLYENV=window.PLOTLYENV || {};                                    if (document.getElementById(\"99da0925-6dc5-4013-b9d6-9aa2c578a5eb\")) {                    Plotly.newPlot(                        \"99da0925-6dc5-4013-b9d6-9aa2c578a5eb\",                        [{\"alignmentgroup\":\"True\",\"hovertemplate\":\"Genre=%{x}\\u003cbr\\u003eNombre de films=%{y}\\u003cextra\\u003e\\u003c\\u002fextra\\u003e\",\"legendgroup\":\"\",\"marker\":{\"color\":\"#636efa\",\"pattern\":{\"shape\":\"\"}},\"name\":\"\",\"offsetgroup\":\"\",\"orientation\":\"v\",\"showlegend\":false,\"textposition\":\"auto\",\"x\":[\"Drama\",\"Comedy\",\"Action\",\"Adventure\",\"Crime\",\"Thriller\",\"Romance\",\"Horror\",\"Mystery\",\"Sci-Fi\",\"Fantasy\",\"Biography\",\"Family\",\"Animation\",\"History\",\"Music\",\"Sport\",\"War\",\"Musical\",\"Western\",\"Documentary\",\"Film-Noir\"],\"xaxis\":\"x\",\"y\":[3381,2245,1739,1330,1204,1132,1003,839,743,545,531,507,349,343,208,198,156,110,69,62,36,7],\"yaxis\":\"y\",\"type\":\"bar\"}],                        {\"template\":{\"data\":{\"histogram2dcontour\":[{\"type\":\"histogram2dcontour\",\"colorbar\":{\"outlinewidth\":0,\"ticks\":\"\"},\"colorscale\":[[0.0,\"#0d0887\"],[0.1111111111111111,\"#46039f\"],[0.2222222222222222,\"#7201a8\"],[0.3333333333333333,\"#9c179e\"],[0.4444444444444444,\"#bd3786\"],[0.5555555555555556,\"#d8576b\"],[0.6666666666666666,\"#ed7953\"],[0.7777777777777778,\"#fb9f3a\"],[0.8888888888888888,\"#fdca26\"],[1.0,\"#f0f921\"]]}],\"choropleth\":[{\"type\":\"choropleth\",\"colorbar\":{\"outlinewidth\":0,\"ticks\":\"\"}}],\"histogram2d\":[{\"type\":\"histogram2d\",\"colorbar\":{\"outlinewidth\":0,\"ticks\":\"\"},\"colorscale\":[[0.0,\"#0d0887\"],[0.1111111111111111,\"#46039f\"],[0.2222222222222222,\"#7201a8\"],[0.3333333333333333,\"#9c179e\"],[0.4444444444444444,\"#bd3786\"],[0.5555555555555556,\"#d8576b\"],[0.6666666666666666,\"#ed7953\"],[0.7777777777777778,\"#fb9f3a\"],[0.8888888888888888,\"#fdca26\"],[1.0,\"#f0f921\"]]}],\"heatmap\":[{\"type\":\"heatmap\",\"colorbar\":{\"outlinewidth\":0,\"ticks\":\"\"},\"colorscale\":[[0.0,\"#0d0887\"],[0.1111111111111111,\"#46039f\"],[0.2222222222222222,\"#7201a8\"],[0.3333333333333333,\"#9c179e\"],[0.4444444444444444,\"#bd3786\"],[0.5555555555555556,\"#d8576b\"],[0.6666666666666666,\"#ed7953\"],[0.7777777777777778,\"#fb9f3a\"],[0.8888888888888888,\"#fdca26\"],[1.0,\"#f0f921\"]]}],\"heatmapgl\":[{\"type\":\"heatmapgl\",\"colorbar\":{\"outlinewidth\":0,\"ticks\":\"\"},\"colorscale\":[[0.0,\"#0d0887\"],[0.1111111111111111,\"#46039f\"],[0.2222222222222222,\"#7201a8\"],[0.3333333333333333,\"#9c179e\"],[0.4444444444444444,\"#bd3786\"],[0.5555555555555556,\"#d8576b\"],[0.6666666666666666,\"#ed7953\"],[0.7777777777777778,\"#fb9f3a\"],[0.8888888888888888,\"#fdca26\"],[1.0,\"#f0f921\"]]}],\"contourcarpet\":[{\"type\":\"contourcarpet\",\"colorbar\":{\"outlinewidth\":0,\"ticks\":\"\"}}],\"contour\":[{\"type\":\"contour\",\"colorbar\":{\"outlinewidth\":0,\"ticks\":\"\"},\"colorscale\":[[0.0,\"#0d0887\"],[0.1111111111111111,\"#46039f\"],[0.2222222222222222,\"#7201a8\"],[0.3333333333333333,\"#9c179e\"],[0.4444444444444444,\"#bd3786\"],[0.5555555555555556,\"#d8576b\"],[0.6666666666666666,\"#ed7953\"],[0.7777777777777778,\"#fb9f3a\"],[0.8888888888888888,\"#fdca26\"],[1.0,\"#f0f921\"]]}],\"surface\":[{\"type\":\"surface\",\"colorbar\":{\"outlinewidth\":0,\"ticks\":\"\"},\"colorscale\":[[0.0,\"#0d0887\"],[0.1111111111111111,\"#46039f\"],[0.2222222222222222,\"#7201a8\"],[0.3333333333333333,\"#9c179e\"],[0.4444444444444444,\"#bd3786\"],[0.5555555555555556,\"#d8576b\"],[0.6666666666666666,\"#ed7953\"],[0.7777777777777778,\"#fb9f3a\"],[0.8888888888888888,\"#fdca26\"],[1.0,\"#f0f921\"]]}],\"mesh3d\":[{\"type\":\"mesh3d\",\"colorbar\":{\"outlinewidth\":0,\"ticks\":\"\"}}],\"scatter\":[{\"marker\":{\"line\":{\"color\":\"#283442\"}},\"type\":\"scatter\"}],\"parcoords\":[{\"type\":\"parcoords\",\"line\":{\"colorbar\":{\"outlinewidth\":0,\"ticks\":\"\"}}}],\"scatterpolargl\":[{\"type\":\"scatterpolargl\",\"marker\":{\"colorbar\":{\"outlinewidth\":0,\"ticks\":\"\"}}}],\"bar\":[{\"error_x\":{\"color\":\"#f2f5fa\"},\"error_y\":{\"color\":\"#f2f5fa\"},\"marker\":{\"line\":{\"color\":\"rgb(17,17,17)\",\"width\":0.5},\"pattern\":{\"fillmode\":\"overlay\",\"size\":10,\"solidity\":0.2}},\"type\":\"bar\"}],\"scattergeo\":[{\"type\":\"scattergeo\",\"marker\":{\"colorbar\":{\"outlinewidth\":0,\"ticks\":\"\"}}}],\"scatterpolar\":[{\"type\":\"scatterpolar\",\"marker\":{\"colorbar\":{\"outlinewidth\":0,\"ticks\":\"\"}}}],\"histogram\":[{\"marker\":{\"pattern\":{\"fillmode\":\"overlay\",\"size\":10,\"solidity\":0.2}},\"type\":\"histogram\"}],\"scattergl\":[{\"marker\":{\"line\":{\"color\":\"#283442\"}},\"type\":\"scattergl\"}],\"scatter3d\":[{\"type\":\"scatter3d\",\"line\":{\"colorbar\":{\"outlinewidth\":0,\"ticks\":\"\"}},\"marker\":{\"colorbar\":{\"outlinewidth\":0,\"ticks\":\"\"}}}],\"scattermapbox\":[{\"type\":\"scattermapbox\",\"marker\":{\"colorbar\":{\"outlinewidth\":0,\"ticks\":\"\"}}}],\"scatterternary\":[{\"type\":\"scatterternary\",\"marker\":{\"colorbar\":{\"outlinewidth\":0,\"ticks\":\"\"}}}],\"scattercarpet\":[{\"type\":\"scattercarpet\",\"marker\":{\"colorbar\":{\"outlinewidth\":0,\"ticks\":\"\"}}}],\"carpet\":[{\"aaxis\":{\"endlinecolor\":\"#A2B1C6\",\"gridcolor\":\"#506784\",\"linecolor\":\"#506784\",\"minorgridcolor\":\"#506784\",\"startlinecolor\":\"#A2B1C6\"},\"baxis\":{\"endlinecolor\":\"#A2B1C6\",\"gridcolor\":\"#506784\",\"linecolor\":\"#506784\",\"minorgridcolor\":\"#506784\",\"startlinecolor\":\"#A2B1C6\"},\"type\":\"carpet\"}],\"table\":[{\"cells\":{\"fill\":{\"color\":\"#506784\"},\"line\":{\"color\":\"rgb(17,17,17)\"}},\"header\":{\"fill\":{\"color\":\"#2a3f5f\"},\"line\":{\"color\":\"rgb(17,17,17)\"}},\"type\":\"table\"}],\"barpolar\":[{\"marker\":{\"line\":{\"color\":\"rgb(17,17,17)\",\"width\":0.5},\"pattern\":{\"fillmode\":\"overlay\",\"size\":10,\"solidity\":0.2}},\"type\":\"barpolar\"}],\"pie\":[{\"automargin\":true,\"type\":\"pie\"}]},\"layout\":{\"autotypenumbers\":\"strict\",\"colorway\":[\"#636efa\",\"#EF553B\",\"#00cc96\",\"#ab63fa\",\"#FFA15A\",\"#19d3f3\",\"#FF6692\",\"#B6E880\",\"#FF97FF\",\"#FECB52\"],\"font\":{\"color\":\"#f2f5fa\"},\"hovermode\":\"closest\",\"hoverlabel\":{\"align\":\"left\"},\"paper_bgcolor\":\"rgb(17,17,17)\",\"plot_bgcolor\":\"rgb(17,17,17)\",\"polar\":{\"bgcolor\":\"rgb(17,17,17)\",\"angularaxis\":{\"gridcolor\":\"#506784\",\"linecolor\":\"#506784\",\"ticks\":\"\"},\"radialaxis\":{\"gridcolor\":\"#506784\",\"linecolor\":\"#506784\",\"ticks\":\"\"}},\"ternary\":{\"bgcolor\":\"rgb(17,17,17)\",\"aaxis\":{\"gridcolor\":\"#506784\",\"linecolor\":\"#506784\",\"ticks\":\"\"},\"baxis\":{\"gridcolor\":\"#506784\",\"linecolor\":\"#506784\",\"ticks\":\"\"},\"caxis\":{\"gridcolor\":\"#506784\",\"linecolor\":\"#506784\",\"ticks\":\"\"}},\"coloraxis\":{\"colorbar\":{\"outlinewidth\":0,\"ticks\":\"\"}},\"colorscale\":{\"sequential\":[[0.0,\"#0d0887\"],[0.1111111111111111,\"#46039f\"],[0.2222222222222222,\"#7201a8\"],[0.3333333333333333,\"#9c179e\"],[0.4444444444444444,\"#bd3786\"],[0.5555555555555556,\"#d8576b\"],[0.6666666666666666,\"#ed7953\"],[0.7777777777777778,\"#fb9f3a\"],[0.8888888888888888,\"#fdca26\"],[1.0,\"#f0f921\"]],\"sequentialminus\":[[0.0,\"#0d0887\"],[0.1111111111111111,\"#46039f\"],[0.2222222222222222,\"#7201a8\"],[0.3333333333333333,\"#9c179e\"],[0.4444444444444444,\"#bd3786\"],[0.5555555555555556,\"#d8576b\"],[0.6666666666666666,\"#ed7953\"],[0.7777777777777778,\"#fb9f3a\"],[0.8888888888888888,\"#fdca26\"],[1.0,\"#f0f921\"]],\"diverging\":[[0,\"#8e0152\"],[0.1,\"#c51b7d\"],[0.2,\"#de77ae\"],[0.3,\"#f1b6da\"],[0.4,\"#fde0ef\"],[0.5,\"#f7f7f7\"],[0.6,\"#e6f5d0\"],[0.7,\"#b8e186\"],[0.8,\"#7fbc41\"],[0.9,\"#4d9221\"],[1,\"#276419\"]]},\"xaxis\":{\"gridcolor\":\"#283442\",\"linecolor\":\"#506784\",\"ticks\":\"\",\"title\":{\"standoff\":15},\"zerolinecolor\":\"#283442\",\"automargin\":true,\"zerolinewidth\":2},\"yaxis\":{\"gridcolor\":\"#283442\",\"linecolor\":\"#506784\",\"ticks\":\"\",\"title\":{\"standoff\":15},\"zerolinecolor\":\"#283442\",\"automargin\":true,\"zerolinewidth\":2},\"scene\":{\"xaxis\":{\"backgroundcolor\":\"rgb(17,17,17)\",\"gridcolor\":\"#506784\",\"linecolor\":\"#506784\",\"showbackground\":true,\"ticks\":\"\",\"zerolinecolor\":\"#C8D4E3\",\"gridwidth\":2},\"yaxis\":{\"backgroundcolor\":\"rgb(17,17,17)\",\"gridcolor\":\"#506784\",\"linecolor\":\"#506784\",\"showbackground\":true,\"ticks\":\"\",\"zerolinecolor\":\"#C8D4E3\",\"gridwidth\":2},\"zaxis\":{\"backgroundcolor\":\"rgb(17,17,17)\",\"gridcolor\":\"#506784\",\"linecolor\":\"#506784\",\"showbackground\":true,\"ticks\":\"\",\"zerolinecolor\":\"#C8D4E3\",\"gridwidth\":2}},\"shapedefaults\":{\"line\":{\"color\":\"#f2f5fa\"}},\"annotationdefaults\":{\"arrowcolor\":\"#f2f5fa\",\"arrowhead\":0,\"arrowwidth\":1},\"geo\":{\"bgcolor\":\"rgb(17,17,17)\",\"landcolor\":\"rgb(17,17,17)\",\"subunitcolor\":\"#506784\",\"showland\":true,\"showlakes\":true,\"lakecolor\":\"rgb(17,17,17)\"},\"title\":{\"x\":0.05},\"updatemenudefaults\":{\"bgcolor\":\"#506784\",\"borderwidth\":0},\"sliderdefaults\":{\"bgcolor\":\"#C8D4E3\",\"borderwidth\":1,\"bordercolor\":\"rgb(17,17,17)\",\"tickwidth\":0},\"mapbox\":{\"style\":\"dark\"}}},\"xaxis\":{\"anchor\":\"y\",\"domain\":[0.0,1.0],\"title\":{\"text\":\"Genre\"}},\"yaxis\":{\"anchor\":\"x\",\"domain\":[0.0,1.0],\"title\":{\"text\":\"Nombre de films\"}},\"legend\":{\"tracegroupgap\":0},\"title\":{\"text\":\"Comptage des Genres\"},\"barmode\":\"relative\"},                        {\"responsive\": true}                    ).then(function(){\n",
       "                            \n",
       "var gd = document.getElementById('99da0925-6dc5-4013-b9d6-9aa2c578a5eb');\n",
       "var x = new MutationObserver(function (mutations, observer) {{\n",
       "        var display = window.getComputedStyle(gd).display;\n",
       "        if (!display || display === 'none') {{\n",
       "            console.log([gd, 'removed!']);\n",
       "            Plotly.purge(gd);\n",
       "            observer.disconnect();\n",
       "        }}\n",
       "}});\n",
       "\n",
       "// Listen for the removal of the full notebook cells\n",
       "var notebookContainer = gd.closest('#notebook-container');\n",
       "if (notebookContainer) {{\n",
       "    x.observe(notebookContainer, {childList: true});\n",
       "}}\n",
       "\n",
       "// Listen for the clearing of the current output cell\n",
       "var outputEl = gd.closest('.output');\n",
       "if (outputEl) {{\n",
       "    x.observe(outputEl, {childList: true});\n",
       "}}\n",
       "\n",
       "                        })                };                });            </script>        </div>"
      ]
     },
     "metadata": {},
     "output_type": "display_data"
    }
   ],
   "execution_count": 36
  },
  {
   "metadata": {
    "ExecuteTime": {
     "end_time": "2024-07-15T14:01:00.764197Z",
     "start_time": "2024-07-15T14:01:00.300221Z"
    }
   },
   "cell_type": "code",
   "source": [
    "# Calcul de la moyenne de Rating et du nombre de films par Director\n",
    "director_stats = df.groupBy(\"Director\").agg(\n",
    "    avg(\"Rating\").alias(\"avg_rating\"),\n",
    "    count(\"Title\").alias(\"film_count\")\n",
    ").orderBy(\"avg_rating\", ascending=False)\n",
    "director_stats = director_stats.filter(col(\"film_count\") > 2).filter(col(\"avg_rating\")>8).orderBy(\"avg_rating\", ascending=False)\n",
    "\n",
    "# Convertir en DataFrame Pandas\n",
    "director_stats_pandas = director_stats.toPandas()\n",
    "fig = px.bar(director_stats_pandas, x='Director', y='avg_rating',\n",
    "             hover_data=['film_count'],\n",
    "             title='Moyenne de Rating par Director et Nombre de Films',\n",
    "             labels={'avg_rating': 'Moyenne de Rating', 'Director': 'Directeur', 'film_count': 'Nombre de Films'})\n",
    "\n",
    "# Personnalisation du graphique pour améliorer la lisibilité\n",
    "fig.update_layout(xaxis={'categoryorder': 'total descending'},\n",
    "                  xaxis_title='Directeur',\n",
    "                  yaxis_title='Moyenne de Rating',\n",
    "                  hovermode='x unified')\n",
    "\n",
    "# Affichage du graphique\n",
    "fig.show()"
   ],
   "id": "4ec50c22fec679f6",
   "outputs": [
    {
     "data": {
      "application/vnd.plotly.v1+json": {
       "data": [
        {
         "alignmentgroup": "True",
         "customdata": [
          [
           3
          ],
          [
           6
          ],
          [
           6
          ],
          [
           9
          ],
          [
           12
          ],
          [
           3
          ],
          [
           9
          ],
          [
           4
          ],
          [
           3
          ]
         ],
         "hovertemplate": "Directeur=%{x}<br>Moyenne de Rating=%{y}<br>Nombre de Films=%{customdata[0]}<extra></extra>",
         "legendgroup": "",
         "marker": {
          "color": "#636efa",
          "pattern": {
           "shape": ""
          }
         },
         "name": "",
         "offsetgroup": "",
         "orientation": "v",
         "showlegend": false,
         "textposition": "auto",
         "x": [
          "Billy Wilder",
          "Akira Kurosawa",
          "Sergio Leone",
          "Stanley Kubrick",
          "Christopher Nolan",
          "Milos Forman",
          "Quentin Tarantino",
          "Pete Docter",
          "Ingmar Bergman"
         ],
         "xaxis": "x",
         "y": [
          8.299999872843424,
          8.233333349227905,
          8.21666669845581,
          8.177777767181396,
          8.166666626930237,
          8.166666507720947,
          8.133333259158665,
          8.125000238418579,
          8.100000381469727
         ],
         "yaxis": "y",
         "type": "bar"
        }
       ],
       "layout": {
        "template": {
         "data": {
          "histogram2dcontour": [
           {
            "type": "histogram2dcontour",
            "colorbar": {
             "outlinewidth": 0,
             "ticks": ""
            },
            "colorscale": [
             [
              0.0,
              "#0d0887"
             ],
             [
              0.1111111111111111,
              "#46039f"
             ],
             [
              0.2222222222222222,
              "#7201a8"
             ],
             [
              0.3333333333333333,
              "#9c179e"
             ],
             [
              0.4444444444444444,
              "#bd3786"
             ],
             [
              0.5555555555555556,
              "#d8576b"
             ],
             [
              0.6666666666666666,
              "#ed7953"
             ],
             [
              0.7777777777777778,
              "#fb9f3a"
             ],
             [
              0.8888888888888888,
              "#fdca26"
             ],
             [
              1.0,
              "#f0f921"
             ]
            ]
           }
          ],
          "choropleth": [
           {
            "type": "choropleth",
            "colorbar": {
             "outlinewidth": 0,
             "ticks": ""
            }
           }
          ],
          "histogram2d": [
           {
            "type": "histogram2d",
            "colorbar": {
             "outlinewidth": 0,
             "ticks": ""
            },
            "colorscale": [
             [
              0.0,
              "#0d0887"
             ],
             [
              0.1111111111111111,
              "#46039f"
             ],
             [
              0.2222222222222222,
              "#7201a8"
             ],
             [
              0.3333333333333333,
              "#9c179e"
             ],
             [
              0.4444444444444444,
              "#bd3786"
             ],
             [
              0.5555555555555556,
              "#d8576b"
             ],
             [
              0.6666666666666666,
              "#ed7953"
             ],
             [
              0.7777777777777778,
              "#fb9f3a"
             ],
             [
              0.8888888888888888,
              "#fdca26"
             ],
             [
              1.0,
              "#f0f921"
             ]
            ]
           }
          ],
          "heatmap": [
           {
            "type": "heatmap",
            "colorbar": {
             "outlinewidth": 0,
             "ticks": ""
            },
            "colorscale": [
             [
              0.0,
              "#0d0887"
             ],
             [
              0.1111111111111111,
              "#46039f"
             ],
             [
              0.2222222222222222,
              "#7201a8"
             ],
             [
              0.3333333333333333,
              "#9c179e"
             ],
             [
              0.4444444444444444,
              "#bd3786"
             ],
             [
              0.5555555555555556,
              "#d8576b"
             ],
             [
              0.6666666666666666,
              "#ed7953"
             ],
             [
              0.7777777777777778,
              "#fb9f3a"
             ],
             [
              0.8888888888888888,
              "#fdca26"
             ],
             [
              1.0,
              "#f0f921"
             ]
            ]
           }
          ],
          "heatmapgl": [
           {
            "type": "heatmapgl",
            "colorbar": {
             "outlinewidth": 0,
             "ticks": ""
            },
            "colorscale": [
             [
              0.0,
              "#0d0887"
             ],
             [
              0.1111111111111111,
              "#46039f"
             ],
             [
              0.2222222222222222,
              "#7201a8"
             ],
             [
              0.3333333333333333,
              "#9c179e"
             ],
             [
              0.4444444444444444,
              "#bd3786"
             ],
             [
              0.5555555555555556,
              "#d8576b"
             ],
             [
              0.6666666666666666,
              "#ed7953"
             ],
             [
              0.7777777777777778,
              "#fb9f3a"
             ],
             [
              0.8888888888888888,
              "#fdca26"
             ],
             [
              1.0,
              "#f0f921"
             ]
            ]
           }
          ],
          "contourcarpet": [
           {
            "type": "contourcarpet",
            "colorbar": {
             "outlinewidth": 0,
             "ticks": ""
            }
           }
          ],
          "contour": [
           {
            "type": "contour",
            "colorbar": {
             "outlinewidth": 0,
             "ticks": ""
            },
            "colorscale": [
             [
              0.0,
              "#0d0887"
             ],
             [
              0.1111111111111111,
              "#46039f"
             ],
             [
              0.2222222222222222,
              "#7201a8"
             ],
             [
              0.3333333333333333,
              "#9c179e"
             ],
             [
              0.4444444444444444,
              "#bd3786"
             ],
             [
              0.5555555555555556,
              "#d8576b"
             ],
             [
              0.6666666666666666,
              "#ed7953"
             ],
             [
              0.7777777777777778,
              "#fb9f3a"
             ],
             [
              0.8888888888888888,
              "#fdca26"
             ],
             [
              1.0,
              "#f0f921"
             ]
            ]
           }
          ],
          "surface": [
           {
            "type": "surface",
            "colorbar": {
             "outlinewidth": 0,
             "ticks": ""
            },
            "colorscale": [
             [
              0.0,
              "#0d0887"
             ],
             [
              0.1111111111111111,
              "#46039f"
             ],
             [
              0.2222222222222222,
              "#7201a8"
             ],
             [
              0.3333333333333333,
              "#9c179e"
             ],
             [
              0.4444444444444444,
              "#bd3786"
             ],
             [
              0.5555555555555556,
              "#d8576b"
             ],
             [
              0.6666666666666666,
              "#ed7953"
             ],
             [
              0.7777777777777778,
              "#fb9f3a"
             ],
             [
              0.8888888888888888,
              "#fdca26"
             ],
             [
              1.0,
              "#f0f921"
             ]
            ]
           }
          ],
          "mesh3d": [
           {
            "type": "mesh3d",
            "colorbar": {
             "outlinewidth": 0,
             "ticks": ""
            }
           }
          ],
          "scatter": [
           {
            "marker": {
             "line": {
              "color": "#283442"
             }
            },
            "type": "scatter"
           }
          ],
          "parcoords": [
           {
            "type": "parcoords",
            "line": {
             "colorbar": {
              "outlinewidth": 0,
              "ticks": ""
             }
            }
           }
          ],
          "scatterpolargl": [
           {
            "type": "scatterpolargl",
            "marker": {
             "colorbar": {
              "outlinewidth": 0,
              "ticks": ""
             }
            }
           }
          ],
          "bar": [
           {
            "error_x": {
             "color": "#f2f5fa"
            },
            "error_y": {
             "color": "#f2f5fa"
            },
            "marker": {
             "line": {
              "color": "rgb(17,17,17)",
              "width": 0.5
             },
             "pattern": {
              "fillmode": "overlay",
              "size": 10,
              "solidity": 0.2
             }
            },
            "type": "bar"
           }
          ],
          "scattergeo": [
           {
            "type": "scattergeo",
            "marker": {
             "colorbar": {
              "outlinewidth": 0,
              "ticks": ""
             }
            }
           }
          ],
          "scatterpolar": [
           {
            "type": "scatterpolar",
            "marker": {
             "colorbar": {
              "outlinewidth": 0,
              "ticks": ""
             }
            }
           }
          ],
          "histogram": [
           {
            "marker": {
             "pattern": {
              "fillmode": "overlay",
              "size": 10,
              "solidity": 0.2
             }
            },
            "type": "histogram"
           }
          ],
          "scattergl": [
           {
            "marker": {
             "line": {
              "color": "#283442"
             }
            },
            "type": "scattergl"
           }
          ],
          "scatter3d": [
           {
            "type": "scatter3d",
            "line": {
             "colorbar": {
              "outlinewidth": 0,
              "ticks": ""
             }
            },
            "marker": {
             "colorbar": {
              "outlinewidth": 0,
              "ticks": ""
             }
            }
           }
          ],
          "scattermapbox": [
           {
            "type": "scattermapbox",
            "marker": {
             "colorbar": {
              "outlinewidth": 0,
              "ticks": ""
             }
            }
           }
          ],
          "scatterternary": [
           {
            "type": "scatterternary",
            "marker": {
             "colorbar": {
              "outlinewidth": 0,
              "ticks": ""
             }
            }
           }
          ],
          "scattercarpet": [
           {
            "type": "scattercarpet",
            "marker": {
             "colorbar": {
              "outlinewidth": 0,
              "ticks": ""
             }
            }
           }
          ],
          "carpet": [
           {
            "aaxis": {
             "endlinecolor": "#A2B1C6",
             "gridcolor": "#506784",
             "linecolor": "#506784",
             "minorgridcolor": "#506784",
             "startlinecolor": "#A2B1C6"
            },
            "baxis": {
             "endlinecolor": "#A2B1C6",
             "gridcolor": "#506784",
             "linecolor": "#506784",
             "minorgridcolor": "#506784",
             "startlinecolor": "#A2B1C6"
            },
            "type": "carpet"
           }
          ],
          "table": [
           {
            "cells": {
             "fill": {
              "color": "#506784"
             },
             "line": {
              "color": "rgb(17,17,17)"
             }
            },
            "header": {
             "fill": {
              "color": "#2a3f5f"
             },
             "line": {
              "color": "rgb(17,17,17)"
             }
            },
            "type": "table"
           }
          ],
          "barpolar": [
           {
            "marker": {
             "line": {
              "color": "rgb(17,17,17)",
              "width": 0.5
             },
             "pattern": {
              "fillmode": "overlay",
              "size": 10,
              "solidity": 0.2
             }
            },
            "type": "barpolar"
           }
          ],
          "pie": [
           {
            "automargin": true,
            "type": "pie"
           }
          ]
         },
         "layout": {
          "autotypenumbers": "strict",
          "colorway": [
           "#636efa",
           "#EF553B",
           "#00cc96",
           "#ab63fa",
           "#FFA15A",
           "#19d3f3",
           "#FF6692",
           "#B6E880",
           "#FF97FF",
           "#FECB52"
          ],
          "font": {
           "color": "#f2f5fa"
          },
          "hovermode": "closest",
          "hoverlabel": {
           "align": "left"
          },
          "paper_bgcolor": "rgb(17,17,17)",
          "plot_bgcolor": "rgb(17,17,17)",
          "polar": {
           "bgcolor": "rgb(17,17,17)",
           "angularaxis": {
            "gridcolor": "#506784",
            "linecolor": "#506784",
            "ticks": ""
           },
           "radialaxis": {
            "gridcolor": "#506784",
            "linecolor": "#506784",
            "ticks": ""
           }
          },
          "ternary": {
           "bgcolor": "rgb(17,17,17)",
           "aaxis": {
            "gridcolor": "#506784",
            "linecolor": "#506784",
            "ticks": ""
           },
           "baxis": {
            "gridcolor": "#506784",
            "linecolor": "#506784",
            "ticks": ""
           },
           "caxis": {
            "gridcolor": "#506784",
            "linecolor": "#506784",
            "ticks": ""
           }
          },
          "coloraxis": {
           "colorbar": {
            "outlinewidth": 0,
            "ticks": ""
           }
          },
          "colorscale": {
           "sequential": [
            [
             0.0,
             "#0d0887"
            ],
            [
             0.1111111111111111,
             "#46039f"
            ],
            [
             0.2222222222222222,
             "#7201a8"
            ],
            [
             0.3333333333333333,
             "#9c179e"
            ],
            [
             0.4444444444444444,
             "#bd3786"
            ],
            [
             0.5555555555555556,
             "#d8576b"
            ],
            [
             0.6666666666666666,
             "#ed7953"
            ],
            [
             0.7777777777777778,
             "#fb9f3a"
            ],
            [
             0.8888888888888888,
             "#fdca26"
            ],
            [
             1.0,
             "#f0f921"
            ]
           ],
           "sequentialminus": [
            [
             0.0,
             "#0d0887"
            ],
            [
             0.1111111111111111,
             "#46039f"
            ],
            [
             0.2222222222222222,
             "#7201a8"
            ],
            [
             0.3333333333333333,
             "#9c179e"
            ],
            [
             0.4444444444444444,
             "#bd3786"
            ],
            [
             0.5555555555555556,
             "#d8576b"
            ],
            [
             0.6666666666666666,
             "#ed7953"
            ],
            [
             0.7777777777777778,
             "#fb9f3a"
            ],
            [
             0.8888888888888888,
             "#fdca26"
            ],
            [
             1.0,
             "#f0f921"
            ]
           ],
           "diverging": [
            [
             0,
             "#8e0152"
            ],
            [
             0.1,
             "#c51b7d"
            ],
            [
             0.2,
             "#de77ae"
            ],
            [
             0.3,
             "#f1b6da"
            ],
            [
             0.4,
             "#fde0ef"
            ],
            [
             0.5,
             "#f7f7f7"
            ],
            [
             0.6,
             "#e6f5d0"
            ],
            [
             0.7,
             "#b8e186"
            ],
            [
             0.8,
             "#7fbc41"
            ],
            [
             0.9,
             "#4d9221"
            ],
            [
             1,
             "#276419"
            ]
           ]
          },
          "xaxis": {
           "gridcolor": "#283442",
           "linecolor": "#506784",
           "ticks": "",
           "title": {
            "standoff": 15
           },
           "zerolinecolor": "#283442",
           "automargin": true,
           "zerolinewidth": 2
          },
          "yaxis": {
           "gridcolor": "#283442",
           "linecolor": "#506784",
           "ticks": "",
           "title": {
            "standoff": 15
           },
           "zerolinecolor": "#283442",
           "automargin": true,
           "zerolinewidth": 2
          },
          "scene": {
           "xaxis": {
            "backgroundcolor": "rgb(17,17,17)",
            "gridcolor": "#506784",
            "linecolor": "#506784",
            "showbackground": true,
            "ticks": "",
            "zerolinecolor": "#C8D4E3",
            "gridwidth": 2
           },
           "yaxis": {
            "backgroundcolor": "rgb(17,17,17)",
            "gridcolor": "#506784",
            "linecolor": "#506784",
            "showbackground": true,
            "ticks": "",
            "zerolinecolor": "#C8D4E3",
            "gridwidth": 2
           },
           "zaxis": {
            "backgroundcolor": "rgb(17,17,17)",
            "gridcolor": "#506784",
            "linecolor": "#506784",
            "showbackground": true,
            "ticks": "",
            "zerolinecolor": "#C8D4E3",
            "gridwidth": 2
           }
          },
          "shapedefaults": {
           "line": {
            "color": "#f2f5fa"
           }
          },
          "annotationdefaults": {
           "arrowcolor": "#f2f5fa",
           "arrowhead": 0,
           "arrowwidth": 1
          },
          "geo": {
           "bgcolor": "rgb(17,17,17)",
           "landcolor": "rgb(17,17,17)",
           "subunitcolor": "#506784",
           "showland": true,
           "showlakes": true,
           "lakecolor": "rgb(17,17,17)"
          },
          "title": {
           "x": 0.05
          },
          "updatemenudefaults": {
           "bgcolor": "#506784",
           "borderwidth": 0
          },
          "sliderdefaults": {
           "bgcolor": "#C8D4E3",
           "borderwidth": 1,
           "bordercolor": "rgb(17,17,17)",
           "tickwidth": 0
          },
          "mapbox": {
           "style": "dark"
          }
         }
        },
        "xaxis": {
         "anchor": "y",
         "domain": [
          0.0,
          1.0
         ],
         "title": {
          "text": "Directeur"
         },
         "categoryorder": "total descending"
        },
        "yaxis": {
         "anchor": "x",
         "domain": [
          0.0,
          1.0
         ],
         "title": {
          "text": "Moyenne de Rating"
         }
        },
        "legend": {
         "tracegroupgap": 0
        },
        "title": {
         "text": "Moyenne de Rating par Director et Nombre de Films"
        },
        "barmode": "relative",
        "hovermode": "x unified"
       },
       "config": {
        "plotlyServerURL": "https://plot.ly"
       }
      },
      "text/html": [
       "<div>                            <div id=\"116704cb-7a8e-476e-ba6f-a085d8662dda\" class=\"plotly-graph-div\" style=\"height:525px; width:100%;\"></div>            <script type=\"text/javascript\">                require([\"plotly\"], function(Plotly) {                    window.PLOTLYENV=window.PLOTLYENV || {};                                    if (document.getElementById(\"116704cb-7a8e-476e-ba6f-a085d8662dda\")) {                    Plotly.newPlot(                        \"116704cb-7a8e-476e-ba6f-a085d8662dda\",                        [{\"alignmentgroup\":\"True\",\"customdata\":[[3],[6],[6],[9],[12],[3],[9],[4],[3]],\"hovertemplate\":\"Directeur=%{x}\\u003cbr\\u003eMoyenne de Rating=%{y}\\u003cbr\\u003eNombre de Films=%{customdata[0]}\\u003cextra\\u003e\\u003c\\u002fextra\\u003e\",\"legendgroup\":\"\",\"marker\":{\"color\":\"#636efa\",\"pattern\":{\"shape\":\"\"}},\"name\":\"\",\"offsetgroup\":\"\",\"orientation\":\"v\",\"showlegend\":false,\"textposition\":\"auto\",\"x\":[\"Billy Wilder\",\"Akira Kurosawa\",\"Sergio Leone\",\"Stanley Kubrick\",\"Christopher Nolan\",\"Milos Forman\",\"Quentin Tarantino\",\"Pete Docter\",\"Ingmar Bergman\"],\"xaxis\":\"x\",\"y\":[8.299999872843424,8.233333349227905,8.21666669845581,8.177777767181396,8.166666626930237,8.166666507720947,8.133333259158665,8.125000238418579,8.100000381469727],\"yaxis\":\"y\",\"type\":\"bar\"}],                        {\"template\":{\"data\":{\"histogram2dcontour\":[{\"type\":\"histogram2dcontour\",\"colorbar\":{\"outlinewidth\":0,\"ticks\":\"\"},\"colorscale\":[[0.0,\"#0d0887\"],[0.1111111111111111,\"#46039f\"],[0.2222222222222222,\"#7201a8\"],[0.3333333333333333,\"#9c179e\"],[0.4444444444444444,\"#bd3786\"],[0.5555555555555556,\"#d8576b\"],[0.6666666666666666,\"#ed7953\"],[0.7777777777777778,\"#fb9f3a\"],[0.8888888888888888,\"#fdca26\"],[1.0,\"#f0f921\"]]}],\"choropleth\":[{\"type\":\"choropleth\",\"colorbar\":{\"outlinewidth\":0,\"ticks\":\"\"}}],\"histogram2d\":[{\"type\":\"histogram2d\",\"colorbar\":{\"outlinewidth\":0,\"ticks\":\"\"},\"colorscale\":[[0.0,\"#0d0887\"],[0.1111111111111111,\"#46039f\"],[0.2222222222222222,\"#7201a8\"],[0.3333333333333333,\"#9c179e\"],[0.4444444444444444,\"#bd3786\"],[0.5555555555555556,\"#d8576b\"],[0.6666666666666666,\"#ed7953\"],[0.7777777777777778,\"#fb9f3a\"],[0.8888888888888888,\"#fdca26\"],[1.0,\"#f0f921\"]]}],\"heatmap\":[{\"type\":\"heatmap\",\"colorbar\":{\"outlinewidth\":0,\"ticks\":\"\"},\"colorscale\":[[0.0,\"#0d0887\"],[0.1111111111111111,\"#46039f\"],[0.2222222222222222,\"#7201a8\"],[0.3333333333333333,\"#9c179e\"],[0.4444444444444444,\"#bd3786\"],[0.5555555555555556,\"#d8576b\"],[0.6666666666666666,\"#ed7953\"],[0.7777777777777778,\"#fb9f3a\"],[0.8888888888888888,\"#fdca26\"],[1.0,\"#f0f921\"]]}],\"heatmapgl\":[{\"type\":\"heatmapgl\",\"colorbar\":{\"outlinewidth\":0,\"ticks\":\"\"},\"colorscale\":[[0.0,\"#0d0887\"],[0.1111111111111111,\"#46039f\"],[0.2222222222222222,\"#7201a8\"],[0.3333333333333333,\"#9c179e\"],[0.4444444444444444,\"#bd3786\"],[0.5555555555555556,\"#d8576b\"],[0.6666666666666666,\"#ed7953\"],[0.7777777777777778,\"#fb9f3a\"],[0.8888888888888888,\"#fdca26\"],[1.0,\"#f0f921\"]]}],\"contourcarpet\":[{\"type\":\"contourcarpet\",\"colorbar\":{\"outlinewidth\":0,\"ticks\":\"\"}}],\"contour\":[{\"type\":\"contour\",\"colorbar\":{\"outlinewidth\":0,\"ticks\":\"\"},\"colorscale\":[[0.0,\"#0d0887\"],[0.1111111111111111,\"#46039f\"],[0.2222222222222222,\"#7201a8\"],[0.3333333333333333,\"#9c179e\"],[0.4444444444444444,\"#bd3786\"],[0.5555555555555556,\"#d8576b\"],[0.6666666666666666,\"#ed7953\"],[0.7777777777777778,\"#fb9f3a\"],[0.8888888888888888,\"#fdca26\"],[1.0,\"#f0f921\"]]}],\"surface\":[{\"type\":\"surface\",\"colorbar\":{\"outlinewidth\":0,\"ticks\":\"\"},\"colorscale\":[[0.0,\"#0d0887\"],[0.1111111111111111,\"#46039f\"],[0.2222222222222222,\"#7201a8\"],[0.3333333333333333,\"#9c179e\"],[0.4444444444444444,\"#bd3786\"],[0.5555555555555556,\"#d8576b\"],[0.6666666666666666,\"#ed7953\"],[0.7777777777777778,\"#fb9f3a\"],[0.8888888888888888,\"#fdca26\"],[1.0,\"#f0f921\"]]}],\"mesh3d\":[{\"type\":\"mesh3d\",\"colorbar\":{\"outlinewidth\":0,\"ticks\":\"\"}}],\"scatter\":[{\"marker\":{\"line\":{\"color\":\"#283442\"}},\"type\":\"scatter\"}],\"parcoords\":[{\"type\":\"parcoords\",\"line\":{\"colorbar\":{\"outlinewidth\":0,\"ticks\":\"\"}}}],\"scatterpolargl\":[{\"type\":\"scatterpolargl\",\"marker\":{\"colorbar\":{\"outlinewidth\":0,\"ticks\":\"\"}}}],\"bar\":[{\"error_x\":{\"color\":\"#f2f5fa\"},\"error_y\":{\"color\":\"#f2f5fa\"},\"marker\":{\"line\":{\"color\":\"rgb(17,17,17)\",\"width\":0.5},\"pattern\":{\"fillmode\":\"overlay\",\"size\":10,\"solidity\":0.2}},\"type\":\"bar\"}],\"scattergeo\":[{\"type\":\"scattergeo\",\"marker\":{\"colorbar\":{\"outlinewidth\":0,\"ticks\":\"\"}}}],\"scatterpolar\":[{\"type\":\"scatterpolar\",\"marker\":{\"colorbar\":{\"outlinewidth\":0,\"ticks\":\"\"}}}],\"histogram\":[{\"marker\":{\"pattern\":{\"fillmode\":\"overlay\",\"size\":10,\"solidity\":0.2}},\"type\":\"histogram\"}],\"scattergl\":[{\"marker\":{\"line\":{\"color\":\"#283442\"}},\"type\":\"scattergl\"}],\"scatter3d\":[{\"type\":\"scatter3d\",\"line\":{\"colorbar\":{\"outlinewidth\":0,\"ticks\":\"\"}},\"marker\":{\"colorbar\":{\"outlinewidth\":0,\"ticks\":\"\"}}}],\"scattermapbox\":[{\"type\":\"scattermapbox\",\"marker\":{\"colorbar\":{\"outlinewidth\":0,\"ticks\":\"\"}}}],\"scatterternary\":[{\"type\":\"scatterternary\",\"marker\":{\"colorbar\":{\"outlinewidth\":0,\"ticks\":\"\"}}}],\"scattercarpet\":[{\"type\":\"scattercarpet\",\"marker\":{\"colorbar\":{\"outlinewidth\":0,\"ticks\":\"\"}}}],\"carpet\":[{\"aaxis\":{\"endlinecolor\":\"#A2B1C6\",\"gridcolor\":\"#506784\",\"linecolor\":\"#506784\",\"minorgridcolor\":\"#506784\",\"startlinecolor\":\"#A2B1C6\"},\"baxis\":{\"endlinecolor\":\"#A2B1C6\",\"gridcolor\":\"#506784\",\"linecolor\":\"#506784\",\"minorgridcolor\":\"#506784\",\"startlinecolor\":\"#A2B1C6\"},\"type\":\"carpet\"}],\"table\":[{\"cells\":{\"fill\":{\"color\":\"#506784\"},\"line\":{\"color\":\"rgb(17,17,17)\"}},\"header\":{\"fill\":{\"color\":\"#2a3f5f\"},\"line\":{\"color\":\"rgb(17,17,17)\"}},\"type\":\"table\"}],\"barpolar\":[{\"marker\":{\"line\":{\"color\":\"rgb(17,17,17)\",\"width\":0.5},\"pattern\":{\"fillmode\":\"overlay\",\"size\":10,\"solidity\":0.2}},\"type\":\"barpolar\"}],\"pie\":[{\"automargin\":true,\"type\":\"pie\"}]},\"layout\":{\"autotypenumbers\":\"strict\",\"colorway\":[\"#636efa\",\"#EF553B\",\"#00cc96\",\"#ab63fa\",\"#FFA15A\",\"#19d3f3\",\"#FF6692\",\"#B6E880\",\"#FF97FF\",\"#FECB52\"],\"font\":{\"color\":\"#f2f5fa\"},\"hovermode\":\"closest\",\"hoverlabel\":{\"align\":\"left\"},\"paper_bgcolor\":\"rgb(17,17,17)\",\"plot_bgcolor\":\"rgb(17,17,17)\",\"polar\":{\"bgcolor\":\"rgb(17,17,17)\",\"angularaxis\":{\"gridcolor\":\"#506784\",\"linecolor\":\"#506784\",\"ticks\":\"\"},\"radialaxis\":{\"gridcolor\":\"#506784\",\"linecolor\":\"#506784\",\"ticks\":\"\"}},\"ternary\":{\"bgcolor\":\"rgb(17,17,17)\",\"aaxis\":{\"gridcolor\":\"#506784\",\"linecolor\":\"#506784\",\"ticks\":\"\"},\"baxis\":{\"gridcolor\":\"#506784\",\"linecolor\":\"#506784\",\"ticks\":\"\"},\"caxis\":{\"gridcolor\":\"#506784\",\"linecolor\":\"#506784\",\"ticks\":\"\"}},\"coloraxis\":{\"colorbar\":{\"outlinewidth\":0,\"ticks\":\"\"}},\"colorscale\":{\"sequential\":[[0.0,\"#0d0887\"],[0.1111111111111111,\"#46039f\"],[0.2222222222222222,\"#7201a8\"],[0.3333333333333333,\"#9c179e\"],[0.4444444444444444,\"#bd3786\"],[0.5555555555555556,\"#d8576b\"],[0.6666666666666666,\"#ed7953\"],[0.7777777777777778,\"#fb9f3a\"],[0.8888888888888888,\"#fdca26\"],[1.0,\"#f0f921\"]],\"sequentialminus\":[[0.0,\"#0d0887\"],[0.1111111111111111,\"#46039f\"],[0.2222222222222222,\"#7201a8\"],[0.3333333333333333,\"#9c179e\"],[0.4444444444444444,\"#bd3786\"],[0.5555555555555556,\"#d8576b\"],[0.6666666666666666,\"#ed7953\"],[0.7777777777777778,\"#fb9f3a\"],[0.8888888888888888,\"#fdca26\"],[1.0,\"#f0f921\"]],\"diverging\":[[0,\"#8e0152\"],[0.1,\"#c51b7d\"],[0.2,\"#de77ae\"],[0.3,\"#f1b6da\"],[0.4,\"#fde0ef\"],[0.5,\"#f7f7f7\"],[0.6,\"#e6f5d0\"],[0.7,\"#b8e186\"],[0.8,\"#7fbc41\"],[0.9,\"#4d9221\"],[1,\"#276419\"]]},\"xaxis\":{\"gridcolor\":\"#283442\",\"linecolor\":\"#506784\",\"ticks\":\"\",\"title\":{\"standoff\":15},\"zerolinecolor\":\"#283442\",\"automargin\":true,\"zerolinewidth\":2},\"yaxis\":{\"gridcolor\":\"#283442\",\"linecolor\":\"#506784\",\"ticks\":\"\",\"title\":{\"standoff\":15},\"zerolinecolor\":\"#283442\",\"automargin\":true,\"zerolinewidth\":2},\"scene\":{\"xaxis\":{\"backgroundcolor\":\"rgb(17,17,17)\",\"gridcolor\":\"#506784\",\"linecolor\":\"#506784\",\"showbackground\":true,\"ticks\":\"\",\"zerolinecolor\":\"#C8D4E3\",\"gridwidth\":2},\"yaxis\":{\"backgroundcolor\":\"rgb(17,17,17)\",\"gridcolor\":\"#506784\",\"linecolor\":\"#506784\",\"showbackground\":true,\"ticks\":\"\",\"zerolinecolor\":\"#C8D4E3\",\"gridwidth\":2},\"zaxis\":{\"backgroundcolor\":\"rgb(17,17,17)\",\"gridcolor\":\"#506784\",\"linecolor\":\"#506784\",\"showbackground\":true,\"ticks\":\"\",\"zerolinecolor\":\"#C8D4E3\",\"gridwidth\":2}},\"shapedefaults\":{\"line\":{\"color\":\"#f2f5fa\"}},\"annotationdefaults\":{\"arrowcolor\":\"#f2f5fa\",\"arrowhead\":0,\"arrowwidth\":1},\"geo\":{\"bgcolor\":\"rgb(17,17,17)\",\"landcolor\":\"rgb(17,17,17)\",\"subunitcolor\":\"#506784\",\"showland\":true,\"showlakes\":true,\"lakecolor\":\"rgb(17,17,17)\"},\"title\":{\"x\":0.05},\"updatemenudefaults\":{\"bgcolor\":\"#506784\",\"borderwidth\":0},\"sliderdefaults\":{\"bgcolor\":\"#C8D4E3\",\"borderwidth\":1,\"bordercolor\":\"rgb(17,17,17)\",\"tickwidth\":0},\"mapbox\":{\"style\":\"dark\"}}},\"xaxis\":{\"anchor\":\"y\",\"domain\":[0.0,1.0],\"title\":{\"text\":\"Directeur\"},\"categoryorder\":\"total descending\"},\"yaxis\":{\"anchor\":\"x\",\"domain\":[0.0,1.0],\"title\":{\"text\":\"Moyenne de Rating\"}},\"legend\":{\"tracegroupgap\":0},\"title\":{\"text\":\"Moyenne de Rating par Director et Nombre de Films\"},\"barmode\":\"relative\",\"hovermode\":\"x unified\"},                        {\"responsive\": true}                    ).then(function(){\n",
       "                            \n",
       "var gd = document.getElementById('116704cb-7a8e-476e-ba6f-a085d8662dda');\n",
       "var x = new MutationObserver(function (mutations, observer) {{\n",
       "        var display = window.getComputedStyle(gd).display;\n",
       "        if (!display || display === 'none') {{\n",
       "            console.log([gd, 'removed!']);\n",
       "            Plotly.purge(gd);\n",
       "            observer.disconnect();\n",
       "        }}\n",
       "}});\n",
       "\n",
       "// Listen for the removal of the full notebook cells\n",
       "var notebookContainer = gd.closest('#notebook-container');\n",
       "if (notebookContainer) {{\n",
       "    x.observe(notebookContainer, {childList: true});\n",
       "}}\n",
       "\n",
       "// Listen for the clearing of the current output cell\n",
       "var outputEl = gd.closest('.output');\n",
       "if (outputEl) {{\n",
       "    x.observe(outputEl, {childList: true});\n",
       "}}\n",
       "\n",
       "                        })                };                });            </script>        </div>"
      ]
     },
     "metadata": {},
     "output_type": "display_data"
    }
   ],
   "execution_count": 33
  },
  {
   "metadata": {
    "ExecuteTime": {
     "end_time": "2024-07-15T14:08:46.273902Z",
     "start_time": "2024-07-15T14:08:46.053253Z"
    }
   },
   "cell_type": "code",
   "source": [
    "# Séparation des genres et explosion des listes de genres en lignes individuelles\n",
    "df_genres = df.withColumn(\"Genre\", explode(split(col(\"Genre\"), \",\\s*\")))\n",
    "\n",
    "# Calcul de la moyenne de Rating pour chaque genre\n",
    "average_rating_by_genre = df_genres.groupBy(\"Genre\").agg(\n",
    "    avg(\"Rating\").alias(\"avg_rating\")\n",
    ").orderBy(\"avg_rating\", ascending=False)\n",
    "\n",
    "# Convertir en DataFrame Pandas\n",
    "average_rating_by_genre_pandas = average_rating_by_genre.toPandas()\n",
    "\n",
    "fig = px.bar(average_rating_by_genre_pandas, x='Genre', y='avg_rating',\n",
    "             title='Moyenne de Rating par Genre',\n",
    "             labels={'avg_rating': 'Moyenne de Rating', 'Genre': 'Genre'})\n",
    "\n",
    "# Personnalisation du graphique pour améliorer la lisibilité\n",
    "fig.update_layout(xaxis={'categoryorder': 'total descending'},\n",
    "                  xaxis_title='Genre',\n",
    "                  yaxis_title='Moyenne de Rating',\n",
    "                  hovermode='x unified')\n",
    "\n",
    "# Affichage du graphique\n",
    "fig.show()"
   ],
   "id": "a3fb99d65d5c861a",
   "outputs": [
    {
     "name": "stderr",
     "output_type": "stream",
     "text": [
      "<>:2: SyntaxWarning:\n",
      "\n",
      "invalid escape sequence '\\s'\n",
      "\n",
      "<>:2: SyntaxWarning:\n",
      "\n",
      "invalid escape sequence '\\s'\n",
      "\n",
      "/tmp/ipykernel_2894/3913130488.py:2: SyntaxWarning:\n",
      "\n",
      "invalid escape sequence '\\s'\n",
      "\n"
     ]
    },
    {
     "data": {
      "application/vnd.plotly.v1+json": {
       "data": [
        {
         "alignmentgroup": "True",
         "hovertemplate": "Genre=%{x}<br>Moyenne de Rating=%{y}<extra></extra>",
         "legendgroup": "",
         "marker": {
          "color": "#636efa",
          "pattern": {
           "shape": ""
          }
         },
         "name": "",
         "offsetgroup": "",
         "orientation": "v",
         "showlegend": false,
         "textposition": "auto",
         "x": [
          "Film-Noir",
          "Documentary",
          "War",
          "Biography",
          "History",
          "Western",
          "Animation",
          "Drama",
          "Sport",
          "Musical",
          "Music",
          "Crime",
          "Romance",
          "Adventure",
          "Mystery",
          "Thriller",
          "Action",
          "Comedy",
          "Sci-Fi",
          "Family",
          "Fantasy",
          "Horror"
         ],
         "xaxis": "x",
         "y": [
          7.9571429661342075,
          7.847222235467699,
          7.240000013871627,
          7.090532561495929,
          7.04423077748372,
          6.988709680495724,
          6.939941696800921,
          6.811623784079068,
          6.744871807404054,
          6.704347828160161,
          6.667676772734131,
          6.6387043183428105,
          6.536789635480461,
          6.510300753887434,
          6.4223418595171555,
          6.418904588626889,
          6.3886141410979,
          6.368864143292994,
          6.342385321582129,
          6.2796561704324105,
          6.277966111393298,
          6.014064357164221
         ],
         "yaxis": "y",
         "type": "bar"
        }
       ],
       "layout": {
        "template": {
         "data": {
          "histogram2dcontour": [
           {
            "type": "histogram2dcontour",
            "colorbar": {
             "outlinewidth": 0,
             "ticks": ""
            },
            "colorscale": [
             [
              0.0,
              "#0d0887"
             ],
             [
              0.1111111111111111,
              "#46039f"
             ],
             [
              0.2222222222222222,
              "#7201a8"
             ],
             [
              0.3333333333333333,
              "#9c179e"
             ],
             [
              0.4444444444444444,
              "#bd3786"
             ],
             [
              0.5555555555555556,
              "#d8576b"
             ],
             [
              0.6666666666666666,
              "#ed7953"
             ],
             [
              0.7777777777777778,
              "#fb9f3a"
             ],
             [
              0.8888888888888888,
              "#fdca26"
             ],
             [
              1.0,
              "#f0f921"
             ]
            ]
           }
          ],
          "choropleth": [
           {
            "type": "choropleth",
            "colorbar": {
             "outlinewidth": 0,
             "ticks": ""
            }
           }
          ],
          "histogram2d": [
           {
            "type": "histogram2d",
            "colorbar": {
             "outlinewidth": 0,
             "ticks": ""
            },
            "colorscale": [
             [
              0.0,
              "#0d0887"
             ],
             [
              0.1111111111111111,
              "#46039f"
             ],
             [
              0.2222222222222222,
              "#7201a8"
             ],
             [
              0.3333333333333333,
              "#9c179e"
             ],
             [
              0.4444444444444444,
              "#bd3786"
             ],
             [
              0.5555555555555556,
              "#d8576b"
             ],
             [
              0.6666666666666666,
              "#ed7953"
             ],
             [
              0.7777777777777778,
              "#fb9f3a"
             ],
             [
              0.8888888888888888,
              "#fdca26"
             ],
             [
              1.0,
              "#f0f921"
             ]
            ]
           }
          ],
          "heatmap": [
           {
            "type": "heatmap",
            "colorbar": {
             "outlinewidth": 0,
             "ticks": ""
            },
            "colorscale": [
             [
              0.0,
              "#0d0887"
             ],
             [
              0.1111111111111111,
              "#46039f"
             ],
             [
              0.2222222222222222,
              "#7201a8"
             ],
             [
              0.3333333333333333,
              "#9c179e"
             ],
             [
              0.4444444444444444,
              "#bd3786"
             ],
             [
              0.5555555555555556,
              "#d8576b"
             ],
             [
              0.6666666666666666,
              "#ed7953"
             ],
             [
              0.7777777777777778,
              "#fb9f3a"
             ],
             [
              0.8888888888888888,
              "#fdca26"
             ],
             [
              1.0,
              "#f0f921"
             ]
            ]
           }
          ],
          "heatmapgl": [
           {
            "type": "heatmapgl",
            "colorbar": {
             "outlinewidth": 0,
             "ticks": ""
            },
            "colorscale": [
             [
              0.0,
              "#0d0887"
             ],
             [
              0.1111111111111111,
              "#46039f"
             ],
             [
              0.2222222222222222,
              "#7201a8"
             ],
             [
              0.3333333333333333,
              "#9c179e"
             ],
             [
              0.4444444444444444,
              "#bd3786"
             ],
             [
              0.5555555555555556,
              "#d8576b"
             ],
             [
              0.6666666666666666,
              "#ed7953"
             ],
             [
              0.7777777777777778,
              "#fb9f3a"
             ],
             [
              0.8888888888888888,
              "#fdca26"
             ],
             [
              1.0,
              "#f0f921"
             ]
            ]
           }
          ],
          "contourcarpet": [
           {
            "type": "contourcarpet",
            "colorbar": {
             "outlinewidth": 0,
             "ticks": ""
            }
           }
          ],
          "contour": [
           {
            "type": "contour",
            "colorbar": {
             "outlinewidth": 0,
             "ticks": ""
            },
            "colorscale": [
             [
              0.0,
              "#0d0887"
             ],
             [
              0.1111111111111111,
              "#46039f"
             ],
             [
              0.2222222222222222,
              "#7201a8"
             ],
             [
              0.3333333333333333,
              "#9c179e"
             ],
             [
              0.4444444444444444,
              "#bd3786"
             ],
             [
              0.5555555555555556,
              "#d8576b"
             ],
             [
              0.6666666666666666,
              "#ed7953"
             ],
             [
              0.7777777777777778,
              "#fb9f3a"
             ],
             [
              0.8888888888888888,
              "#fdca26"
             ],
             [
              1.0,
              "#f0f921"
             ]
            ]
           }
          ],
          "surface": [
           {
            "type": "surface",
            "colorbar": {
             "outlinewidth": 0,
             "ticks": ""
            },
            "colorscale": [
             [
              0.0,
              "#0d0887"
             ],
             [
              0.1111111111111111,
              "#46039f"
             ],
             [
              0.2222222222222222,
              "#7201a8"
             ],
             [
              0.3333333333333333,
              "#9c179e"
             ],
             [
              0.4444444444444444,
              "#bd3786"
             ],
             [
              0.5555555555555556,
              "#d8576b"
             ],
             [
              0.6666666666666666,
              "#ed7953"
             ],
             [
              0.7777777777777778,
              "#fb9f3a"
             ],
             [
              0.8888888888888888,
              "#fdca26"
             ],
             [
              1.0,
              "#f0f921"
             ]
            ]
           }
          ],
          "mesh3d": [
           {
            "type": "mesh3d",
            "colorbar": {
             "outlinewidth": 0,
             "ticks": ""
            }
           }
          ],
          "scatter": [
           {
            "marker": {
             "line": {
              "color": "#283442"
             }
            },
            "type": "scatter"
           }
          ],
          "parcoords": [
           {
            "type": "parcoords",
            "line": {
             "colorbar": {
              "outlinewidth": 0,
              "ticks": ""
             }
            }
           }
          ],
          "scatterpolargl": [
           {
            "type": "scatterpolargl",
            "marker": {
             "colorbar": {
              "outlinewidth": 0,
              "ticks": ""
             }
            }
           }
          ],
          "bar": [
           {
            "error_x": {
             "color": "#f2f5fa"
            },
            "error_y": {
             "color": "#f2f5fa"
            },
            "marker": {
             "line": {
              "color": "rgb(17,17,17)",
              "width": 0.5
             },
             "pattern": {
              "fillmode": "overlay",
              "size": 10,
              "solidity": 0.2
             }
            },
            "type": "bar"
           }
          ],
          "scattergeo": [
           {
            "type": "scattergeo",
            "marker": {
             "colorbar": {
              "outlinewidth": 0,
              "ticks": ""
             }
            }
           }
          ],
          "scatterpolar": [
           {
            "type": "scatterpolar",
            "marker": {
             "colorbar": {
              "outlinewidth": 0,
              "ticks": ""
             }
            }
           }
          ],
          "histogram": [
           {
            "marker": {
             "pattern": {
              "fillmode": "overlay",
              "size": 10,
              "solidity": 0.2
             }
            },
            "type": "histogram"
           }
          ],
          "scattergl": [
           {
            "marker": {
             "line": {
              "color": "#283442"
             }
            },
            "type": "scattergl"
           }
          ],
          "scatter3d": [
           {
            "type": "scatter3d",
            "line": {
             "colorbar": {
              "outlinewidth": 0,
              "ticks": ""
             }
            },
            "marker": {
             "colorbar": {
              "outlinewidth": 0,
              "ticks": ""
             }
            }
           }
          ],
          "scattermapbox": [
           {
            "type": "scattermapbox",
            "marker": {
             "colorbar": {
              "outlinewidth": 0,
              "ticks": ""
             }
            }
           }
          ],
          "scatterternary": [
           {
            "type": "scatterternary",
            "marker": {
             "colorbar": {
              "outlinewidth": 0,
              "ticks": ""
             }
            }
           }
          ],
          "scattercarpet": [
           {
            "type": "scattercarpet",
            "marker": {
             "colorbar": {
              "outlinewidth": 0,
              "ticks": ""
             }
            }
           }
          ],
          "carpet": [
           {
            "aaxis": {
             "endlinecolor": "#A2B1C6",
             "gridcolor": "#506784",
             "linecolor": "#506784",
             "minorgridcolor": "#506784",
             "startlinecolor": "#A2B1C6"
            },
            "baxis": {
             "endlinecolor": "#A2B1C6",
             "gridcolor": "#506784",
             "linecolor": "#506784",
             "minorgridcolor": "#506784",
             "startlinecolor": "#A2B1C6"
            },
            "type": "carpet"
           }
          ],
          "table": [
           {
            "cells": {
             "fill": {
              "color": "#506784"
             },
             "line": {
              "color": "rgb(17,17,17)"
             }
            },
            "header": {
             "fill": {
              "color": "#2a3f5f"
             },
             "line": {
              "color": "rgb(17,17,17)"
             }
            },
            "type": "table"
           }
          ],
          "barpolar": [
           {
            "marker": {
             "line": {
              "color": "rgb(17,17,17)",
              "width": 0.5
             },
             "pattern": {
              "fillmode": "overlay",
              "size": 10,
              "solidity": 0.2
             }
            },
            "type": "barpolar"
           }
          ],
          "pie": [
           {
            "automargin": true,
            "type": "pie"
           }
          ]
         },
         "layout": {
          "autotypenumbers": "strict",
          "colorway": [
           "#636efa",
           "#EF553B",
           "#00cc96",
           "#ab63fa",
           "#FFA15A",
           "#19d3f3",
           "#FF6692",
           "#B6E880",
           "#FF97FF",
           "#FECB52"
          ],
          "font": {
           "color": "#f2f5fa"
          },
          "hovermode": "closest",
          "hoverlabel": {
           "align": "left"
          },
          "paper_bgcolor": "rgb(17,17,17)",
          "plot_bgcolor": "rgb(17,17,17)",
          "polar": {
           "bgcolor": "rgb(17,17,17)",
           "angularaxis": {
            "gridcolor": "#506784",
            "linecolor": "#506784",
            "ticks": ""
           },
           "radialaxis": {
            "gridcolor": "#506784",
            "linecolor": "#506784",
            "ticks": ""
           }
          },
          "ternary": {
           "bgcolor": "rgb(17,17,17)",
           "aaxis": {
            "gridcolor": "#506784",
            "linecolor": "#506784",
            "ticks": ""
           },
           "baxis": {
            "gridcolor": "#506784",
            "linecolor": "#506784",
            "ticks": ""
           },
           "caxis": {
            "gridcolor": "#506784",
            "linecolor": "#506784",
            "ticks": ""
           }
          },
          "coloraxis": {
           "colorbar": {
            "outlinewidth": 0,
            "ticks": ""
           }
          },
          "colorscale": {
           "sequential": [
            [
             0.0,
             "#0d0887"
            ],
            [
             0.1111111111111111,
             "#46039f"
            ],
            [
             0.2222222222222222,
             "#7201a8"
            ],
            [
             0.3333333333333333,
             "#9c179e"
            ],
            [
             0.4444444444444444,
             "#bd3786"
            ],
            [
             0.5555555555555556,
             "#d8576b"
            ],
            [
             0.6666666666666666,
             "#ed7953"
            ],
            [
             0.7777777777777778,
             "#fb9f3a"
            ],
            [
             0.8888888888888888,
             "#fdca26"
            ],
            [
             1.0,
             "#f0f921"
            ]
           ],
           "sequentialminus": [
            [
             0.0,
             "#0d0887"
            ],
            [
             0.1111111111111111,
             "#46039f"
            ],
            [
             0.2222222222222222,
             "#7201a8"
            ],
            [
             0.3333333333333333,
             "#9c179e"
            ],
            [
             0.4444444444444444,
             "#bd3786"
            ],
            [
             0.5555555555555556,
             "#d8576b"
            ],
            [
             0.6666666666666666,
             "#ed7953"
            ],
            [
             0.7777777777777778,
             "#fb9f3a"
            ],
            [
             0.8888888888888888,
             "#fdca26"
            ],
            [
             1.0,
             "#f0f921"
            ]
           ],
           "diverging": [
            [
             0,
             "#8e0152"
            ],
            [
             0.1,
             "#c51b7d"
            ],
            [
             0.2,
             "#de77ae"
            ],
            [
             0.3,
             "#f1b6da"
            ],
            [
             0.4,
             "#fde0ef"
            ],
            [
             0.5,
             "#f7f7f7"
            ],
            [
             0.6,
             "#e6f5d0"
            ],
            [
             0.7,
             "#b8e186"
            ],
            [
             0.8,
             "#7fbc41"
            ],
            [
             0.9,
             "#4d9221"
            ],
            [
             1,
             "#276419"
            ]
           ]
          },
          "xaxis": {
           "gridcolor": "#283442",
           "linecolor": "#506784",
           "ticks": "",
           "title": {
            "standoff": 15
           },
           "zerolinecolor": "#283442",
           "automargin": true,
           "zerolinewidth": 2
          },
          "yaxis": {
           "gridcolor": "#283442",
           "linecolor": "#506784",
           "ticks": "",
           "title": {
            "standoff": 15
           },
           "zerolinecolor": "#283442",
           "automargin": true,
           "zerolinewidth": 2
          },
          "scene": {
           "xaxis": {
            "backgroundcolor": "rgb(17,17,17)",
            "gridcolor": "#506784",
            "linecolor": "#506784",
            "showbackground": true,
            "ticks": "",
            "zerolinecolor": "#C8D4E3",
            "gridwidth": 2
           },
           "yaxis": {
            "backgroundcolor": "rgb(17,17,17)",
            "gridcolor": "#506784",
            "linecolor": "#506784",
            "showbackground": true,
            "ticks": "",
            "zerolinecolor": "#C8D4E3",
            "gridwidth": 2
           },
           "zaxis": {
            "backgroundcolor": "rgb(17,17,17)",
            "gridcolor": "#506784",
            "linecolor": "#506784",
            "showbackground": true,
            "ticks": "",
            "zerolinecolor": "#C8D4E3",
            "gridwidth": 2
           }
          },
          "shapedefaults": {
           "line": {
            "color": "#f2f5fa"
           }
          },
          "annotationdefaults": {
           "arrowcolor": "#f2f5fa",
           "arrowhead": 0,
           "arrowwidth": 1
          },
          "geo": {
           "bgcolor": "rgb(17,17,17)",
           "landcolor": "rgb(17,17,17)",
           "subunitcolor": "#506784",
           "showland": true,
           "showlakes": true,
           "lakecolor": "rgb(17,17,17)"
          },
          "title": {
           "x": 0.05
          },
          "updatemenudefaults": {
           "bgcolor": "#506784",
           "borderwidth": 0
          },
          "sliderdefaults": {
           "bgcolor": "#C8D4E3",
           "borderwidth": 1,
           "bordercolor": "rgb(17,17,17)",
           "tickwidth": 0
          },
          "mapbox": {
           "style": "dark"
          }
         }
        },
        "xaxis": {
         "anchor": "y",
         "domain": [
          0.0,
          1.0
         ],
         "title": {
          "text": "Genre"
         },
         "categoryorder": "total descending"
        },
        "yaxis": {
         "anchor": "x",
         "domain": [
          0.0,
          1.0
         ],
         "title": {
          "text": "Moyenne de Rating"
         }
        },
        "legend": {
         "tracegroupgap": 0
        },
        "title": {
         "text": "Moyenne de Rating par Genre"
        },
        "barmode": "relative",
        "hovermode": "x unified"
       },
       "config": {
        "plotlyServerURL": "https://plot.ly"
       }
      },
      "text/html": [
       "<div>                            <div id=\"825b1dd1-ed28-417a-be7d-730eb0bc46c6\" class=\"plotly-graph-div\" style=\"height:525px; width:100%;\"></div>            <script type=\"text/javascript\">                require([\"plotly\"], function(Plotly) {                    window.PLOTLYENV=window.PLOTLYENV || {};                                    if (document.getElementById(\"825b1dd1-ed28-417a-be7d-730eb0bc46c6\")) {                    Plotly.newPlot(                        \"825b1dd1-ed28-417a-be7d-730eb0bc46c6\",                        [{\"alignmentgroup\":\"True\",\"hovertemplate\":\"Genre=%{x}\\u003cbr\\u003eMoyenne de Rating=%{y}\\u003cextra\\u003e\\u003c\\u002fextra\\u003e\",\"legendgroup\":\"\",\"marker\":{\"color\":\"#636efa\",\"pattern\":{\"shape\":\"\"}},\"name\":\"\",\"offsetgroup\":\"\",\"orientation\":\"v\",\"showlegend\":false,\"textposition\":\"auto\",\"x\":[\"Film-Noir\",\"Documentary\",\"War\",\"Biography\",\"History\",\"Western\",\"Animation\",\"Drama\",\"Sport\",\"Musical\",\"Music\",\"Crime\",\"Romance\",\"Adventure\",\"Mystery\",\"Thriller\",\"Action\",\"Comedy\",\"Sci-Fi\",\"Family\",\"Fantasy\",\"Horror\"],\"xaxis\":\"x\",\"y\":[7.9571429661342075,7.847222235467699,7.240000013871627,7.090532561495929,7.04423077748372,6.988709680495724,6.939941696800921,6.811623784079068,6.744871807404054,6.704347828160161,6.667676772734131,6.6387043183428105,6.536789635480461,6.510300753887434,6.4223418595171555,6.418904588626889,6.3886141410979,6.368864143292994,6.342385321582129,6.2796561704324105,6.277966111393298,6.014064357164221],\"yaxis\":\"y\",\"type\":\"bar\"}],                        {\"template\":{\"data\":{\"histogram2dcontour\":[{\"type\":\"histogram2dcontour\",\"colorbar\":{\"outlinewidth\":0,\"ticks\":\"\"},\"colorscale\":[[0.0,\"#0d0887\"],[0.1111111111111111,\"#46039f\"],[0.2222222222222222,\"#7201a8\"],[0.3333333333333333,\"#9c179e\"],[0.4444444444444444,\"#bd3786\"],[0.5555555555555556,\"#d8576b\"],[0.6666666666666666,\"#ed7953\"],[0.7777777777777778,\"#fb9f3a\"],[0.8888888888888888,\"#fdca26\"],[1.0,\"#f0f921\"]]}],\"choropleth\":[{\"type\":\"choropleth\",\"colorbar\":{\"outlinewidth\":0,\"ticks\":\"\"}}],\"histogram2d\":[{\"type\":\"histogram2d\",\"colorbar\":{\"outlinewidth\":0,\"ticks\":\"\"},\"colorscale\":[[0.0,\"#0d0887\"],[0.1111111111111111,\"#46039f\"],[0.2222222222222222,\"#7201a8\"],[0.3333333333333333,\"#9c179e\"],[0.4444444444444444,\"#bd3786\"],[0.5555555555555556,\"#d8576b\"],[0.6666666666666666,\"#ed7953\"],[0.7777777777777778,\"#fb9f3a\"],[0.8888888888888888,\"#fdca26\"],[1.0,\"#f0f921\"]]}],\"heatmap\":[{\"type\":\"heatmap\",\"colorbar\":{\"outlinewidth\":0,\"ticks\":\"\"},\"colorscale\":[[0.0,\"#0d0887\"],[0.1111111111111111,\"#46039f\"],[0.2222222222222222,\"#7201a8\"],[0.3333333333333333,\"#9c179e\"],[0.4444444444444444,\"#bd3786\"],[0.5555555555555556,\"#d8576b\"],[0.6666666666666666,\"#ed7953\"],[0.7777777777777778,\"#fb9f3a\"],[0.8888888888888888,\"#fdca26\"],[1.0,\"#f0f921\"]]}],\"heatmapgl\":[{\"type\":\"heatmapgl\",\"colorbar\":{\"outlinewidth\":0,\"ticks\":\"\"},\"colorscale\":[[0.0,\"#0d0887\"],[0.1111111111111111,\"#46039f\"],[0.2222222222222222,\"#7201a8\"],[0.3333333333333333,\"#9c179e\"],[0.4444444444444444,\"#bd3786\"],[0.5555555555555556,\"#d8576b\"],[0.6666666666666666,\"#ed7953\"],[0.7777777777777778,\"#fb9f3a\"],[0.8888888888888888,\"#fdca26\"],[1.0,\"#f0f921\"]]}],\"contourcarpet\":[{\"type\":\"contourcarpet\",\"colorbar\":{\"outlinewidth\":0,\"ticks\":\"\"}}],\"contour\":[{\"type\":\"contour\",\"colorbar\":{\"outlinewidth\":0,\"ticks\":\"\"},\"colorscale\":[[0.0,\"#0d0887\"],[0.1111111111111111,\"#46039f\"],[0.2222222222222222,\"#7201a8\"],[0.3333333333333333,\"#9c179e\"],[0.4444444444444444,\"#bd3786\"],[0.5555555555555556,\"#d8576b\"],[0.6666666666666666,\"#ed7953\"],[0.7777777777777778,\"#fb9f3a\"],[0.8888888888888888,\"#fdca26\"],[1.0,\"#f0f921\"]]}],\"surface\":[{\"type\":\"surface\",\"colorbar\":{\"outlinewidth\":0,\"ticks\":\"\"},\"colorscale\":[[0.0,\"#0d0887\"],[0.1111111111111111,\"#46039f\"],[0.2222222222222222,\"#7201a8\"],[0.3333333333333333,\"#9c179e\"],[0.4444444444444444,\"#bd3786\"],[0.5555555555555556,\"#d8576b\"],[0.6666666666666666,\"#ed7953\"],[0.7777777777777778,\"#fb9f3a\"],[0.8888888888888888,\"#fdca26\"],[1.0,\"#f0f921\"]]}],\"mesh3d\":[{\"type\":\"mesh3d\",\"colorbar\":{\"outlinewidth\":0,\"ticks\":\"\"}}],\"scatter\":[{\"marker\":{\"line\":{\"color\":\"#283442\"}},\"type\":\"scatter\"}],\"parcoords\":[{\"type\":\"parcoords\",\"line\":{\"colorbar\":{\"outlinewidth\":0,\"ticks\":\"\"}}}],\"scatterpolargl\":[{\"type\":\"scatterpolargl\",\"marker\":{\"colorbar\":{\"outlinewidth\":0,\"ticks\":\"\"}}}],\"bar\":[{\"error_x\":{\"color\":\"#f2f5fa\"},\"error_y\":{\"color\":\"#f2f5fa\"},\"marker\":{\"line\":{\"color\":\"rgb(17,17,17)\",\"width\":0.5},\"pattern\":{\"fillmode\":\"overlay\",\"size\":10,\"solidity\":0.2}},\"type\":\"bar\"}],\"scattergeo\":[{\"type\":\"scattergeo\",\"marker\":{\"colorbar\":{\"outlinewidth\":0,\"ticks\":\"\"}}}],\"scatterpolar\":[{\"type\":\"scatterpolar\",\"marker\":{\"colorbar\":{\"outlinewidth\":0,\"ticks\":\"\"}}}],\"histogram\":[{\"marker\":{\"pattern\":{\"fillmode\":\"overlay\",\"size\":10,\"solidity\":0.2}},\"type\":\"histogram\"}],\"scattergl\":[{\"marker\":{\"line\":{\"color\":\"#283442\"}},\"type\":\"scattergl\"}],\"scatter3d\":[{\"type\":\"scatter3d\",\"line\":{\"colorbar\":{\"outlinewidth\":0,\"ticks\":\"\"}},\"marker\":{\"colorbar\":{\"outlinewidth\":0,\"ticks\":\"\"}}}],\"scattermapbox\":[{\"type\":\"scattermapbox\",\"marker\":{\"colorbar\":{\"outlinewidth\":0,\"ticks\":\"\"}}}],\"scatterternary\":[{\"type\":\"scatterternary\",\"marker\":{\"colorbar\":{\"outlinewidth\":0,\"ticks\":\"\"}}}],\"scattercarpet\":[{\"type\":\"scattercarpet\",\"marker\":{\"colorbar\":{\"outlinewidth\":0,\"ticks\":\"\"}}}],\"carpet\":[{\"aaxis\":{\"endlinecolor\":\"#A2B1C6\",\"gridcolor\":\"#506784\",\"linecolor\":\"#506784\",\"minorgridcolor\":\"#506784\",\"startlinecolor\":\"#A2B1C6\"},\"baxis\":{\"endlinecolor\":\"#A2B1C6\",\"gridcolor\":\"#506784\",\"linecolor\":\"#506784\",\"minorgridcolor\":\"#506784\",\"startlinecolor\":\"#A2B1C6\"},\"type\":\"carpet\"}],\"table\":[{\"cells\":{\"fill\":{\"color\":\"#506784\"},\"line\":{\"color\":\"rgb(17,17,17)\"}},\"header\":{\"fill\":{\"color\":\"#2a3f5f\"},\"line\":{\"color\":\"rgb(17,17,17)\"}},\"type\":\"table\"}],\"barpolar\":[{\"marker\":{\"line\":{\"color\":\"rgb(17,17,17)\",\"width\":0.5},\"pattern\":{\"fillmode\":\"overlay\",\"size\":10,\"solidity\":0.2}},\"type\":\"barpolar\"}],\"pie\":[{\"automargin\":true,\"type\":\"pie\"}]},\"layout\":{\"autotypenumbers\":\"strict\",\"colorway\":[\"#636efa\",\"#EF553B\",\"#00cc96\",\"#ab63fa\",\"#FFA15A\",\"#19d3f3\",\"#FF6692\",\"#B6E880\",\"#FF97FF\",\"#FECB52\"],\"font\":{\"color\":\"#f2f5fa\"},\"hovermode\":\"closest\",\"hoverlabel\":{\"align\":\"left\"},\"paper_bgcolor\":\"rgb(17,17,17)\",\"plot_bgcolor\":\"rgb(17,17,17)\",\"polar\":{\"bgcolor\":\"rgb(17,17,17)\",\"angularaxis\":{\"gridcolor\":\"#506784\",\"linecolor\":\"#506784\",\"ticks\":\"\"},\"radialaxis\":{\"gridcolor\":\"#506784\",\"linecolor\":\"#506784\",\"ticks\":\"\"}},\"ternary\":{\"bgcolor\":\"rgb(17,17,17)\",\"aaxis\":{\"gridcolor\":\"#506784\",\"linecolor\":\"#506784\",\"ticks\":\"\"},\"baxis\":{\"gridcolor\":\"#506784\",\"linecolor\":\"#506784\",\"ticks\":\"\"},\"caxis\":{\"gridcolor\":\"#506784\",\"linecolor\":\"#506784\",\"ticks\":\"\"}},\"coloraxis\":{\"colorbar\":{\"outlinewidth\":0,\"ticks\":\"\"}},\"colorscale\":{\"sequential\":[[0.0,\"#0d0887\"],[0.1111111111111111,\"#46039f\"],[0.2222222222222222,\"#7201a8\"],[0.3333333333333333,\"#9c179e\"],[0.4444444444444444,\"#bd3786\"],[0.5555555555555556,\"#d8576b\"],[0.6666666666666666,\"#ed7953\"],[0.7777777777777778,\"#fb9f3a\"],[0.8888888888888888,\"#fdca26\"],[1.0,\"#f0f921\"]],\"sequentialminus\":[[0.0,\"#0d0887\"],[0.1111111111111111,\"#46039f\"],[0.2222222222222222,\"#7201a8\"],[0.3333333333333333,\"#9c179e\"],[0.4444444444444444,\"#bd3786\"],[0.5555555555555556,\"#d8576b\"],[0.6666666666666666,\"#ed7953\"],[0.7777777777777778,\"#fb9f3a\"],[0.8888888888888888,\"#fdca26\"],[1.0,\"#f0f921\"]],\"diverging\":[[0,\"#8e0152\"],[0.1,\"#c51b7d\"],[0.2,\"#de77ae\"],[0.3,\"#f1b6da\"],[0.4,\"#fde0ef\"],[0.5,\"#f7f7f7\"],[0.6,\"#e6f5d0\"],[0.7,\"#b8e186\"],[0.8,\"#7fbc41\"],[0.9,\"#4d9221\"],[1,\"#276419\"]]},\"xaxis\":{\"gridcolor\":\"#283442\",\"linecolor\":\"#506784\",\"ticks\":\"\",\"title\":{\"standoff\":15},\"zerolinecolor\":\"#283442\",\"automargin\":true,\"zerolinewidth\":2},\"yaxis\":{\"gridcolor\":\"#283442\",\"linecolor\":\"#506784\",\"ticks\":\"\",\"title\":{\"standoff\":15},\"zerolinecolor\":\"#283442\",\"automargin\":true,\"zerolinewidth\":2},\"scene\":{\"xaxis\":{\"backgroundcolor\":\"rgb(17,17,17)\",\"gridcolor\":\"#506784\",\"linecolor\":\"#506784\",\"showbackground\":true,\"ticks\":\"\",\"zerolinecolor\":\"#C8D4E3\",\"gridwidth\":2},\"yaxis\":{\"backgroundcolor\":\"rgb(17,17,17)\",\"gridcolor\":\"#506784\",\"linecolor\":\"#506784\",\"showbackground\":true,\"ticks\":\"\",\"zerolinecolor\":\"#C8D4E3\",\"gridwidth\":2},\"zaxis\":{\"backgroundcolor\":\"rgb(17,17,17)\",\"gridcolor\":\"#506784\",\"linecolor\":\"#506784\",\"showbackground\":true,\"ticks\":\"\",\"zerolinecolor\":\"#C8D4E3\",\"gridwidth\":2}},\"shapedefaults\":{\"line\":{\"color\":\"#f2f5fa\"}},\"annotationdefaults\":{\"arrowcolor\":\"#f2f5fa\",\"arrowhead\":0,\"arrowwidth\":1},\"geo\":{\"bgcolor\":\"rgb(17,17,17)\",\"landcolor\":\"rgb(17,17,17)\",\"subunitcolor\":\"#506784\",\"showland\":true,\"showlakes\":true,\"lakecolor\":\"rgb(17,17,17)\"},\"title\":{\"x\":0.05},\"updatemenudefaults\":{\"bgcolor\":\"#506784\",\"borderwidth\":0},\"sliderdefaults\":{\"bgcolor\":\"#C8D4E3\",\"borderwidth\":1,\"bordercolor\":\"rgb(17,17,17)\",\"tickwidth\":0},\"mapbox\":{\"style\":\"dark\"}}},\"xaxis\":{\"anchor\":\"y\",\"domain\":[0.0,1.0],\"title\":{\"text\":\"Genre\"},\"categoryorder\":\"total descending\"},\"yaxis\":{\"anchor\":\"x\",\"domain\":[0.0,1.0],\"title\":{\"text\":\"Moyenne de Rating\"}},\"legend\":{\"tracegroupgap\":0},\"title\":{\"text\":\"Moyenne de Rating par Genre\"},\"barmode\":\"relative\",\"hovermode\":\"x unified\"},                        {\"responsive\": true}                    ).then(function(){\n",
       "                            \n",
       "var gd = document.getElementById('825b1dd1-ed28-417a-be7d-730eb0bc46c6');\n",
       "var x = new MutationObserver(function (mutations, observer) {{\n",
       "        var display = window.getComputedStyle(gd).display;\n",
       "        if (!display || display === 'none') {{\n",
       "            console.log([gd, 'removed!']);\n",
       "            Plotly.purge(gd);\n",
       "            observer.disconnect();\n",
       "        }}\n",
       "}});\n",
       "\n",
       "// Listen for the removal of the full notebook cells\n",
       "var notebookContainer = gd.closest('#notebook-container');\n",
       "if (notebookContainer) {{\n",
       "    x.observe(notebookContainer, {childList: true});\n",
       "}}\n",
       "\n",
       "// Listen for the clearing of the current output cell\n",
       "var outputEl = gd.closest('.output');\n",
       "if (outputEl) {{\n",
       "    x.observe(outputEl, {childList: true});\n",
       "}}\n",
       "\n",
       "                        })                };                });            </script>        </div>"
      ]
     },
     "metadata": {},
     "output_type": "display_data"
    }
   ],
   "execution_count": 38
  },
  {
   "metadata": {
    "ExecuteTime": {
     "end_time": "2024-07-15T14:18:08.736360Z",
     "start_time": "2024-07-15T14:18:08.460455Z"
    }
   },
   "cell_type": "code",
   "source": [
    "# Séparation des acteurs et explosion des listes d'acteurs en lignes individuelles\n",
    "df_cast = df.withColumn(\"Actor\", explode(split(col(\"Cast\"), \",\\s*\")))\n",
    "\n",
    "# Calcul de la moyenne de Rating et du nombre de films par acteur\n",
    "average_rating_by_actor = df_cast.groupBy(\"Actor\").agg(\n",
    "    avg(\"Rating\").alias(\"avg_rating\"),\n",
    "    count(\"Title\").alias(\"film_count\")\n",
    ")\n",
    "\n",
    "# Filtrer les acteurs ayant joué dans plus de 2 films\n",
    "average_rating_by_actor_filtered = average_rating_by_actor.filter(col(\"film_count\") > 10).orderBy(\"avg_rating\", ascending=False)\n",
    "\n",
    "# Convertir en DataFrame Pandas\n",
    "average_rating_by_actor_pandas = average_rating_by_actor_filtered.toPandas()\n",
    "\n",
    "fig = px.bar(average_rating_by_actor_pandas, x='Actor', y='avg_rating',\n",
    "             hover_data=['film_count'],\n",
    "             title='Moyenne de Rating par Acteur (plus de 10 films)',\n",
    "             labels={'avg_rating': 'Moyenne de Rating', 'Actor': 'Acteur', 'film_count': 'Nombre de Films'})\n",
    "\n",
    "# Personnalisation du graphique pour améliorer la lisibilité\n",
    "fig.update_layout(xaxis={'categoryorder': 'total descending'},\n",
    "                  xaxis_title='Acteur',\n",
    "                  yaxis_title='Moyenne de Rating',\n",
    "                  hovermode='x unified')\n",
    "\n",
    "# Affichage du graphique\n",
    "fig.show()"
   ],
   "id": "b72e273a796cd0bb",
   "outputs": [
    {
     "name": "stderr",
     "output_type": "stream",
     "text": [
      "<>:2: SyntaxWarning:\n",
      "\n",
      "invalid escape sequence '\\s'\n",
      "\n",
      "<>:2: SyntaxWarning:\n",
      "\n",
      "invalid escape sequence '\\s'\n",
      "\n",
      "/tmp/ipykernel_2894/2640163035.py:2: SyntaxWarning:\n",
      "\n",
      "invalid escape sequence '\\s'\n",
      "\n"
     ]
    },
    {
     "data": {
      "application/vnd.plotly.v1+json": {
       "data": [
        {
         "alignmentgroup": "True",
         "customdata": [
          [
           13
          ],
          [
           11
          ],
          [
           28
          ],
          [
           17
          ],
          [
           16
          ],
          [
           23
          ],
          [
           12
          ],
          [
           12
          ],
          [
           12
          ],
          [
           39
          ],
          [
           11
          ],
          [
           19
          ],
          [
           21
          ],
          [
           13
          ],
          [
           20
          ],
          [
           19
          ],
          [
           29
          ],
          [
           14
          ],
          [
           11
          ],
          [
           11
          ],
          [
           36
          ],
          [
           11
          ],
          [
           21
          ],
          [
           11
          ],
          [
           17
          ],
          [
           11
          ],
          [
           12
          ],
          [
           16
          ],
          [
           17
          ],
          [
           15
          ],
          [
           19
          ],
          [
           44
          ],
          [
           18
          ],
          [
           49
          ],
          [
           24
          ],
          [
           17
          ],
          [
           14
          ],
          [
           25
          ],
          [
           17
          ],
          [
           12
          ],
          [
           13
          ],
          [
           36
          ],
          [
           12
          ],
          [
           15
          ],
          [
           25
          ],
          [
           14
          ],
          [
           26
          ],
          [
           12
          ],
          [
           12
          ],
          [
           25
          ],
          [
           35
          ],
          [
           34
          ],
          [
           39
          ],
          [
           19
          ],
          [
           38
          ],
          [
           12
          ],
          [
           23
          ],
          [
           11
          ],
          [
           31
          ],
          [
           28
          ],
          [
           11
          ],
          [
           11
          ],
          [
           27
          ],
          [
           26
          ],
          [
           16
          ],
          [
           28
          ],
          [
           32
          ],
          [
           21
          ],
          [
           12
          ],
          [
           62
          ],
          [
           27
          ],
          [
           13
          ],
          [
           13
          ],
          [
           34
          ],
          [
           23
          ],
          [
           25
          ],
          [
           14
          ],
          [
           20
          ],
          [
           14
          ],
          [
           12
          ],
          [
           21
          ],
          [
           20
          ],
          [
           19
          ],
          [
           13
          ],
          [
           33
          ],
          [
           33
          ],
          [
           14
          ],
          [
           17
          ],
          [
           11
          ],
          [
           14
          ],
          [
           16
          ],
          [
           20
          ],
          [
           33
          ],
          [
           14
          ],
          [
           27
          ],
          [
           20
          ],
          [
           14
          ],
          [
           14
          ],
          [
           13
          ],
          [
           13
          ],
          [
           19
          ],
          [
           40
          ],
          [
           20
          ],
          [
           16
          ],
          [
           13
          ],
          [
           44
          ],
          [
           21
          ],
          [
           26
          ],
          [
           20
          ],
          [
           18
          ],
          [
           21
          ],
          [
           12
          ],
          [
           12
          ],
          [
           25
          ],
          [
           26
          ],
          [
           27
          ],
          [
           11
          ],
          [
           11
          ],
          [
           18
          ],
          [
           15
          ],
          [
           28
          ],
          [
           12
          ],
          [
           11
          ],
          [
           20
          ],
          [
           19
          ],
          [
           28
          ],
          [
           36
          ],
          [
           11
          ],
          [
           21
          ],
          [
           36
          ],
          [
           15
          ],
          [
           14
          ],
          [
           12
          ],
          [
           15
          ],
          [
           21
          ],
          [
           21
          ],
          [
           23
          ],
          [
           17
          ],
          [
           29
          ],
          [
           12
          ],
          [
           30
          ],
          [
           35
          ],
          [
           12
          ],
          [
           15
          ],
          [
           15
          ],
          [
           11
          ],
          [
           12
          ],
          [
           24
          ],
          [
           28
          ],
          [
           32
          ],
          [
           16
          ],
          [
           11
          ],
          [
           17
          ],
          [
           20
          ],
          [
           13
          ],
          [
           20
          ],
          [
           17
          ],
          [
           23
          ],
          [
           13
          ],
          [
           14
          ],
          [
           15
          ],
          [
           21
          ],
          [
           28
          ],
          [
           34
          ],
          [
           23
          ],
          [
           12
          ],
          [
           29
          ],
          [
           23
          ],
          [
           19
          ],
          [
           12
          ],
          [
           12
          ],
          [
           25
          ],
          [
           26
          ],
          [
           14
          ],
          [
           15
          ],
          [
           31
          ],
          [
           18
          ],
          [
           30
          ],
          [
           18
          ],
          [
           11
          ],
          [
           16
          ],
          [
           16
          ],
          [
           11
          ],
          [
           11
          ],
          [
           19
          ],
          [
           18
          ],
          [
           17
          ],
          [
           27
          ],
          [
           11
          ],
          [
           18
          ],
          [
           17
          ],
          [
           19
          ],
          [
           11
          ],
          [
           21
          ],
          [
           24
          ],
          [
           12
          ],
          [
           32
          ],
          [
           14
          ],
          [
           11
          ],
          [
           18
          ],
          [
           29
          ],
          [
           12
          ],
          [
           16
          ],
          [
           11
          ],
          [
           11
          ],
          [
           11
          ],
          [
           13
          ],
          [
           36
          ],
          [
           28
          ],
          [
           12
          ],
          [
           17
          ],
          [
           13
          ],
          [
           20
          ],
          [
           18
          ],
          [
           16
          ],
          [
           12
          ],
          [
           12
          ],
          [
           22
          ],
          [
           16
          ],
          [
           19
          ],
          [
           11
          ],
          [
           14
          ],
          [
           14
          ],
          [
           12
          ],
          [
           21
          ],
          [
           36
          ],
          [
           29
          ],
          [
           13
          ],
          [
           13
          ],
          [
           20
          ],
          [
           13
          ],
          [
           14
          ],
          [
           15
          ],
          [
           11
          ],
          [
           28
          ],
          [
           39
          ],
          [
           34
          ],
          [
           29
          ],
          [
           20
          ],
          [
           12
          ],
          [
           25
          ],
          [
           14
          ],
          [
           15
          ],
          [
           14
          ],
          [
           21
          ],
          [
           14
          ],
          [
           12
          ],
          [
           20
          ],
          [
           20
          ],
          [
           19
          ],
          [
           21
          ],
          [
           12
          ],
          [
           11
          ],
          [
           11
          ],
          [
           27
          ],
          [
           20
          ],
          [
           16
          ],
          [
           15
          ],
          [
           15
          ],
          [
           11
          ],
          [
           25
          ],
          [
           13
          ],
          [
           16
          ],
          [
           22
          ],
          [
           11
          ],
          [
           34
          ],
          [
           18
          ],
          [
           12
          ],
          [
           11
          ],
          [
           11
          ],
          [
           41
          ],
          [
           16
          ],
          [
           50
          ],
          [
           11
          ],
          [
           16
          ],
          [
           15
          ],
          [
           18
          ],
          [
           27
          ],
          [
           15
          ],
          [
           11
          ],
          [
           39
          ],
          [
           12
          ],
          [
           23
          ],
          [
           18
          ],
          [
           23
          ],
          [
           18
          ],
          [
           14
          ],
          [
           15
          ],
          [
           22
          ],
          [
           23
          ],
          [
           23
          ],
          [
           27
          ],
          [
           23
          ],
          [
           18
          ],
          [
           11
          ],
          [
           19
          ],
          [
           26
          ],
          [
           12
          ],
          [
           30
          ],
          [
           37
          ],
          [
           25
          ],
          [
           14
          ],
          [
           11
          ],
          [
           27
          ],
          [
           46
          ],
          [
           16
          ],
          [
           18
          ],
          [
           11
          ],
          [
           15
          ],
          [
           47
          ],
          [
           21
          ],
          [
           14
          ],
          [
           11
          ],
          [
           11
          ],
          [
           15
          ],
          [
           14
          ],
          [
           11
          ],
          [
           48
          ],
          [
           25
          ],
          [
           13
          ],
          [
           17
          ],
          [
           15
          ],
          [
           21
          ],
          [
           25
          ],
          [
           15
          ],
          [
           16
          ],
          [
           12
          ],
          [
           15
          ],
          [
           21
          ],
          [
           11
          ],
          [
           23
          ],
          [
           12
          ],
          [
           32
          ],
          [
           11
          ],
          [
           24
          ],
          [
           17
          ],
          [
           16
          ],
          [
           12
          ],
          [
           15
          ],
          [
           17
          ],
          [
           24
          ],
          [
           20
          ],
          [
           33
          ],
          [
           16
          ],
          [
           13
          ],
          [
           23
          ],
          [
           11
          ],
          [
           11
          ],
          [
           22
          ],
          [
           21
          ],
          [
           39
          ],
          [
           29
          ],
          [
           11
          ],
          [
           14
          ],
          [
           17
          ],
          [
           30
          ],
          [
           11
          ],
          [
           11
          ],
          [
           13
          ],
          [
           22
          ],
          [
           16
          ],
          [
           15
          ],
          [
           35
          ],
          [
           12
          ],
          [
           14
          ],
          [
           11
          ],
          [
           15
          ],
          [
           22
          ],
          [
           11
          ],
          [
           16
          ],
          [
           26
          ],
          [
           16
          ],
          [
           18
          ],
          [
           21
          ],
          [
           17
          ],
          [
           12
          ],
          [
           13
          ],
          [
           28
          ],
          [
           15
          ],
          [
           19
          ],
          [
           19
          ],
          [
           36
          ],
          [
           18
          ],
          [
           13
          ],
          [
           12
          ],
          [
           11
          ],
          [
           26
          ],
          [
           31
          ],
          [
           22
          ],
          [
           13
          ],
          [
           13
          ],
          [
           17
          ],
          [
           30
          ],
          [
           12
          ],
          [
           11
          ],
          [
           37
          ],
          [
           12
          ],
          [
           28
          ],
          [
           13
          ],
          [
           20
          ],
          [
           61
          ],
          [
           24
          ],
          [
           14
          ],
          [
           30
          ],
          [
           16
          ],
          [
           17
          ],
          [
           18
          ],
          [
           17
          ],
          [
           36
          ],
          [
           12
          ],
          [
           22
          ],
          [
           19
          ],
          [
           12
          ],
          [
           40
          ],
          [
           16
          ],
          [
           18
          ],
          [
           21
          ],
          [
           13
          ],
          [
           11
          ],
          [
           11
          ],
          [
           13
          ],
          [
           13
          ],
          [
           21
          ],
          [
           11
          ],
          [
           17
          ],
          [
           12
          ],
          [
           14
          ],
          [
           24
          ],
          [
           15
          ],
          [
           14
          ],
          [
           14
          ],
          [
           11
          ],
          [
           12
          ],
          [
           13
          ],
          [
           11
          ],
          [
           16
          ],
          [
           13
          ],
          [
           11
          ],
          [
           14
          ],
          [
           12
          ],
          [
           11
          ],
          [
           12
          ],
          [
           11
          ],
          [
           12
          ],
          [
           37
          ],
          [
           15
          ],
          [
           19
          ],
          [
           11
          ],
          [
           13
          ],
          [
           16
          ],
          [
           15
          ],
          [
           13
          ],
          [
           19
          ],
          [
           11
          ],
          [
           15
          ],
          [
           12
          ],
          [
           13
          ],
          [
           15
          ],
          [
           19
          ],
          [
           23
          ],
          [
           11
          ],
          [
           11
          ],
          [
           13
          ],
          [
           12
          ]
         ],
         "hovertemplate": "Acteur=%{x}<br>Moyenne de Rating=%{y}<br>Nombre de Films=%{customdata[0]}<extra></extra>",
         "legendgroup": "",
         "marker": {
          "color": "#636efa",
          "pattern": {
           "shape": ""
          }
         },
         "name": "",
         "offsetgroup": "",
         "orientation": "v",
         "showlegend": false,
         "textposition": "auto",
         "x": [
          "Orlando Bloom",
          "Joe Pesci",
          "Leonardo DiCaprio",
          "Ian McKellen",
          "Paul Newman",
          "Dustin Hoffman",
          "Daniel Day-Lewis",
          "Emily Watson",
          "Marlon Brando",
          "Brad Pitt",
          "Joan Allen",
          "Kevin Spacey",
          "Jack Nicholson",
          "Simon Pegg",
          "Christopher Plummer",
          "Philip Seymour Hoffman",
          "Robert Downey Jr.",
          "Jeremy Renner",
          "J.K. Simmons",
          "Hugo Weaving",
          "Clint Eastwood",
          "Domhnall Gleeson",
          "Edward Norton",
          "Heath Ledger",
          "Frances McDormand",
          "Scott Glenn",
          "Andrew Garfield",
          "Emma Watson",
          "Daniel Craig",
          "Chris Cooper",
          "Sean Penn",
          "Matt Damon",
          "Tom Hardy",
          "Tom Hanks",
          "Mark Ruffalo",
          "Geoffrey Rush",
          "Benedict Cumberbatch",
          "Michael Caine",
          "Catherine Keener",
          "Tobey Maguire",
          "Brendan Gleeson",
          "Christian Bale",
          "John Hurt",
          "Laura Dern",
          "Ryan Gosling",
          "Carey Mulligan",
          "Joaquin Phoenix",
          "Patrick Stewart",
          "Sissy Spacek",
          "Robert Duvall",
          "Harrison Ford",
          "Al Pacino",
          "Denzel Washington",
          "Daniel Radcliffe",
          "Tom Cruise",
          "Marisa Tomei",
          "Robert Redford",
          "James Woods",
          "Jake Gyllenhaal",
          "Kate Winslet",
          "Jay Baruchel",
          "Tom Holland",
          "Gene Hackman",
          "Hugh Jackman",
          "Tim Robbins",
          "Jeff Bridges",
          "Ethan Hawke",
          "Jodie Foster",
          "Robin Wright",
          "Robert De Niro",
          "Ed Harris",
          "Abigail Breslin",
          "Cillian Murphy",
          "Cate Blanchett",
          "Harvey Keitel",
          "Rachel McAdams",
          "Jon Voight",
          "Tilda Swinton",
          "Michael J. Fox",
          "Matthew Goode",
          "Viggo Mortensen",
          "Joseph Gordon-Levitt",
          "Tom Wilkinson",
          "Dianne Wiest",
          "Kevin Costner",
          "Scarlett Johansson",
          "Benicio Del Toro",
          "Chris Pratt",
          "Patricia Clarkson",
          "Jon Bernthal",
          "Helena Bonham Carter",
          "Josh Brolin",
          "Russell Crowe",
          "Alan Arkin",
          "John Goodman",
          "Laurence Fishburne",
          "Bryan Cranston",
          "Hugh Grant",
          "Rooney Mara",
          "Elijah Wood",
          "Javier Bardem",
          "Morgan Freeman",
          "Chris Hemsworth",
          "Bill Nighy",
          "Stellan Skarsgård",
          "Johnny Depp",
          "Laura Linney",
          "Jennifer Connelly",
          "Winona Ryder",
          "James McAvoy",
          "Emma Thompson",
          "Jessica Lange",
          "Faye Dunaway",
          "Bill Murray",
          "Keira Knightley",
          "Amy Adams",
          "Jim Sturgess",
          "John Candy",
          "Jennifer Jason Leigh",
          "Michael Shannon",
          "Kurt Russell",
          "Anya Taylor-Joy",
          "Charlie Hunnam",
          "Helen Mirren",
          "Jessica Chastain",
          "Chris Evans",
          "Anthony Hopkins",
          "Amy Ryan",
          "Emma Stone",
          "Ewan McGregor",
          "Steve Buscemi",
          "Vera Farmiga",
          "Aaron Taylor-Johnson",
          "Juliette Binoche",
          "Joel Edgerton",
          "Sam Rockwell",
          "Rachel Weisz",
          "Michelle Williams",
          "Steve Carell",
          "Vincent Cassel",
          "Sigourney Weaver",
          "Julianne Moore",
          "Helen Hunt",
          "Nick Nolte",
          "Danny Glover",
          "Octavia Spencer",
          "Brie Larson",
          "Michael Douglas",
          "Jude Law",
          "Woody Harrelson",
          "Margot Robbie",
          "Whoopi Goldberg",
          "William Hurt",
          "Adam Driver",
          "Juliette Lewis",
          "Jennifer Lawrence",
          "Clive Owen",
          "Val Kilmer",
          "Mark Strong",
          "Kristin Scott Thomas",
          "Casey Affleck",
          "Guy Pearce",
          "Ben Kingsley",
          "Meryl Streep",
          "Colin Firth",
          "Shailene Woodley",
          "Ralph Fiennes",
          "John Malkovich",
          "Forest Whitaker",
          "Jeffrey Wright",
          "Felicity Jones",
          "Bradley Cooper",
          "Natalie Portman",
          "David Morse",
          "Eric Bana",
          "George Clooney",
          "Annette Bening",
          "Sean Connery",
          "Chiwetel Ejiofor",
          "Sharlto Copley",
          "Viola Davis",
          "Jeff Daniels",
          "Christopher Lloyd",
          "Jeff Goldblum",
          "Jamie Bell",
          "Gwyneth Paltrow",
          "Glenn Close",
          "Gary Oldman",
          "Eva Green",
          "Peter Sarsgaard",
          "Jonah Hill",
          "Nicholas Hoult",
          "Cuba Gooding Jr.",
          "Kevin Bacon",
          "Donald Sutherland",
          "Dennis Hopper",
          "Colin Farrell",
          "Matt Dillon",
          "Sienna Miller",
          "Bill Paxton",
          "Robin Williams",
          "Eddie Redmayne",
          "Kathy Bates",
          "Will Arnett",
          "Maggie Smith",
          "Armie Hammer",
          "Dominic West",
          "Mel Gibson",
          "Kirsten Dunst",
          "Anjelica Huston",
          "Zoe Saldana",
          "Sean Bean",
          "Toni Collette",
          "Sam Neill",
          "Rosamund Pike",
          "Miles Teller",
          "John Lithgow",
          "Billy Bob Thornton",
          "Alicia Vikander",
          "Oscar Isaac",
          "Josh Hartnett",
          "Kenneth Branagh",
          "Cary Elwes",
          "Danny Huston",
          "Paul Giamatti",
          "Matthew McConaughey",
          "Will Smith",
          "Judi Dench",
          "Emily Mortimer",
          "Ben Foster",
          "Justin Timberlake",
          "Henry Cavill",
          "Matthew Broderick",
          "Christoph Waltz",
          "Michelle Pfeiffer",
          "Willem Dafoe",
          "Charlize Theron",
          "Emily Blunt",
          "Diane Keaton",
          "Bryce Dallas Howard",
          "Jamie Foxx",
          "Max von Sydow",
          "Saoirse Ronan",
          "Jon Hamm",
          "Shia LaBeouf",
          "Hilary Swank",
          "Jim Broadbent",
          "John C. Reilly",
          "Jeremy Irons",
          "James Franco",
          "Michael Keaton",
          "Bruce Dern",
          "Tim Allen",
          "Tom Sizemore",
          "Jim Carrey",
          "Jason Bateman",
          "Kevin Kline",
          "Dan Aykroyd",
          "Bill Pullman",
          "Ian McShane",
          "John Cusack",
          "Josh Gad",
          "Vincent D'Onofrio",
          "Susan Sarandon",
          "Kris Kristofferson",
          "Ryan Reynolds",
          "Don Cheadle",
          "Tina Fey",
          "Andy Samberg",
          "Carrie-Anne Moss",
          "Nicole Kidman",
          "Anthony Mackie",
          "Samuel L. Jackson",
          "Allison Janney",
          "Dakota Fanning",
          "Adrien Brody",
          "Greg Kinnear",
          "Christopher Walken",
          "Uma Thurman",
          "Elizabeth Olsen",
          "Keanu Reeves",
          "Diane Kruger",
          "Jesse Eisenberg",
          "Renée Zellweger",
          "Vin Diesel",
          "Rosario Dawson",
          "Angela Bassett",
          "Paul Walker",
          "Anna Kendrick",
          "Chris Pine",
          "Michael Fassbender",
          "Naomi Watts",
          "Seth Rogen",
          "Steve Zahn",
          "Taye Diggs",
          "Diane Lane",
          "Jack Black",
          "Alessandro Nivola",
          "Sylvester Stallone",
          "Julia Roberts",
          "Angelina Jolie",
          "Joan Cusack",
          "Giovanni Ribisi",
          "Alec Baldwin",
          "Mark Wahlberg",
          "Ray Liotta",
          "Kristen Wiig",
          "Brian Cox",
          "Sam Worthington",
          "Liam Neeson",
          "Vince Vaughn",
          "Wesley Snipes",
          "Garrett Hedlund",
          "Liam Hemsworth",
          "Emile Hirsch",
          "Jason Sudeikis",
          "Jason Segel",
          "Bruce Willis",
          "Tommy Lee Jones",
          "Jason Clarke",
          "Kiefer Sutherland",
          "Tim Roth",
          "Stanley Tucci",
          "Paul Rudd",
          "Demi Moore",
          "Liev Schreiber",
          "Richard Jenkins",
          "Noomi Rapace",
          "Elizabeth Banks",
          "Tye Sheridan",
          "Steve Martin",
          "Maria Bello",
          "Sandra Bullock",
          "Ryan Phillippe",
          "Chloë Grace Moretz",
          "Michelle Monaghan",
          "Olivia Wilde",
          "Rebecca Hall",
          "Catherine Zeta-Jones",
          "Elle Fanning",
          "Reese Witherspoon",
          "Danny DeVito",
          "Anne Hathaway",
          "Rene Russo",
          "Jet Li",
          "Channing Tatum",
          "Kathleen Turner",
          "Christina Ricci",
          "Kate Beckinsale",
          "Jennifer Garner",
          "Dennis Quaid",
          "Gerard Butler",
          "Andy Garcia",
          "Charlie Sheen",
          "Jane Fonda",
          "Antonio Banderas",
          "Luke Evans",
          "Thandiwe Newton",
          "Dan Stevens",
          "Patrick Wilson",
          "Zach Galifianakis",
          "Mila Kunis",
          "Ben Affleck",
          "Jean Reno",
          "Kim Basinger",
          "Abbie Cornish",
          "Ving Rhames",
          "Rose Byrne",
          "Bridget Fonda",
          "David Thewlis",
          "Ben Stiller",
          "Josh Hutcherson",
          "Richard Gere",
          "Drew Barrymore",
          "Michael Peña",
          "Hayden Christensen",
          "Alexander Skarsgård",
          "Cameron Diaz",
          "Meg Ryan",
          "Aaron Eckhart",
          "Jackie Chan",
          "Dwayne Johnson",
          "Christian Slater",
          "Elisabeth Shue",
          "Leslie Mann",
          "Frank Langella",
          "John Leguizamo",
          "Will Ferrell",
          "Amanda Seyfried",
          "Queen Latifah",
          "Ron Perlman",
          "Mickey Rourke",
          "Eddie Murphy",
          "Bruce Greenwood",
          "Blake Lively",
          "Jason Statham",
          "Eva Mendes",
          "Jennifer Aniston",
          "Mike Myers",
          "Jamie Lee Curtis",
          "Nicolas Cage",
          "Pierce Brosnan",
          "Seann William Scott",
          "Arnold Schwarzenegger",
          "Robert Pattinson",
          "Penélope Cruz",
          "Idris Elba",
          "James Marsden",
          "Owen Wilson",
          "Burt Reynolds",
          "Zac Efron",
          "Dermot Mulroney",
          "Aubrey Plaza",
          "Adam Sandler",
          "Michelle Rodriguez",
          "Halle Berry",
          "Kevin Hart",
          "Josh Lucas",
          "Tyrese Gibson",
          "Ana de Armas",
          "Famke Janssen",
          "Peter Dinklage",
          "Salma Hayek",
          "Courteney Cox",
          "Kristen Bell",
          "Sarah Jessica Parker",
          "Melissa McCarthy",
          "Kristen Stewart",
          "Chris Rock",
          "Kate Hudson",
          "Ashton Kutcher",
          "Amy Poehler",
          "Jessica Biel",
          "Sharon Stone",
          "Tiffany Haddish",
          "Brendan Fraser",
          "Maya Rudolph",
          "David Arquette",
          "Josh Duhamel",
          "John Cena",
          "Matthew Lillard",
          "Peter Farrelly",
          "Eugene Levy",
          "Vanessa Hudgens",
          "John Travolta",
          "Kevin James",
          "Anna Faris",
          "Dakota Johnson",
          "Emma Roberts",
          "Carla Gugino",
          "Kate Bosworth",
          "Martin Lawrence",
          "Milla Jovovich",
          "Amber Heard",
          "Ice Cube",
          "Jean-Claude Van Damme",
          "Katherine Heigl",
          "Justin Long",
          "Jessica Alba",
          "Jennifer Lopez",
          "Alexandra Daddario",
          "Megan Fox",
          "Marlon Wayans",
          "Stephen Dorff"
         ],
         "xaxis": "x",
         "y": [
          7.453846234541673,
          7.436363610354337,
          7.417857136045184,
          7.40588238660027,
          7.393750011920929,
          7.3086956894916035,
          7.300000071525574,
          7.258333444595337,
          7.24999996026357,
          7.238461531125582,
          7.22727277062156,
          7.226315799512361,
          7.214285668872652,
          7.207692366379958,
          7.2050000667572025,
          7.173684220564993,
          7.172413793103448,
          7.1642857279096335,
          7.154545437205922,
          7.154545393857089,
          7.150000015894572,
          7.145454493435946,
          7.138095265343075,
          7.136363636363637,
          7.129411837633918,
          7.127272735942494,
          7.108333349227905,
          7.106250017881393,
          7.088235350216136,
          7.086666679382324,
          7.084210496199758,
          7.084090948104858,
          7.072222259309557,
          7.071428600622683,
          7.070833325386047,
          7.070588252123664,
          7.057142836706979,
          7.055999984741211,
          7.052941210129681,
          7.049999992052714,
          7.046153912177453,
          7.038888865047031,
          7.0333333015441895,
          7.026666609446208,
          7.024000034332276,
          7.0214285509926935,
          7.01923078757066,
          7.016666690508525,
          7.016666611035665,
          7.00399995803833,
          6.991428579602923,
          6.991176443941453,
          6.989743575071677,
          6.984210566470497,
          6.984210528825459,
          6.983333388964335,
          6.982608670773714,
          6.981818199157715,
          6.980645148984848,
          6.967857139451163,
          6.963636485013095,
          6.963636354966597,
          6.962962936472009,
          6.961538461538462,
          6.956249982118607,
          6.953571421759469,
          6.953125,
          6.942857129233224,
          6.941666642824809,
          6.94032258372153,
          6.929629608436867,
          6.923076959756704,
          6.9230768497173605,
          6.920588254928589,
          6.917391300201416,
          6.91600004196167,
          6.907142843518939,
          6.9049999713897705,
          6.900000027247837,
          6.899999976158142,
          6.895238081614177,
          6.895000028610229,
          6.894736817008571,
          6.892307648291955,
          6.890909108248624,
          6.890909093799013,
          6.885714292526245,
          6.882352941176471,
          6.8818182511763135,
          6.878571476255145,
          6.875,
          6.8599999904632565,
          6.857575777805213,
          6.85714282308306,
          6.8555555873447,
          6.850000023841858,
          6.842857156481061,
          6.842857156481061,
          6.838461582477276,
          6.838461545797495,
          6.836842135379189,
          6.8350000262260435,
          6.835000014305114,
          6.831249982118607,
          6.830769245441143,
          6.8295454220338305,
          6.828571410406203,
          6.826923076923077,
          6.8250000238418576,
          6.822222179836697,
          6.819047609965007,
          6.8166667222976685,
          6.8166667222976685,
          6.811999988555908,
          6.811538476210374,
          6.811111096982603,
          6.809091004458341,
          6.809090917760676,
          6.805555582046509,
          6.8,
          6.796428561210632,
          6.791666666666667,
          6.790909073569558,
          6.790000033378601,
          6.7894736842105265,
          6.785714268684387,
          6.783333354526096,
          6.781818173148415,
          6.780952408200219,
          6.78055555290646,
          6.780000114440918,
          6.778571503502982,
          6.774999976158142,
          6.773333358764648,
          6.7714285623459585,
          6.7666666848318915,
          6.760869544485341,
          6.758823591120103,
          6.758620706097833,
          6.7583333651224775,
          6.756666660308838,
          6.751428590502058,
          6.75,
          6.746666717529297,
          6.746666622161865,
          6.745454614812678,
          6.741666674613953,
          6.741666654745738,
          6.739285724503653,
          6.737499997019768,
          6.737499982118607,
          6.736363584345037,
          6.735294089597814,
          6.735000014305115,
          6.730769157409668,
          6.729999923706055,
          6.729411770315731,
          6.726086927496868,
          6.723076893733098,
          6.721428564616612,
          6.720000012715658,
          6.719047591799781,
          6.717857190540859,
          6.717647033579209,
          6.717391304347826,
          6.716666618982951,
          6.713793121535202,
          6.713043482407279,
          6.710526340886166,
          6.708333333333333,
          6.708333293596904,
          6.707999992370605,
          6.707692256340613,
          6.707142932074411,
          6.7066665967305505,
          6.706451592906829,
          6.705555597941081,
          6.703333338101705,
          6.700000100665623,
          6.7000000260093,
          6.700000017881393,
          6.699999988079071,
          6.699999982660467,
          6.699999939311635,
          6.694736832066586,
          6.694444470935398,
          6.694117658278522,
          6.692592603188974,
          6.690909038890492,
          6.688888920678033,
          6.688235282897949,
          6.684210576509175,
          6.681818181818182,
          6.6809523219154,
          6.6666666467984514,
          6.666666626930237,
          6.665624991059303,
          6.664285693849836,
          6.6636363809758965,
          6.661111089918348,
          6.658620752137283,
          6.6583333015441895,
          6.656250029802322,
          6.654545480554754,
          6.654545437205922,
          6.654545437205922,
          6.653846190525935,
          6.652777751286824,
          6.650000027247837,
          6.650000015894572,
          6.647058781455545,
          6.646153890169584,
          6.644999980926514,
          6.644444465637207,
          6.643750011920929,
          6.641666690508525,
          6.641666650772095,
          6.640909086574208,
          6.637499898672104,
          6.636842100243819,
          6.636363549665972,
          6.6357143606458395,
          6.635714292526245,
          6.6333333651224775,
          6.633333319709415,
          6.633333305517833,
          6.6310344893356845,
          6.630769197757427,
          6.630769142737756,
          6.624999928474426,
          6.623076952420748,
          6.621428557804653,
          6.620000044504802,
          6.618181878870184,
          6.617857098579407,
          6.615384664290991,
          6.614705871133244,
          6.610344804566482,
          6.609999966621399,
          6.608333309491475,
          6.607999973297119,
          6.607142908232553,
          6.606666723887126,
          6.599999972752163,
          6.595238049825032,
          6.592857122421265,
          6.59166665871938,
          6.589999985694885,
          6.589999961853027,
          6.589473724365234,
          6.585714294796898,
          6.583333333333333,
          6.581818233836781,
          6.581818233836781,
          6.581481527399133,
          6.580000019073486,
          6.575000017881393,
          6.5733334223429365,
          6.573333326975504,
          6.572727290066806,
          6.572000026702881,
          6.569230813246507,
          6.568750023841858,
          6.568181818181818,
          6.563636346296831,
          6.561764717102051,
          6.561111132303874,
          6.558333317438762,
          6.554545445875688,
          6.5545453591780225,
          6.553658555193645,
          6.550000011920929,
          6.55,
          6.545454545454546,
          6.543749958276749,
          6.533333333333333,
          6.533333328035143,
          6.533333319204825,
          6.5333333015441895,
          6.527272744612261,
          6.525641013414432,
          6.525000015894572,
          6.521739130434782,
          6.516666637526618,
          6.5130434865536895,
          6.511111127005683,
          6.507142884390695,
          6.506666723887125,
          6.504545493559404,
          6.504347842672597,
          6.499999979267949,
          6.496296264507152,
          6.495652219523555,
          6.494444449742635,
          6.490909012881192,
          6.489473644055818,
          6.484615417627188,
          6.483333349227905,
          6.483333349227905,
          6.481081060461096,
          6.479999980926514,
          6.4785714490073065,
          6.472727168690074,
          6.470370398627387,
          6.469565225684124,
          6.468749985098839,
          6.466666751437717,
          6.463636354966597,
          6.460000006357829,
          6.457446808510638,
          6.457142875308082,
          6.457142795835223,
          6.454545454545454,
          6.454545411196622,
          6.453333314259847,
          6.450000013623919,
          6.4454544674266465,
          6.4416666477918625,
          6.439999980926514,
          6.438461597149189,
          6.435294095207663,
          6.433333333333334,
          6.4285714739844915,
          6.427999973297119,
          6.426666704813639,
          6.425000041723251,
          6.424999992052714,
          6.420000076293945,
          6.419047650836763,
          6.418181852860884,
          6.417391279469365,
          6.416666626930237,
          6.409375011920929,
          6.409090909090909,
          6.408333281675975,
          6.40588238660027,
          6.400000035762787,
          6.400000015894572,
          6.4,
          6.399999983170453,
          6.395833373069763,
          6.395000028610229,
          6.393939408389005,
          6.393749982118607,
          6.392307684971736,
          6.391304306361986,
          6.390909108248624,
          6.390909108248624,
          6.390909086574208,
          6.390476181393578,
          6.389743590966249,
          6.382758617401123,
          6.3818181644786485,
          6.378571476255145,
          6.376470593845143,
          6.373333358764649,
          6.372727220708674,
          6.372727220708674,
          6.3692307472229,
          6.368181857195768,
          6.362500011920929,
          6.360000038146973,
          6.360000010899135,
          6.3499999443689985,
          6.342857156481061,
          6.3363636190241035,
          6.333333349227905,
          6.327272740277377,
          6.327272718602961,
          6.324999958276749,
          6.319230758226835,
          6.3187499940395355,
          6.316666629579332,
          6.314285732450939,
          6.311764717102051,
          6.3083332777023315,
          6.307692344372089,
          6.307142887796674,
          6.306666660308838,
          6.305263193030107,
          6.3052631177400285,
          6.299999978807238,
          6.294444428549872,
          6.292307743659387,
          6.28333334128062,
          6.281818173148415,
          6.2807691647456245,
          6.277419336380497,
          6.272727294401689,
          6.269230732550988,
          6.269230677531316,
          6.264705910402186,
          6.263333320617676,
          6.258333325386047,
          6.254545471884987,
          6.251351362950093,
          6.25000003973643,
          6.23928575856345,
          6.23076921242934,
          6.230000042915345,
          6.226229515232023,
          6.224999964237213,
          6.221428598676409,
          6.219999988873799,
          6.218750059604645,
          6.217647075653076,
          6.216666685210334,
          6.211764728321748,
          6.211111068725586,
          6.1833332777023315,
          6.181818160143766,
          6.178947348343699,
          6.175000031789144,
          6.175000029802322,
          6.174999982118607,
          6.172222216924031,
          6.166666643960135,
          6.1461537801302395,
          6.145454536784779,
          6.136363679712469,
          6.130769179417537,
          6.115384652064397,
          6.114285718827021,
          6.109090935100209,
          6.09411761339973,
          6.0916666984558105,
          6.0785713876996725,
          6.075000027815501,
          6.073333358764648,
          6.057142887796674,
          6.057142836706979,
          6.0545455325733535,
          6.049999952316284,
          6.046153802138108,
          6.04545445875688,
          6.043750017881393,
          6.038461538461538,
          6.018181865865534,
          6.007142850330898,
          5.991666595141093,
          5.972727298736572,
          5.9666666984558105,
          5.96363639831543,
          5.950000087420146,
          5.940540565026773,
          5.9399999936421715,
          5.936842115301835,
          5.936363610354337,
          5.907692267344548,
          5.893749982118607,
          5.893333307902018,
          5.892307721651518,
          5.889473689229865,
          5.863636363636363,
          5.833333333333333,
          5.833333293596904,
          5.784615406623254,
          5.760000006357829,
          5.747368373368916,
          5.730434811633566,
          5.7272727272727275,
          5.563636389645663,
          5.523076937748836,
          5.441666702429454
         ],
         "yaxis": "y",
         "type": "bar"
        }
       ],
       "layout": {
        "template": {
         "data": {
          "histogram2dcontour": [
           {
            "type": "histogram2dcontour",
            "colorbar": {
             "outlinewidth": 0,
             "ticks": ""
            },
            "colorscale": [
             [
              0.0,
              "#0d0887"
             ],
             [
              0.1111111111111111,
              "#46039f"
             ],
             [
              0.2222222222222222,
              "#7201a8"
             ],
             [
              0.3333333333333333,
              "#9c179e"
             ],
             [
              0.4444444444444444,
              "#bd3786"
             ],
             [
              0.5555555555555556,
              "#d8576b"
             ],
             [
              0.6666666666666666,
              "#ed7953"
             ],
             [
              0.7777777777777778,
              "#fb9f3a"
             ],
             [
              0.8888888888888888,
              "#fdca26"
             ],
             [
              1.0,
              "#f0f921"
             ]
            ]
           }
          ],
          "choropleth": [
           {
            "type": "choropleth",
            "colorbar": {
             "outlinewidth": 0,
             "ticks": ""
            }
           }
          ],
          "histogram2d": [
           {
            "type": "histogram2d",
            "colorbar": {
             "outlinewidth": 0,
             "ticks": ""
            },
            "colorscale": [
             [
              0.0,
              "#0d0887"
             ],
             [
              0.1111111111111111,
              "#46039f"
             ],
             [
              0.2222222222222222,
              "#7201a8"
             ],
             [
              0.3333333333333333,
              "#9c179e"
             ],
             [
              0.4444444444444444,
              "#bd3786"
             ],
             [
              0.5555555555555556,
              "#d8576b"
             ],
             [
              0.6666666666666666,
              "#ed7953"
             ],
             [
              0.7777777777777778,
              "#fb9f3a"
             ],
             [
              0.8888888888888888,
              "#fdca26"
             ],
             [
              1.0,
              "#f0f921"
             ]
            ]
           }
          ],
          "heatmap": [
           {
            "type": "heatmap",
            "colorbar": {
             "outlinewidth": 0,
             "ticks": ""
            },
            "colorscale": [
             [
              0.0,
              "#0d0887"
             ],
             [
              0.1111111111111111,
              "#46039f"
             ],
             [
              0.2222222222222222,
              "#7201a8"
             ],
             [
              0.3333333333333333,
              "#9c179e"
             ],
             [
              0.4444444444444444,
              "#bd3786"
             ],
             [
              0.5555555555555556,
              "#d8576b"
             ],
             [
              0.6666666666666666,
              "#ed7953"
             ],
             [
              0.7777777777777778,
              "#fb9f3a"
             ],
             [
              0.8888888888888888,
              "#fdca26"
             ],
             [
              1.0,
              "#f0f921"
             ]
            ]
           }
          ],
          "heatmapgl": [
           {
            "type": "heatmapgl",
            "colorbar": {
             "outlinewidth": 0,
             "ticks": ""
            },
            "colorscale": [
             [
              0.0,
              "#0d0887"
             ],
             [
              0.1111111111111111,
              "#46039f"
             ],
             [
              0.2222222222222222,
              "#7201a8"
             ],
             [
              0.3333333333333333,
              "#9c179e"
             ],
             [
              0.4444444444444444,
              "#bd3786"
             ],
             [
              0.5555555555555556,
              "#d8576b"
             ],
             [
              0.6666666666666666,
              "#ed7953"
             ],
             [
              0.7777777777777778,
              "#fb9f3a"
             ],
             [
              0.8888888888888888,
              "#fdca26"
             ],
             [
              1.0,
              "#f0f921"
             ]
            ]
           }
          ],
          "contourcarpet": [
           {
            "type": "contourcarpet",
            "colorbar": {
             "outlinewidth": 0,
             "ticks": ""
            }
           }
          ],
          "contour": [
           {
            "type": "contour",
            "colorbar": {
             "outlinewidth": 0,
             "ticks": ""
            },
            "colorscale": [
             [
              0.0,
              "#0d0887"
             ],
             [
              0.1111111111111111,
              "#46039f"
             ],
             [
              0.2222222222222222,
              "#7201a8"
             ],
             [
              0.3333333333333333,
              "#9c179e"
             ],
             [
              0.4444444444444444,
              "#bd3786"
             ],
             [
              0.5555555555555556,
              "#d8576b"
             ],
             [
              0.6666666666666666,
              "#ed7953"
             ],
             [
              0.7777777777777778,
              "#fb9f3a"
             ],
             [
              0.8888888888888888,
              "#fdca26"
             ],
             [
              1.0,
              "#f0f921"
             ]
            ]
           }
          ],
          "surface": [
           {
            "type": "surface",
            "colorbar": {
             "outlinewidth": 0,
             "ticks": ""
            },
            "colorscale": [
             [
              0.0,
              "#0d0887"
             ],
             [
              0.1111111111111111,
              "#46039f"
             ],
             [
              0.2222222222222222,
              "#7201a8"
             ],
             [
              0.3333333333333333,
              "#9c179e"
             ],
             [
              0.4444444444444444,
              "#bd3786"
             ],
             [
              0.5555555555555556,
              "#d8576b"
             ],
             [
              0.6666666666666666,
              "#ed7953"
             ],
             [
              0.7777777777777778,
              "#fb9f3a"
             ],
             [
              0.8888888888888888,
              "#fdca26"
             ],
             [
              1.0,
              "#f0f921"
             ]
            ]
           }
          ],
          "mesh3d": [
           {
            "type": "mesh3d",
            "colorbar": {
             "outlinewidth": 0,
             "ticks": ""
            }
           }
          ],
          "scatter": [
           {
            "marker": {
             "line": {
              "color": "#283442"
             }
            },
            "type": "scatter"
           }
          ],
          "parcoords": [
           {
            "type": "parcoords",
            "line": {
             "colorbar": {
              "outlinewidth": 0,
              "ticks": ""
             }
            }
           }
          ],
          "scatterpolargl": [
           {
            "type": "scatterpolargl",
            "marker": {
             "colorbar": {
              "outlinewidth": 0,
              "ticks": ""
             }
            }
           }
          ],
          "bar": [
           {
            "error_x": {
             "color": "#f2f5fa"
            },
            "error_y": {
             "color": "#f2f5fa"
            },
            "marker": {
             "line": {
              "color": "rgb(17,17,17)",
              "width": 0.5
             },
             "pattern": {
              "fillmode": "overlay",
              "size": 10,
              "solidity": 0.2
             }
            },
            "type": "bar"
           }
          ],
          "scattergeo": [
           {
            "type": "scattergeo",
            "marker": {
             "colorbar": {
              "outlinewidth": 0,
              "ticks": ""
             }
            }
           }
          ],
          "scatterpolar": [
           {
            "type": "scatterpolar",
            "marker": {
             "colorbar": {
              "outlinewidth": 0,
              "ticks": ""
             }
            }
           }
          ],
          "histogram": [
           {
            "marker": {
             "pattern": {
              "fillmode": "overlay",
              "size": 10,
              "solidity": 0.2
             }
            },
            "type": "histogram"
           }
          ],
          "scattergl": [
           {
            "marker": {
             "line": {
              "color": "#283442"
             }
            },
            "type": "scattergl"
           }
          ],
          "scatter3d": [
           {
            "type": "scatter3d",
            "line": {
             "colorbar": {
              "outlinewidth": 0,
              "ticks": ""
             }
            },
            "marker": {
             "colorbar": {
              "outlinewidth": 0,
              "ticks": ""
             }
            }
           }
          ],
          "scattermapbox": [
           {
            "type": "scattermapbox",
            "marker": {
             "colorbar": {
              "outlinewidth": 0,
              "ticks": ""
             }
            }
           }
          ],
          "scatterternary": [
           {
            "type": "scatterternary",
            "marker": {
             "colorbar": {
              "outlinewidth": 0,
              "ticks": ""
             }
            }
           }
          ],
          "scattercarpet": [
           {
            "type": "scattercarpet",
            "marker": {
             "colorbar": {
              "outlinewidth": 0,
              "ticks": ""
             }
            }
           }
          ],
          "carpet": [
           {
            "aaxis": {
             "endlinecolor": "#A2B1C6",
             "gridcolor": "#506784",
             "linecolor": "#506784",
             "minorgridcolor": "#506784",
             "startlinecolor": "#A2B1C6"
            },
            "baxis": {
             "endlinecolor": "#A2B1C6",
             "gridcolor": "#506784",
             "linecolor": "#506784",
             "minorgridcolor": "#506784",
             "startlinecolor": "#A2B1C6"
            },
            "type": "carpet"
           }
          ],
          "table": [
           {
            "cells": {
             "fill": {
              "color": "#506784"
             },
             "line": {
              "color": "rgb(17,17,17)"
             }
            },
            "header": {
             "fill": {
              "color": "#2a3f5f"
             },
             "line": {
              "color": "rgb(17,17,17)"
             }
            },
            "type": "table"
           }
          ],
          "barpolar": [
           {
            "marker": {
             "line": {
              "color": "rgb(17,17,17)",
              "width": 0.5
             },
             "pattern": {
              "fillmode": "overlay",
              "size": 10,
              "solidity": 0.2
             }
            },
            "type": "barpolar"
           }
          ],
          "pie": [
           {
            "automargin": true,
            "type": "pie"
           }
          ]
         },
         "layout": {
          "autotypenumbers": "strict",
          "colorway": [
           "#636efa",
           "#EF553B",
           "#00cc96",
           "#ab63fa",
           "#FFA15A",
           "#19d3f3",
           "#FF6692",
           "#B6E880",
           "#FF97FF",
           "#FECB52"
          ],
          "font": {
           "color": "#f2f5fa"
          },
          "hovermode": "closest",
          "hoverlabel": {
           "align": "left"
          },
          "paper_bgcolor": "rgb(17,17,17)",
          "plot_bgcolor": "rgb(17,17,17)",
          "polar": {
           "bgcolor": "rgb(17,17,17)",
           "angularaxis": {
            "gridcolor": "#506784",
            "linecolor": "#506784",
            "ticks": ""
           },
           "radialaxis": {
            "gridcolor": "#506784",
            "linecolor": "#506784",
            "ticks": ""
           }
          },
          "ternary": {
           "bgcolor": "rgb(17,17,17)",
           "aaxis": {
            "gridcolor": "#506784",
            "linecolor": "#506784",
            "ticks": ""
           },
           "baxis": {
            "gridcolor": "#506784",
            "linecolor": "#506784",
            "ticks": ""
           },
           "caxis": {
            "gridcolor": "#506784",
            "linecolor": "#506784",
            "ticks": ""
           }
          },
          "coloraxis": {
           "colorbar": {
            "outlinewidth": 0,
            "ticks": ""
           }
          },
          "colorscale": {
           "sequential": [
            [
             0.0,
             "#0d0887"
            ],
            [
             0.1111111111111111,
             "#46039f"
            ],
            [
             0.2222222222222222,
             "#7201a8"
            ],
            [
             0.3333333333333333,
             "#9c179e"
            ],
            [
             0.4444444444444444,
             "#bd3786"
            ],
            [
             0.5555555555555556,
             "#d8576b"
            ],
            [
             0.6666666666666666,
             "#ed7953"
            ],
            [
             0.7777777777777778,
             "#fb9f3a"
            ],
            [
             0.8888888888888888,
             "#fdca26"
            ],
            [
             1.0,
             "#f0f921"
            ]
           ],
           "sequentialminus": [
            [
             0.0,
             "#0d0887"
            ],
            [
             0.1111111111111111,
             "#46039f"
            ],
            [
             0.2222222222222222,
             "#7201a8"
            ],
            [
             0.3333333333333333,
             "#9c179e"
            ],
            [
             0.4444444444444444,
             "#bd3786"
            ],
            [
             0.5555555555555556,
             "#d8576b"
            ],
            [
             0.6666666666666666,
             "#ed7953"
            ],
            [
             0.7777777777777778,
             "#fb9f3a"
            ],
            [
             0.8888888888888888,
             "#fdca26"
            ],
            [
             1.0,
             "#f0f921"
            ]
           ],
           "diverging": [
            [
             0,
             "#8e0152"
            ],
            [
             0.1,
             "#c51b7d"
            ],
            [
             0.2,
             "#de77ae"
            ],
            [
             0.3,
             "#f1b6da"
            ],
            [
             0.4,
             "#fde0ef"
            ],
            [
             0.5,
             "#f7f7f7"
            ],
            [
             0.6,
             "#e6f5d0"
            ],
            [
             0.7,
             "#b8e186"
            ],
            [
             0.8,
             "#7fbc41"
            ],
            [
             0.9,
             "#4d9221"
            ],
            [
             1,
             "#276419"
            ]
           ]
          },
          "xaxis": {
           "gridcolor": "#283442",
           "linecolor": "#506784",
           "ticks": "",
           "title": {
            "standoff": 15
           },
           "zerolinecolor": "#283442",
           "automargin": true,
           "zerolinewidth": 2
          },
          "yaxis": {
           "gridcolor": "#283442",
           "linecolor": "#506784",
           "ticks": "",
           "title": {
            "standoff": 15
           },
           "zerolinecolor": "#283442",
           "automargin": true,
           "zerolinewidth": 2
          },
          "scene": {
           "xaxis": {
            "backgroundcolor": "rgb(17,17,17)",
            "gridcolor": "#506784",
            "linecolor": "#506784",
            "showbackground": true,
            "ticks": "",
            "zerolinecolor": "#C8D4E3",
            "gridwidth": 2
           },
           "yaxis": {
            "backgroundcolor": "rgb(17,17,17)",
            "gridcolor": "#506784",
            "linecolor": "#506784",
            "showbackground": true,
            "ticks": "",
            "zerolinecolor": "#C8D4E3",
            "gridwidth": 2
           },
           "zaxis": {
            "backgroundcolor": "rgb(17,17,17)",
            "gridcolor": "#506784",
            "linecolor": "#506784",
            "showbackground": true,
            "ticks": "",
            "zerolinecolor": "#C8D4E3",
            "gridwidth": 2
           }
          },
          "shapedefaults": {
           "line": {
            "color": "#f2f5fa"
           }
          },
          "annotationdefaults": {
           "arrowcolor": "#f2f5fa",
           "arrowhead": 0,
           "arrowwidth": 1
          },
          "geo": {
           "bgcolor": "rgb(17,17,17)",
           "landcolor": "rgb(17,17,17)",
           "subunitcolor": "#506784",
           "showland": true,
           "showlakes": true,
           "lakecolor": "rgb(17,17,17)"
          },
          "title": {
           "x": 0.05
          },
          "updatemenudefaults": {
           "bgcolor": "#506784",
           "borderwidth": 0
          },
          "sliderdefaults": {
           "bgcolor": "#C8D4E3",
           "borderwidth": 1,
           "bordercolor": "rgb(17,17,17)",
           "tickwidth": 0
          },
          "mapbox": {
           "style": "dark"
          }
         }
        },
        "xaxis": {
         "anchor": "y",
         "domain": [
          0.0,
          1.0
         ],
         "title": {
          "text": "Acteur"
         },
         "categoryorder": "total descending"
        },
        "yaxis": {
         "anchor": "x",
         "domain": [
          0.0,
          1.0
         ],
         "title": {
          "text": "Moyenne de Rating"
         }
        },
        "legend": {
         "tracegroupgap": 0
        },
        "title": {
         "text": "Moyenne de Rating par Acteur (plus de 10 films)"
        },
        "barmode": "relative",
        "hovermode": "x unified"
       },
       "config": {
        "plotlyServerURL": "https://plot.ly"
       }
      },
      "text/html": [
       "<div>                            <div id=\"d4bc07f6-0ccb-4fb2-b4da-b7521cee61fb\" class=\"plotly-graph-div\" style=\"height:525px; width:100%;\"></div>            <script type=\"text/javascript\">                require([\"plotly\"], function(Plotly) {                    window.PLOTLYENV=window.PLOTLYENV || {};                                    if (document.getElementById(\"d4bc07f6-0ccb-4fb2-b4da-b7521cee61fb\")) {                    Plotly.newPlot(                        \"d4bc07f6-0ccb-4fb2-b4da-b7521cee61fb\",                        [{\"alignmentgroup\":\"True\",\"customdata\":[[13],[11],[28],[17],[16],[23],[12],[12],[12],[39],[11],[19],[21],[13],[20],[19],[29],[14],[11],[11],[36],[11],[21],[11],[17],[11],[12],[16],[17],[15],[19],[44],[18],[49],[24],[17],[14],[25],[17],[12],[13],[36],[12],[15],[25],[14],[26],[12],[12],[25],[35],[34],[39],[19],[38],[12],[23],[11],[31],[28],[11],[11],[27],[26],[16],[28],[32],[21],[12],[62],[27],[13],[13],[34],[23],[25],[14],[20],[14],[12],[21],[20],[19],[13],[33],[33],[14],[17],[11],[14],[16],[20],[33],[14],[27],[20],[14],[14],[13],[13],[19],[40],[20],[16],[13],[44],[21],[26],[20],[18],[21],[12],[12],[25],[26],[27],[11],[11],[18],[15],[28],[12],[11],[20],[19],[28],[36],[11],[21],[36],[15],[14],[12],[15],[21],[21],[23],[17],[29],[12],[30],[35],[12],[15],[15],[11],[12],[24],[28],[32],[16],[11],[17],[20],[13],[20],[17],[23],[13],[14],[15],[21],[28],[34],[23],[12],[29],[23],[19],[12],[12],[25],[26],[14],[15],[31],[18],[30],[18],[11],[16],[16],[11],[11],[19],[18],[17],[27],[11],[18],[17],[19],[11],[21],[24],[12],[32],[14],[11],[18],[29],[12],[16],[11],[11],[11],[13],[36],[28],[12],[17],[13],[20],[18],[16],[12],[12],[22],[16],[19],[11],[14],[14],[12],[21],[36],[29],[13],[13],[20],[13],[14],[15],[11],[28],[39],[34],[29],[20],[12],[25],[14],[15],[14],[21],[14],[12],[20],[20],[19],[21],[12],[11],[11],[27],[20],[16],[15],[15],[11],[25],[13],[16],[22],[11],[34],[18],[12],[11],[11],[41],[16],[50],[11],[16],[15],[18],[27],[15],[11],[39],[12],[23],[18],[23],[18],[14],[15],[22],[23],[23],[27],[23],[18],[11],[19],[26],[12],[30],[37],[25],[14],[11],[27],[46],[16],[18],[11],[15],[47],[21],[14],[11],[11],[15],[14],[11],[48],[25],[13],[17],[15],[21],[25],[15],[16],[12],[15],[21],[11],[23],[12],[32],[11],[24],[17],[16],[12],[15],[17],[24],[20],[33],[16],[13],[23],[11],[11],[22],[21],[39],[29],[11],[14],[17],[30],[11],[11],[13],[22],[16],[15],[35],[12],[14],[11],[15],[22],[11],[16],[26],[16],[18],[21],[17],[12],[13],[28],[15],[19],[19],[36],[18],[13],[12],[11],[26],[31],[22],[13],[13],[17],[30],[12],[11],[37],[12],[28],[13],[20],[61],[24],[14],[30],[16],[17],[18],[17],[36],[12],[22],[19],[12],[40],[16],[18],[21],[13],[11],[11],[13],[13],[21],[11],[17],[12],[14],[24],[15],[14],[14],[11],[12],[13],[11],[16],[13],[11],[14],[12],[11],[12],[11],[12],[37],[15],[19],[11],[13],[16],[15],[13],[19],[11],[15],[12],[13],[15],[19],[23],[11],[11],[13],[12]],\"hovertemplate\":\"Acteur=%{x}\\u003cbr\\u003eMoyenne de Rating=%{y}\\u003cbr\\u003eNombre de Films=%{customdata[0]}\\u003cextra\\u003e\\u003c\\u002fextra\\u003e\",\"legendgroup\":\"\",\"marker\":{\"color\":\"#636efa\",\"pattern\":{\"shape\":\"\"}},\"name\":\"\",\"offsetgroup\":\"\",\"orientation\":\"v\",\"showlegend\":false,\"textposition\":\"auto\",\"x\":[\"Orlando Bloom\",\"Joe Pesci\",\"Leonardo DiCaprio\",\"Ian McKellen\",\"Paul Newman\",\"Dustin Hoffman\",\"Daniel Day-Lewis\",\"Emily Watson\",\"Marlon Brando\",\"Brad Pitt\",\"Joan Allen\",\"Kevin Spacey\",\"Jack Nicholson\",\"Simon Pegg\",\"Christopher Plummer\",\"Philip Seymour Hoffman\",\"Robert Downey Jr.\",\"Jeremy Renner\",\"J.K. Simmons\",\"Hugo Weaving\",\"Clint Eastwood\",\"Domhnall Gleeson\",\"Edward Norton\",\"Heath Ledger\",\"Frances McDormand\",\"Scott Glenn\",\"Andrew Garfield\",\"Emma Watson\",\"Daniel Craig\",\"Chris Cooper\",\"Sean Penn\",\"Matt Damon\",\"Tom Hardy\",\"Tom Hanks\",\"Mark Ruffalo\",\"Geoffrey Rush\",\"Benedict Cumberbatch\",\"Michael Caine\",\"Catherine Keener\",\"Tobey Maguire\",\"Brendan Gleeson\",\"Christian Bale\",\"John Hurt\",\"Laura Dern\",\"Ryan Gosling\",\"Carey Mulligan\",\"Joaquin Phoenix\",\"Patrick Stewart\",\"Sissy Spacek\",\"Robert Duvall\",\"Harrison Ford\",\"Al Pacino\",\"Denzel Washington\",\"Daniel Radcliffe\",\"Tom Cruise\",\"Marisa Tomei\",\"Robert Redford\",\"James Woods\",\"Jake Gyllenhaal\",\"Kate Winslet\",\"Jay Baruchel\",\"Tom Holland\",\"Gene Hackman\",\"Hugh Jackman\",\"Tim Robbins\",\"Jeff Bridges\",\"Ethan Hawke\",\"Jodie Foster\",\"Robin Wright\",\"Robert De Niro\",\"Ed Harris\",\"Abigail Breslin\",\"Cillian Murphy\",\"Cate Blanchett\",\"Harvey Keitel\",\"Rachel McAdams\",\"Jon Voight\",\"Tilda Swinton\",\"Michael J. Fox\",\"Matthew Goode\",\"Viggo Mortensen\",\"Joseph Gordon-Levitt\",\"Tom Wilkinson\",\"Dianne Wiest\",\"Kevin Costner\",\"Scarlett Johansson\",\"Benicio Del Toro\",\"Chris Pratt\",\"Patricia Clarkson\",\"Jon Bernthal\",\"Helena Bonham Carter\",\"Josh Brolin\",\"Russell Crowe\",\"Alan Arkin\",\"John Goodman\",\"Laurence Fishburne\",\"Bryan Cranston\",\"Hugh Grant\",\"Rooney Mara\",\"Elijah Wood\",\"Javier Bardem\",\"Morgan Freeman\",\"Chris Hemsworth\",\"Bill Nighy\",\"Stellan Skarsg\\u00e5rd\",\"Johnny Depp\",\"Laura Linney\",\"Jennifer Connelly\",\"Winona Ryder\",\"James McAvoy\",\"Emma Thompson\",\"Jessica Lange\",\"Faye Dunaway\",\"Bill Murray\",\"Keira Knightley\",\"Amy Adams\",\"Jim Sturgess\",\"John Candy\",\"Jennifer Jason Leigh\",\"Michael Shannon\",\"Kurt Russell\",\"Anya Taylor-Joy\",\"Charlie Hunnam\",\"Helen Mirren\",\"Jessica Chastain\",\"Chris Evans\",\"Anthony Hopkins\",\"Amy Ryan\",\"Emma Stone\",\"Ewan McGregor\",\"Steve Buscemi\",\"Vera Farmiga\",\"Aaron Taylor-Johnson\",\"Juliette Binoche\",\"Joel Edgerton\",\"Sam Rockwell\",\"Rachel Weisz\",\"Michelle Williams\",\"Steve Carell\",\"Vincent Cassel\",\"Sigourney Weaver\",\"Julianne Moore\",\"Helen Hunt\",\"Nick Nolte\",\"Danny Glover\",\"Octavia Spencer\",\"Brie Larson\",\"Michael Douglas\",\"Jude Law\",\"Woody Harrelson\",\"Margot Robbie\",\"Whoopi Goldberg\",\"William Hurt\",\"Adam Driver\",\"Juliette Lewis\",\"Jennifer Lawrence\",\"Clive Owen\",\"Val Kilmer\",\"Mark Strong\",\"Kristin Scott Thomas\",\"Casey Affleck\",\"Guy Pearce\",\"Ben Kingsley\",\"Meryl Streep\",\"Colin Firth\",\"Shailene Woodley\",\"Ralph Fiennes\",\"John Malkovich\",\"Forest Whitaker\",\"Jeffrey Wright\",\"Felicity Jones\",\"Bradley Cooper\",\"Natalie Portman\",\"David Morse\",\"Eric Bana\",\"George Clooney\",\"Annette Bening\",\"Sean Connery\",\"Chiwetel Ejiofor\",\"Sharlto Copley\",\"Viola Davis\",\"Jeff Daniels\",\"Christopher Lloyd\",\"Jeff Goldblum\",\"Jamie Bell\",\"Gwyneth Paltrow\",\"Glenn Close\",\"Gary Oldman\",\"Eva Green\",\"Peter Sarsgaard\",\"Jonah Hill\",\"Nicholas Hoult\",\"Cuba Gooding Jr.\",\"Kevin Bacon\",\"Donald Sutherland\",\"Dennis Hopper\",\"Colin Farrell\",\"Matt Dillon\",\"Sienna Miller\",\"Bill Paxton\",\"Robin Williams\",\"Eddie Redmayne\",\"Kathy Bates\",\"Will Arnett\",\"Maggie Smith\",\"Armie Hammer\",\"Dominic West\",\"Mel Gibson\",\"Kirsten Dunst\",\"Anjelica Huston\",\"Zoe Saldana\",\"Sean Bean\",\"Toni Collette\",\"Sam Neill\",\"Rosamund Pike\",\"Miles Teller\",\"John Lithgow\",\"Billy Bob Thornton\",\"Alicia Vikander\",\"Oscar Isaac\",\"Josh Hartnett\",\"Kenneth Branagh\",\"Cary Elwes\",\"Danny Huston\",\"Paul Giamatti\",\"Matthew McConaughey\",\"Will Smith\",\"Judi Dench\",\"Emily Mortimer\",\"Ben Foster\",\"Justin Timberlake\",\"Henry Cavill\",\"Matthew Broderick\",\"Christoph Waltz\",\"Michelle Pfeiffer\",\"Willem Dafoe\",\"Charlize Theron\",\"Emily Blunt\",\"Diane Keaton\",\"Bryce Dallas Howard\",\"Jamie Foxx\",\"Max von Sydow\",\"Saoirse Ronan\",\"Jon Hamm\",\"Shia LaBeouf\",\"Hilary Swank\",\"Jim Broadbent\",\"John C. Reilly\",\"Jeremy Irons\",\"James Franco\",\"Michael Keaton\",\"Bruce Dern\",\"Tim Allen\",\"Tom Sizemore\",\"Jim Carrey\",\"Jason Bateman\",\"Kevin Kline\",\"Dan Aykroyd\",\"Bill Pullman\",\"Ian McShane\",\"John Cusack\",\"Josh Gad\",\"Vincent D'Onofrio\",\"Susan Sarandon\",\"Kris Kristofferson\",\"Ryan Reynolds\",\"Don Cheadle\",\"Tina Fey\",\"Andy Samberg\",\"Carrie-Anne Moss\",\"Nicole Kidman\",\"Anthony Mackie\",\"Samuel L. Jackson\",\"Allison Janney\",\"Dakota Fanning\",\"Adrien Brody\",\"Greg Kinnear\",\"Christopher Walken\",\"Uma Thurman\",\"Elizabeth Olsen\",\"Keanu Reeves\",\"Diane Kruger\",\"Jesse Eisenberg\",\"Ren\\u00e9e Zellweger\",\"Vin Diesel\",\"Rosario Dawson\",\"Angela Bassett\",\"Paul Walker\",\"Anna Kendrick\",\"Chris Pine\",\"Michael Fassbender\",\"Naomi Watts\",\"Seth Rogen\",\"Steve Zahn\",\"Taye Diggs\",\"Diane Lane\",\"Jack Black\",\"Alessandro Nivola\",\"Sylvester Stallone\",\"Julia Roberts\",\"Angelina Jolie\",\"Joan Cusack\",\"Giovanni Ribisi\",\"Alec Baldwin\",\"Mark Wahlberg\",\"Ray Liotta\",\"Kristen Wiig\",\"Brian Cox\",\"Sam Worthington\",\"Liam Neeson\",\"Vince Vaughn\",\"Wesley Snipes\",\"Garrett Hedlund\",\"Liam Hemsworth\",\"Emile Hirsch\",\"Jason Sudeikis\",\"Jason Segel\",\"Bruce Willis\",\"Tommy Lee Jones\",\"Jason Clarke\",\"Kiefer Sutherland\",\"Tim Roth\",\"Stanley Tucci\",\"Paul Rudd\",\"Demi Moore\",\"Liev Schreiber\",\"Richard Jenkins\",\"Noomi Rapace\",\"Elizabeth Banks\",\"Tye Sheridan\",\"Steve Martin\",\"Maria Bello\",\"Sandra Bullock\",\"Ryan Phillippe\",\"Chlo\\u00eb Grace Moretz\",\"Michelle Monaghan\",\"Olivia Wilde\",\"Rebecca Hall\",\"Catherine Zeta-Jones\",\"Elle Fanning\",\"Reese Witherspoon\",\"Danny DeVito\",\"Anne Hathaway\",\"Rene Russo\",\"Jet Li\",\"Channing Tatum\",\"Kathleen Turner\",\"Christina Ricci\",\"Kate Beckinsale\",\"Jennifer Garner\",\"Dennis Quaid\",\"Gerard Butler\",\"Andy Garcia\",\"Charlie Sheen\",\"Jane Fonda\",\"Antonio Banderas\",\"Luke Evans\",\"Thandiwe Newton\",\"Dan Stevens\",\"Patrick Wilson\",\"Zach Galifianakis\",\"Mila Kunis\",\"Ben Affleck\",\"Jean Reno\",\"Kim Basinger\",\"Abbie Cornish\",\"Ving Rhames\",\"Rose Byrne\",\"Bridget Fonda\",\"David Thewlis\",\"Ben Stiller\",\"Josh Hutcherson\",\"Richard Gere\",\"Drew Barrymore\",\"Michael Pe\\u00f1a\",\"Hayden Christensen\",\"Alexander Skarsg\\u00e5rd\",\"Cameron Diaz\",\"Meg Ryan\",\"Aaron Eckhart\",\"Jackie Chan\",\"Dwayne Johnson\",\"Christian Slater\",\"Elisabeth Shue\",\"Leslie Mann\",\"Frank Langella\",\"John Leguizamo\",\"Will Ferrell\",\"Amanda Seyfried\",\"Queen Latifah\",\"Ron Perlman\",\"Mickey Rourke\",\"Eddie Murphy\",\"Bruce Greenwood\",\"Blake Lively\",\"Jason Statham\",\"Eva Mendes\",\"Jennifer Aniston\",\"Mike Myers\",\"Jamie Lee Curtis\",\"Nicolas Cage\",\"Pierce Brosnan\",\"Seann William Scott\",\"Arnold Schwarzenegger\",\"Robert Pattinson\",\"Pen\\u00e9lope Cruz\",\"Idris Elba\",\"James Marsden\",\"Owen Wilson\",\"Burt Reynolds\",\"Zac Efron\",\"Dermot Mulroney\",\"Aubrey Plaza\",\"Adam Sandler\",\"Michelle Rodriguez\",\"Halle Berry\",\"Kevin Hart\",\"Josh Lucas\",\"Tyrese Gibson\",\"Ana de Armas\",\"Famke Janssen\",\"Peter Dinklage\",\"Salma Hayek\",\"Courteney Cox\",\"Kristen Bell\",\"Sarah Jessica Parker\",\"Melissa McCarthy\",\"Kristen Stewart\",\"Chris Rock\",\"Kate Hudson\",\"Ashton Kutcher\",\"Amy Poehler\",\"Jessica Biel\",\"Sharon Stone\",\"Tiffany Haddish\",\"Brendan Fraser\",\"Maya Rudolph\",\"David Arquette\",\"Josh Duhamel\",\"John Cena\",\"Matthew Lillard\",\"Peter Farrelly\",\"Eugene Levy\",\"Vanessa Hudgens\",\"John Travolta\",\"Kevin James\",\"Anna Faris\",\"Dakota Johnson\",\"Emma Roberts\",\"Carla Gugino\",\"Kate Bosworth\",\"Martin Lawrence\",\"Milla Jovovich\",\"Amber Heard\",\"Ice Cube\",\"Jean-Claude Van Damme\",\"Katherine Heigl\",\"Justin Long\",\"Jessica Alba\",\"Jennifer Lopez\",\"Alexandra Daddario\",\"Megan Fox\",\"Marlon Wayans\",\"Stephen Dorff\"],\"xaxis\":\"x\",\"y\":[7.453846234541673,7.436363610354337,7.417857136045184,7.40588238660027,7.393750011920929,7.3086956894916035,7.300000071525574,7.258333444595337,7.24999996026357,7.238461531125582,7.22727277062156,7.226315799512361,7.214285668872652,7.207692366379958,7.2050000667572025,7.173684220564993,7.172413793103448,7.1642857279096335,7.154545437205922,7.154545393857089,7.150000015894572,7.145454493435946,7.138095265343075,7.136363636363637,7.129411837633918,7.127272735942494,7.108333349227905,7.106250017881393,7.088235350216136,7.086666679382324,7.084210496199758,7.084090948104858,7.072222259309557,7.071428600622683,7.070833325386047,7.070588252123664,7.057142836706979,7.055999984741211,7.052941210129681,7.049999992052714,7.046153912177453,7.038888865047031,7.0333333015441895,7.026666609446208,7.024000034332276,7.0214285509926935,7.01923078757066,7.016666690508525,7.016666611035665,7.00399995803833,6.991428579602923,6.991176443941453,6.989743575071677,6.984210566470497,6.984210528825459,6.983333388964335,6.982608670773714,6.981818199157715,6.980645148984848,6.967857139451163,6.963636485013095,6.963636354966597,6.962962936472009,6.961538461538462,6.956249982118607,6.953571421759469,6.953125,6.942857129233224,6.941666642824809,6.94032258372153,6.929629608436867,6.923076959756704,6.9230768497173605,6.920588254928589,6.917391300201416,6.91600004196167,6.907142843518939,6.9049999713897705,6.900000027247837,6.899999976158142,6.895238081614177,6.895000028610229,6.894736817008571,6.892307648291955,6.890909108248624,6.890909093799013,6.885714292526245,6.882352941176471,6.8818182511763135,6.878571476255145,6.875,6.8599999904632565,6.857575777805213,6.85714282308306,6.8555555873447,6.850000023841858,6.842857156481061,6.842857156481061,6.838461582477276,6.838461545797495,6.836842135379189,6.8350000262260435,6.835000014305114,6.831249982118607,6.830769245441143,6.8295454220338305,6.828571410406203,6.826923076923077,6.8250000238418576,6.822222179836697,6.819047609965007,6.8166667222976685,6.8166667222976685,6.811999988555908,6.811538476210374,6.811111096982603,6.809091004458341,6.809090917760676,6.805555582046509,6.8,6.796428561210632,6.791666666666667,6.790909073569558,6.790000033378601,6.7894736842105265,6.785714268684387,6.783333354526096,6.781818173148415,6.780952408200219,6.78055555290646,6.780000114440918,6.778571503502982,6.774999976158142,6.773333358764648,6.7714285623459585,6.7666666848318915,6.760869544485341,6.758823591120103,6.758620706097833,6.7583333651224775,6.756666660308838,6.751428590502058,6.75,6.746666717529297,6.746666622161865,6.745454614812678,6.741666674613953,6.741666654745738,6.739285724503653,6.737499997019768,6.737499982118607,6.736363584345037,6.735294089597814,6.735000014305115,6.730769157409668,6.729999923706055,6.729411770315731,6.726086927496868,6.723076893733098,6.721428564616612,6.720000012715658,6.719047591799781,6.717857190540859,6.717647033579209,6.717391304347826,6.716666618982951,6.713793121535202,6.713043482407279,6.710526340886166,6.708333333333333,6.708333293596904,6.707999992370605,6.707692256340613,6.707142932074411,6.7066665967305505,6.706451592906829,6.705555597941081,6.703333338101705,6.700000100665623,6.7000000260093,6.700000017881393,6.699999988079071,6.699999982660467,6.699999939311635,6.694736832066586,6.694444470935398,6.694117658278522,6.692592603188974,6.690909038890492,6.688888920678033,6.688235282897949,6.684210576509175,6.681818181818182,6.6809523219154,6.6666666467984514,6.666666626930237,6.665624991059303,6.664285693849836,6.6636363809758965,6.661111089918348,6.658620752137283,6.6583333015441895,6.656250029802322,6.654545480554754,6.654545437205922,6.654545437205922,6.653846190525935,6.652777751286824,6.650000027247837,6.650000015894572,6.647058781455545,6.646153890169584,6.644999980926514,6.644444465637207,6.643750011920929,6.641666690508525,6.641666650772095,6.640909086574208,6.637499898672104,6.636842100243819,6.636363549665972,6.6357143606458395,6.635714292526245,6.6333333651224775,6.633333319709415,6.633333305517833,6.6310344893356845,6.630769197757427,6.630769142737756,6.624999928474426,6.623076952420748,6.621428557804653,6.620000044504802,6.618181878870184,6.617857098579407,6.615384664290991,6.614705871133244,6.610344804566482,6.609999966621399,6.608333309491475,6.607999973297119,6.607142908232553,6.606666723887126,6.599999972752163,6.595238049825032,6.592857122421265,6.59166665871938,6.589999985694885,6.589999961853027,6.589473724365234,6.585714294796898,6.583333333333333,6.581818233836781,6.581818233836781,6.581481527399133,6.580000019073486,6.575000017881393,6.5733334223429365,6.573333326975504,6.572727290066806,6.572000026702881,6.569230813246507,6.568750023841858,6.568181818181818,6.563636346296831,6.561764717102051,6.561111132303874,6.558333317438762,6.554545445875688,6.5545453591780225,6.553658555193645,6.550000011920929,6.55,6.545454545454546,6.543749958276749,6.533333333333333,6.533333328035143,6.533333319204825,6.5333333015441895,6.527272744612261,6.525641013414432,6.525000015894572,6.521739130434782,6.516666637526618,6.5130434865536895,6.511111127005683,6.507142884390695,6.506666723887125,6.504545493559404,6.504347842672597,6.499999979267949,6.496296264507152,6.495652219523555,6.494444449742635,6.490909012881192,6.489473644055818,6.484615417627188,6.483333349227905,6.483333349227905,6.481081060461096,6.479999980926514,6.4785714490073065,6.472727168690074,6.470370398627387,6.469565225684124,6.468749985098839,6.466666751437717,6.463636354966597,6.460000006357829,6.457446808510638,6.457142875308082,6.457142795835223,6.454545454545454,6.454545411196622,6.453333314259847,6.450000013623919,6.4454544674266465,6.4416666477918625,6.439999980926514,6.438461597149189,6.435294095207663,6.433333333333334,6.4285714739844915,6.427999973297119,6.426666704813639,6.425000041723251,6.424999992052714,6.420000076293945,6.419047650836763,6.418181852860884,6.417391279469365,6.416666626930237,6.409375011920929,6.409090909090909,6.408333281675975,6.40588238660027,6.400000035762787,6.400000015894572,6.4,6.399999983170453,6.395833373069763,6.395000028610229,6.393939408389005,6.393749982118607,6.392307684971736,6.391304306361986,6.390909108248624,6.390909108248624,6.390909086574208,6.390476181393578,6.389743590966249,6.382758617401123,6.3818181644786485,6.378571476255145,6.376470593845143,6.373333358764649,6.372727220708674,6.372727220708674,6.3692307472229,6.368181857195768,6.362500011920929,6.360000038146973,6.360000010899135,6.3499999443689985,6.342857156481061,6.3363636190241035,6.333333349227905,6.327272740277377,6.327272718602961,6.324999958276749,6.319230758226835,6.3187499940395355,6.316666629579332,6.314285732450939,6.311764717102051,6.3083332777023315,6.307692344372089,6.307142887796674,6.306666660308838,6.305263193030107,6.3052631177400285,6.299999978807238,6.294444428549872,6.292307743659387,6.28333334128062,6.281818173148415,6.2807691647456245,6.277419336380497,6.272727294401689,6.269230732550988,6.269230677531316,6.264705910402186,6.263333320617676,6.258333325386047,6.254545471884987,6.251351362950093,6.25000003973643,6.23928575856345,6.23076921242934,6.230000042915345,6.226229515232023,6.224999964237213,6.221428598676409,6.219999988873799,6.218750059604645,6.217647075653076,6.216666685210334,6.211764728321748,6.211111068725586,6.1833332777023315,6.181818160143766,6.178947348343699,6.175000031789144,6.175000029802322,6.174999982118607,6.172222216924031,6.166666643960135,6.1461537801302395,6.145454536784779,6.136363679712469,6.130769179417537,6.115384652064397,6.114285718827021,6.109090935100209,6.09411761339973,6.0916666984558105,6.0785713876996725,6.075000027815501,6.073333358764648,6.057142887796674,6.057142836706979,6.0545455325733535,6.049999952316284,6.046153802138108,6.04545445875688,6.043750017881393,6.038461538461538,6.018181865865534,6.007142850330898,5.991666595141093,5.972727298736572,5.9666666984558105,5.96363639831543,5.950000087420146,5.940540565026773,5.9399999936421715,5.936842115301835,5.936363610354337,5.907692267344548,5.893749982118607,5.893333307902018,5.892307721651518,5.889473689229865,5.863636363636363,5.833333333333333,5.833333293596904,5.784615406623254,5.760000006357829,5.747368373368916,5.730434811633566,5.7272727272727275,5.563636389645663,5.523076937748836,5.441666702429454],\"yaxis\":\"y\",\"type\":\"bar\"}],                        {\"template\":{\"data\":{\"histogram2dcontour\":[{\"type\":\"histogram2dcontour\",\"colorbar\":{\"outlinewidth\":0,\"ticks\":\"\"},\"colorscale\":[[0.0,\"#0d0887\"],[0.1111111111111111,\"#46039f\"],[0.2222222222222222,\"#7201a8\"],[0.3333333333333333,\"#9c179e\"],[0.4444444444444444,\"#bd3786\"],[0.5555555555555556,\"#d8576b\"],[0.6666666666666666,\"#ed7953\"],[0.7777777777777778,\"#fb9f3a\"],[0.8888888888888888,\"#fdca26\"],[1.0,\"#f0f921\"]]}],\"choropleth\":[{\"type\":\"choropleth\",\"colorbar\":{\"outlinewidth\":0,\"ticks\":\"\"}}],\"histogram2d\":[{\"type\":\"histogram2d\",\"colorbar\":{\"outlinewidth\":0,\"ticks\":\"\"},\"colorscale\":[[0.0,\"#0d0887\"],[0.1111111111111111,\"#46039f\"],[0.2222222222222222,\"#7201a8\"],[0.3333333333333333,\"#9c179e\"],[0.4444444444444444,\"#bd3786\"],[0.5555555555555556,\"#d8576b\"],[0.6666666666666666,\"#ed7953\"],[0.7777777777777778,\"#fb9f3a\"],[0.8888888888888888,\"#fdca26\"],[1.0,\"#f0f921\"]]}],\"heatmap\":[{\"type\":\"heatmap\",\"colorbar\":{\"outlinewidth\":0,\"ticks\":\"\"},\"colorscale\":[[0.0,\"#0d0887\"],[0.1111111111111111,\"#46039f\"],[0.2222222222222222,\"#7201a8\"],[0.3333333333333333,\"#9c179e\"],[0.4444444444444444,\"#bd3786\"],[0.5555555555555556,\"#d8576b\"],[0.6666666666666666,\"#ed7953\"],[0.7777777777777778,\"#fb9f3a\"],[0.8888888888888888,\"#fdca26\"],[1.0,\"#f0f921\"]]}],\"heatmapgl\":[{\"type\":\"heatmapgl\",\"colorbar\":{\"outlinewidth\":0,\"ticks\":\"\"},\"colorscale\":[[0.0,\"#0d0887\"],[0.1111111111111111,\"#46039f\"],[0.2222222222222222,\"#7201a8\"],[0.3333333333333333,\"#9c179e\"],[0.4444444444444444,\"#bd3786\"],[0.5555555555555556,\"#d8576b\"],[0.6666666666666666,\"#ed7953\"],[0.7777777777777778,\"#fb9f3a\"],[0.8888888888888888,\"#fdca26\"],[1.0,\"#f0f921\"]]}],\"contourcarpet\":[{\"type\":\"contourcarpet\",\"colorbar\":{\"outlinewidth\":0,\"ticks\":\"\"}}],\"contour\":[{\"type\":\"contour\",\"colorbar\":{\"outlinewidth\":0,\"ticks\":\"\"},\"colorscale\":[[0.0,\"#0d0887\"],[0.1111111111111111,\"#46039f\"],[0.2222222222222222,\"#7201a8\"],[0.3333333333333333,\"#9c179e\"],[0.4444444444444444,\"#bd3786\"],[0.5555555555555556,\"#d8576b\"],[0.6666666666666666,\"#ed7953\"],[0.7777777777777778,\"#fb9f3a\"],[0.8888888888888888,\"#fdca26\"],[1.0,\"#f0f921\"]]}],\"surface\":[{\"type\":\"surface\",\"colorbar\":{\"outlinewidth\":0,\"ticks\":\"\"},\"colorscale\":[[0.0,\"#0d0887\"],[0.1111111111111111,\"#46039f\"],[0.2222222222222222,\"#7201a8\"],[0.3333333333333333,\"#9c179e\"],[0.4444444444444444,\"#bd3786\"],[0.5555555555555556,\"#d8576b\"],[0.6666666666666666,\"#ed7953\"],[0.7777777777777778,\"#fb9f3a\"],[0.8888888888888888,\"#fdca26\"],[1.0,\"#f0f921\"]]}],\"mesh3d\":[{\"type\":\"mesh3d\",\"colorbar\":{\"outlinewidth\":0,\"ticks\":\"\"}}],\"scatter\":[{\"marker\":{\"line\":{\"color\":\"#283442\"}},\"type\":\"scatter\"}],\"parcoords\":[{\"type\":\"parcoords\",\"line\":{\"colorbar\":{\"outlinewidth\":0,\"ticks\":\"\"}}}],\"scatterpolargl\":[{\"type\":\"scatterpolargl\",\"marker\":{\"colorbar\":{\"outlinewidth\":0,\"ticks\":\"\"}}}],\"bar\":[{\"error_x\":{\"color\":\"#f2f5fa\"},\"error_y\":{\"color\":\"#f2f5fa\"},\"marker\":{\"line\":{\"color\":\"rgb(17,17,17)\",\"width\":0.5},\"pattern\":{\"fillmode\":\"overlay\",\"size\":10,\"solidity\":0.2}},\"type\":\"bar\"}],\"scattergeo\":[{\"type\":\"scattergeo\",\"marker\":{\"colorbar\":{\"outlinewidth\":0,\"ticks\":\"\"}}}],\"scatterpolar\":[{\"type\":\"scatterpolar\",\"marker\":{\"colorbar\":{\"outlinewidth\":0,\"ticks\":\"\"}}}],\"histogram\":[{\"marker\":{\"pattern\":{\"fillmode\":\"overlay\",\"size\":10,\"solidity\":0.2}},\"type\":\"histogram\"}],\"scattergl\":[{\"marker\":{\"line\":{\"color\":\"#283442\"}},\"type\":\"scattergl\"}],\"scatter3d\":[{\"type\":\"scatter3d\",\"line\":{\"colorbar\":{\"outlinewidth\":0,\"ticks\":\"\"}},\"marker\":{\"colorbar\":{\"outlinewidth\":0,\"ticks\":\"\"}}}],\"scattermapbox\":[{\"type\":\"scattermapbox\",\"marker\":{\"colorbar\":{\"outlinewidth\":0,\"ticks\":\"\"}}}],\"scatterternary\":[{\"type\":\"scatterternary\",\"marker\":{\"colorbar\":{\"outlinewidth\":0,\"ticks\":\"\"}}}],\"scattercarpet\":[{\"type\":\"scattercarpet\",\"marker\":{\"colorbar\":{\"outlinewidth\":0,\"ticks\":\"\"}}}],\"carpet\":[{\"aaxis\":{\"endlinecolor\":\"#A2B1C6\",\"gridcolor\":\"#506784\",\"linecolor\":\"#506784\",\"minorgridcolor\":\"#506784\",\"startlinecolor\":\"#A2B1C6\"},\"baxis\":{\"endlinecolor\":\"#A2B1C6\",\"gridcolor\":\"#506784\",\"linecolor\":\"#506784\",\"minorgridcolor\":\"#506784\",\"startlinecolor\":\"#A2B1C6\"},\"type\":\"carpet\"}],\"table\":[{\"cells\":{\"fill\":{\"color\":\"#506784\"},\"line\":{\"color\":\"rgb(17,17,17)\"}},\"header\":{\"fill\":{\"color\":\"#2a3f5f\"},\"line\":{\"color\":\"rgb(17,17,17)\"}},\"type\":\"table\"}],\"barpolar\":[{\"marker\":{\"line\":{\"color\":\"rgb(17,17,17)\",\"width\":0.5},\"pattern\":{\"fillmode\":\"overlay\",\"size\":10,\"solidity\":0.2}},\"type\":\"barpolar\"}],\"pie\":[{\"automargin\":true,\"type\":\"pie\"}]},\"layout\":{\"autotypenumbers\":\"strict\",\"colorway\":[\"#636efa\",\"#EF553B\",\"#00cc96\",\"#ab63fa\",\"#FFA15A\",\"#19d3f3\",\"#FF6692\",\"#B6E880\",\"#FF97FF\",\"#FECB52\"],\"font\":{\"color\":\"#f2f5fa\"},\"hovermode\":\"closest\",\"hoverlabel\":{\"align\":\"left\"},\"paper_bgcolor\":\"rgb(17,17,17)\",\"plot_bgcolor\":\"rgb(17,17,17)\",\"polar\":{\"bgcolor\":\"rgb(17,17,17)\",\"angularaxis\":{\"gridcolor\":\"#506784\",\"linecolor\":\"#506784\",\"ticks\":\"\"},\"radialaxis\":{\"gridcolor\":\"#506784\",\"linecolor\":\"#506784\",\"ticks\":\"\"}},\"ternary\":{\"bgcolor\":\"rgb(17,17,17)\",\"aaxis\":{\"gridcolor\":\"#506784\",\"linecolor\":\"#506784\",\"ticks\":\"\"},\"baxis\":{\"gridcolor\":\"#506784\",\"linecolor\":\"#506784\",\"ticks\":\"\"},\"caxis\":{\"gridcolor\":\"#506784\",\"linecolor\":\"#506784\",\"ticks\":\"\"}},\"coloraxis\":{\"colorbar\":{\"outlinewidth\":0,\"ticks\":\"\"}},\"colorscale\":{\"sequential\":[[0.0,\"#0d0887\"],[0.1111111111111111,\"#46039f\"],[0.2222222222222222,\"#7201a8\"],[0.3333333333333333,\"#9c179e\"],[0.4444444444444444,\"#bd3786\"],[0.5555555555555556,\"#d8576b\"],[0.6666666666666666,\"#ed7953\"],[0.7777777777777778,\"#fb9f3a\"],[0.8888888888888888,\"#fdca26\"],[1.0,\"#f0f921\"]],\"sequentialminus\":[[0.0,\"#0d0887\"],[0.1111111111111111,\"#46039f\"],[0.2222222222222222,\"#7201a8\"],[0.3333333333333333,\"#9c179e\"],[0.4444444444444444,\"#bd3786\"],[0.5555555555555556,\"#d8576b\"],[0.6666666666666666,\"#ed7953\"],[0.7777777777777778,\"#fb9f3a\"],[0.8888888888888888,\"#fdca26\"],[1.0,\"#f0f921\"]],\"diverging\":[[0,\"#8e0152\"],[0.1,\"#c51b7d\"],[0.2,\"#de77ae\"],[0.3,\"#f1b6da\"],[0.4,\"#fde0ef\"],[0.5,\"#f7f7f7\"],[0.6,\"#e6f5d0\"],[0.7,\"#b8e186\"],[0.8,\"#7fbc41\"],[0.9,\"#4d9221\"],[1,\"#276419\"]]},\"xaxis\":{\"gridcolor\":\"#283442\",\"linecolor\":\"#506784\",\"ticks\":\"\",\"title\":{\"standoff\":15},\"zerolinecolor\":\"#283442\",\"automargin\":true,\"zerolinewidth\":2},\"yaxis\":{\"gridcolor\":\"#283442\",\"linecolor\":\"#506784\",\"ticks\":\"\",\"title\":{\"standoff\":15},\"zerolinecolor\":\"#283442\",\"automargin\":true,\"zerolinewidth\":2},\"scene\":{\"xaxis\":{\"backgroundcolor\":\"rgb(17,17,17)\",\"gridcolor\":\"#506784\",\"linecolor\":\"#506784\",\"showbackground\":true,\"ticks\":\"\",\"zerolinecolor\":\"#C8D4E3\",\"gridwidth\":2},\"yaxis\":{\"backgroundcolor\":\"rgb(17,17,17)\",\"gridcolor\":\"#506784\",\"linecolor\":\"#506784\",\"showbackground\":true,\"ticks\":\"\",\"zerolinecolor\":\"#C8D4E3\",\"gridwidth\":2},\"zaxis\":{\"backgroundcolor\":\"rgb(17,17,17)\",\"gridcolor\":\"#506784\",\"linecolor\":\"#506784\",\"showbackground\":true,\"ticks\":\"\",\"zerolinecolor\":\"#C8D4E3\",\"gridwidth\":2}},\"shapedefaults\":{\"line\":{\"color\":\"#f2f5fa\"}},\"annotationdefaults\":{\"arrowcolor\":\"#f2f5fa\",\"arrowhead\":0,\"arrowwidth\":1},\"geo\":{\"bgcolor\":\"rgb(17,17,17)\",\"landcolor\":\"rgb(17,17,17)\",\"subunitcolor\":\"#506784\",\"showland\":true,\"showlakes\":true,\"lakecolor\":\"rgb(17,17,17)\"},\"title\":{\"x\":0.05},\"updatemenudefaults\":{\"bgcolor\":\"#506784\",\"borderwidth\":0},\"sliderdefaults\":{\"bgcolor\":\"#C8D4E3\",\"borderwidth\":1,\"bordercolor\":\"rgb(17,17,17)\",\"tickwidth\":0},\"mapbox\":{\"style\":\"dark\"}}},\"xaxis\":{\"anchor\":\"y\",\"domain\":[0.0,1.0],\"title\":{\"text\":\"Acteur\"},\"categoryorder\":\"total descending\"},\"yaxis\":{\"anchor\":\"x\",\"domain\":[0.0,1.0],\"title\":{\"text\":\"Moyenne de Rating\"}},\"legend\":{\"tracegroupgap\":0},\"title\":{\"text\":\"Moyenne de Rating par Acteur (plus de 10 films)\"},\"barmode\":\"relative\",\"hovermode\":\"x unified\"},                        {\"responsive\": true}                    ).then(function(){\n",
       "                            \n",
       "var gd = document.getElementById('d4bc07f6-0ccb-4fb2-b4da-b7521cee61fb');\n",
       "var x = new MutationObserver(function (mutations, observer) {{\n",
       "        var display = window.getComputedStyle(gd).display;\n",
       "        if (!display || display === 'none') {{\n",
       "            console.log([gd, 'removed!']);\n",
       "            Plotly.purge(gd);\n",
       "            observer.disconnect();\n",
       "        }}\n",
       "}});\n",
       "\n",
       "// Listen for the removal of the full notebook cells\n",
       "var notebookContainer = gd.closest('#notebook-container');\n",
       "if (notebookContainer) {{\n",
       "    x.observe(notebookContainer, {childList: true});\n",
       "}}\n",
       "\n",
       "// Listen for the clearing of the current output cell\n",
       "var outputEl = gd.closest('.output');\n",
       "if (outputEl) {{\n",
       "    x.observe(outputEl, {childList: true});\n",
       "}}\n",
       "\n",
       "                        })                };                });            </script>        </div>"
      ]
     },
     "metadata": {},
     "output_type": "display_data"
    }
   ],
   "execution_count": 44
  },
  {
   "metadata": {
    "ExecuteTime": {
     "end_time": "2024-07-15T14:19:20.004949Z",
     "start_time": "2024-07-15T14:19:19.955106Z"
    }
   },
   "cell_type": "code",
   "source": "spark.stop()",
   "id": "bad7964dad039d4d",
   "outputs": [],
   "execution_count": 45
  }
 ],
 "metadata": {
  "kernelspec": {
   "display_name": "Python 3",
   "language": "python",
   "name": "python3"
  },
  "language_info": {
   "codemirror_mode": {
    "name": "ipython",
    "version": 2
   },
   "file_extension": ".py",
   "mimetype": "text/x-python",
   "name": "python",
   "nbconvert_exporter": "python",
   "pygments_lexer": "ipython2",
   "version": "2.7.6"
  }
 },
 "nbformat": 4,
 "nbformat_minor": 5
}
